{
  "nbformat": 4,
  "nbformat_minor": 0,
  "metadata": {
    "colab": {
      "provenance": [],
      "authorship_tag": "ABX9TyPY5s0AGbdS65bpYymP0/SB",
      "include_colab_link": true
    },
    "kernelspec": {
      "name": "python3",
      "display_name": "Python 3"
    },
    "language_info": {
      "name": "python"
    }
  },
  "cells": [
    {
      "cell_type": "markdown",
      "metadata": {
        "id": "view-in-github",
        "colab_type": "text"
      },
      "source": [
        "<a href=\"https://colab.research.google.com/github/Natthamon-Piy/Chipotle-Visualization/blob/main/Chipotle.ipynb\" target=\"_parent\"><img src=\"https://colab.research.google.com/assets/colab-badge.svg\" alt=\"Open In Colab\"/></a>"
      ]
    },
    {
      "cell_type": "markdown",
      "source": [
        "#Data import"
      ],
      "metadata": {
        "id": "7VRyrKc-ywB2"
      }
    },
    {
      "cell_type": "code",
      "execution_count": 3,
      "metadata": {
        "colab": {
          "base_uri": "https://localhost:8080/",
          "height": 206
        },
        "id": "EziLKMLRpNU4",
        "outputId": "638efe43-de64-4ebc-9239-d668d005e4f6"
      },
      "outputs": [
        {
          "output_type": "execute_result",
          "data": {
            "text/plain": [
              "   order_id  quantity                              item_name  \\\n",
              "0         1         1           Chips and Fresh Tomato Salsa   \n",
              "1         1         1                                   Izze   \n",
              "2         1         1                       Nantucket Nectar   \n",
              "3         1         1  Chips and Tomatillo-Green Chili Salsa   \n",
              "4         2         2                           Chicken Bowl   \n",
              "\n",
              "                                  choice_description item_price  \n",
              "0                                                NaN     $2.39   \n",
              "1                                       [Clementine]     $3.39   \n",
              "2                                            [Apple]     $3.39   \n",
              "3                                                NaN     $2.39   \n",
              "4  [Tomatillo-Red Chili Salsa (Hot), [Black Beans...    $16.98   "
            ],
            "text/html": [
              "\n",
              "  <div id=\"df-21b8b0a6-d1a0-4e28-bd6c-14ff4c82bafe\" class=\"colab-df-container\">\n",
              "    <div>\n",
              "<style scoped>\n",
              "    .dataframe tbody tr th:only-of-type {\n",
              "        vertical-align: middle;\n",
              "    }\n",
              "\n",
              "    .dataframe tbody tr th {\n",
              "        vertical-align: top;\n",
              "    }\n",
              "\n",
              "    .dataframe thead th {\n",
              "        text-align: right;\n",
              "    }\n",
              "</style>\n",
              "<table border=\"1\" class=\"dataframe\">\n",
              "  <thead>\n",
              "    <tr style=\"text-align: right;\">\n",
              "      <th></th>\n",
              "      <th>order_id</th>\n",
              "      <th>quantity</th>\n",
              "      <th>item_name</th>\n",
              "      <th>choice_description</th>\n",
              "      <th>item_price</th>\n",
              "    </tr>\n",
              "  </thead>\n",
              "  <tbody>\n",
              "    <tr>\n",
              "      <th>0</th>\n",
              "      <td>1</td>\n",
              "      <td>1</td>\n",
              "      <td>Chips and Fresh Tomato Salsa</td>\n",
              "      <td>NaN</td>\n",
              "      <td>$2.39</td>\n",
              "    </tr>\n",
              "    <tr>\n",
              "      <th>1</th>\n",
              "      <td>1</td>\n",
              "      <td>1</td>\n",
              "      <td>Izze</td>\n",
              "      <td>[Clementine]</td>\n",
              "      <td>$3.39</td>\n",
              "    </tr>\n",
              "    <tr>\n",
              "      <th>2</th>\n",
              "      <td>1</td>\n",
              "      <td>1</td>\n",
              "      <td>Nantucket Nectar</td>\n",
              "      <td>[Apple]</td>\n",
              "      <td>$3.39</td>\n",
              "    </tr>\n",
              "    <tr>\n",
              "      <th>3</th>\n",
              "      <td>1</td>\n",
              "      <td>1</td>\n",
              "      <td>Chips and Tomatillo-Green Chili Salsa</td>\n",
              "      <td>NaN</td>\n",
              "      <td>$2.39</td>\n",
              "    </tr>\n",
              "    <tr>\n",
              "      <th>4</th>\n",
              "      <td>2</td>\n",
              "      <td>2</td>\n",
              "      <td>Chicken Bowl</td>\n",
              "      <td>[Tomatillo-Red Chili Salsa (Hot), [Black Beans...</td>\n",
              "      <td>$16.98</td>\n",
              "    </tr>\n",
              "  </tbody>\n",
              "</table>\n",
              "</div>\n",
              "    <div class=\"colab-df-buttons\">\n",
              "\n",
              "  <div class=\"colab-df-container\">\n",
              "    <button class=\"colab-df-convert\" onclick=\"convertToInteractive('df-21b8b0a6-d1a0-4e28-bd6c-14ff4c82bafe')\"\n",
              "            title=\"Convert this dataframe to an interactive table.\"\n",
              "            style=\"display:none;\">\n",
              "\n",
              "  <svg xmlns=\"http://www.w3.org/2000/svg\" height=\"24px\" viewBox=\"0 -960 960 960\">\n",
              "    <path d=\"M120-120v-720h720v720H120Zm60-500h600v-160H180v160Zm220 220h160v-160H400v160Zm0 220h160v-160H400v160ZM180-400h160v-160H180v160Zm440 0h160v-160H620v160ZM180-180h160v-160H180v160Zm440 0h160v-160H620v160Z\"/>\n",
              "  </svg>\n",
              "    </button>\n",
              "\n",
              "  <style>\n",
              "    .colab-df-container {\n",
              "      display:flex;\n",
              "      gap: 12px;\n",
              "    }\n",
              "\n",
              "    .colab-df-convert {\n",
              "      background-color: #E8F0FE;\n",
              "      border: none;\n",
              "      border-radius: 50%;\n",
              "      cursor: pointer;\n",
              "      display: none;\n",
              "      fill: #1967D2;\n",
              "      height: 32px;\n",
              "      padding: 0 0 0 0;\n",
              "      width: 32px;\n",
              "    }\n",
              "\n",
              "    .colab-df-convert:hover {\n",
              "      background-color: #E2EBFA;\n",
              "      box-shadow: 0px 1px 2px rgba(60, 64, 67, 0.3), 0px 1px 3px 1px rgba(60, 64, 67, 0.15);\n",
              "      fill: #174EA6;\n",
              "    }\n",
              "\n",
              "    .colab-df-buttons div {\n",
              "      margin-bottom: 4px;\n",
              "    }\n",
              "\n",
              "    [theme=dark] .colab-df-convert {\n",
              "      background-color: #3B4455;\n",
              "      fill: #D2E3FC;\n",
              "    }\n",
              "\n",
              "    [theme=dark] .colab-df-convert:hover {\n",
              "      background-color: #434B5C;\n",
              "      box-shadow: 0px 1px 3px 1px rgba(0, 0, 0, 0.15);\n",
              "      filter: drop-shadow(0px 1px 2px rgba(0, 0, 0, 0.3));\n",
              "      fill: #FFFFFF;\n",
              "    }\n",
              "  </style>\n",
              "\n",
              "    <script>\n",
              "      const buttonEl =\n",
              "        document.querySelector('#df-21b8b0a6-d1a0-4e28-bd6c-14ff4c82bafe button.colab-df-convert');\n",
              "      buttonEl.style.display =\n",
              "        google.colab.kernel.accessAllowed ? 'block' : 'none';\n",
              "\n",
              "      async function convertToInteractive(key) {\n",
              "        const element = document.querySelector('#df-21b8b0a6-d1a0-4e28-bd6c-14ff4c82bafe');\n",
              "        const dataTable =\n",
              "          await google.colab.kernel.invokeFunction('convertToInteractive',\n",
              "                                                    [key], {});\n",
              "        if (!dataTable) return;\n",
              "\n",
              "        const docLinkHtml = 'Like what you see? Visit the ' +\n",
              "          '<a target=\"_blank\" href=https://colab.research.google.com/notebooks/data_table.ipynb>data table notebook</a>'\n",
              "          + ' to learn more about interactive tables.';\n",
              "        element.innerHTML = '';\n",
              "        dataTable['output_type'] = 'display_data';\n",
              "        await google.colab.output.renderOutput(dataTable, element);\n",
              "        const docLink = document.createElement('div');\n",
              "        docLink.innerHTML = docLinkHtml;\n",
              "        element.appendChild(docLink);\n",
              "      }\n",
              "    </script>\n",
              "  </div>\n",
              "\n",
              "\n",
              "    <div id=\"df-233b8e0d-4a6e-4d32-b438-9f7361d66c39\">\n",
              "      <button class=\"colab-df-quickchart\" onclick=\"quickchart('df-233b8e0d-4a6e-4d32-b438-9f7361d66c39')\"\n",
              "                title=\"Suggest charts\"\n",
              "                style=\"display:none;\">\n",
              "\n",
              "<svg xmlns=\"http://www.w3.org/2000/svg\" height=\"24px\"viewBox=\"0 0 24 24\"\n",
              "     width=\"24px\">\n",
              "    <g>\n",
              "        <path d=\"M19 3H5c-1.1 0-2 .9-2 2v14c0 1.1.9 2 2 2h14c1.1 0 2-.9 2-2V5c0-1.1-.9-2-2-2zM9 17H7v-7h2v7zm4 0h-2V7h2v10zm4 0h-2v-4h2v4z\"/>\n",
              "    </g>\n",
              "</svg>\n",
              "      </button>\n",
              "\n",
              "<style>\n",
              "  .colab-df-quickchart {\n",
              "      --bg-color: #E8F0FE;\n",
              "      --fill-color: #1967D2;\n",
              "      --hover-bg-color: #E2EBFA;\n",
              "      --hover-fill-color: #174EA6;\n",
              "      --disabled-fill-color: #AAA;\n",
              "      --disabled-bg-color: #DDD;\n",
              "  }\n",
              "\n",
              "  [theme=dark] .colab-df-quickchart {\n",
              "      --bg-color: #3B4455;\n",
              "      --fill-color: #D2E3FC;\n",
              "      --hover-bg-color: #434B5C;\n",
              "      --hover-fill-color: #FFFFFF;\n",
              "      --disabled-bg-color: #3B4455;\n",
              "      --disabled-fill-color: #666;\n",
              "  }\n",
              "\n",
              "  .colab-df-quickchart {\n",
              "    background-color: var(--bg-color);\n",
              "    border: none;\n",
              "    border-radius: 50%;\n",
              "    cursor: pointer;\n",
              "    display: none;\n",
              "    fill: var(--fill-color);\n",
              "    height: 32px;\n",
              "    padding: 0;\n",
              "    width: 32px;\n",
              "  }\n",
              "\n",
              "  .colab-df-quickchart:hover {\n",
              "    background-color: var(--hover-bg-color);\n",
              "    box-shadow: 0 1px 2px rgba(60, 64, 67, 0.3), 0 1px 3px 1px rgba(60, 64, 67, 0.15);\n",
              "    fill: var(--button-hover-fill-color);\n",
              "  }\n",
              "\n",
              "  .colab-df-quickchart-complete:disabled,\n",
              "  .colab-df-quickchart-complete:disabled:hover {\n",
              "    background-color: var(--disabled-bg-color);\n",
              "    fill: var(--disabled-fill-color);\n",
              "    box-shadow: none;\n",
              "  }\n",
              "\n",
              "  .colab-df-spinner {\n",
              "    border: 2px solid var(--fill-color);\n",
              "    border-color: transparent;\n",
              "    border-bottom-color: var(--fill-color);\n",
              "    animation:\n",
              "      spin 1s steps(1) infinite;\n",
              "  }\n",
              "\n",
              "  @keyframes spin {\n",
              "    0% {\n",
              "      border-color: transparent;\n",
              "      border-bottom-color: var(--fill-color);\n",
              "      border-left-color: var(--fill-color);\n",
              "    }\n",
              "    20% {\n",
              "      border-color: transparent;\n",
              "      border-left-color: var(--fill-color);\n",
              "      border-top-color: var(--fill-color);\n",
              "    }\n",
              "    30% {\n",
              "      border-color: transparent;\n",
              "      border-left-color: var(--fill-color);\n",
              "      border-top-color: var(--fill-color);\n",
              "      border-right-color: var(--fill-color);\n",
              "    }\n",
              "    40% {\n",
              "      border-color: transparent;\n",
              "      border-right-color: var(--fill-color);\n",
              "      border-top-color: var(--fill-color);\n",
              "    }\n",
              "    60% {\n",
              "      border-color: transparent;\n",
              "      border-right-color: var(--fill-color);\n",
              "    }\n",
              "    80% {\n",
              "      border-color: transparent;\n",
              "      border-right-color: var(--fill-color);\n",
              "      border-bottom-color: var(--fill-color);\n",
              "    }\n",
              "    90% {\n",
              "      border-color: transparent;\n",
              "      border-bottom-color: var(--fill-color);\n",
              "    }\n",
              "  }\n",
              "</style>\n",
              "\n",
              "      <script>\n",
              "        async function quickchart(key) {\n",
              "          const quickchartButtonEl =\n",
              "            document.querySelector('#' + key + ' button');\n",
              "          quickchartButtonEl.disabled = true;  // To prevent multiple clicks.\n",
              "          quickchartButtonEl.classList.add('colab-df-spinner');\n",
              "          try {\n",
              "            const charts = await google.colab.kernel.invokeFunction(\n",
              "                'suggestCharts', [key], {});\n",
              "          } catch (error) {\n",
              "            console.error('Error during call to suggestCharts:', error);\n",
              "          }\n",
              "          quickchartButtonEl.classList.remove('colab-df-spinner');\n",
              "          quickchartButtonEl.classList.add('colab-df-quickchart-complete');\n",
              "        }\n",
              "        (() => {\n",
              "          let quickchartButtonEl =\n",
              "            document.querySelector('#df-233b8e0d-4a6e-4d32-b438-9f7361d66c39 button');\n",
              "          quickchartButtonEl.style.display =\n",
              "            google.colab.kernel.accessAllowed ? 'block' : 'none';\n",
              "        })();\n",
              "      </script>\n",
              "    </div>\n",
              "\n",
              "    </div>\n",
              "  </div>\n"
            ],
            "application/vnd.google.colaboratory.intrinsic+json": {
              "type": "dataframe",
              "variable_name": "df",
              "summary": "{\n  \"name\": \"df\",\n  \"rows\": 4622,\n  \"fields\": [\n    {\n      \"column\": \"order_id\",\n      \"properties\": {\n        \"dtype\": \"number\",\n        \"std\": 528,\n        \"min\": 1,\n        \"max\": 1834,\n        \"num_unique_values\": 1834,\n        \"samples\": [\n          644,\n          333,\n          991\n        ],\n        \"semantic_type\": \"\",\n        \"description\": \"\"\n      }\n    },\n    {\n      \"column\": \"quantity\",\n      \"properties\": {\n        \"dtype\": \"number\",\n        \"std\": 0,\n        \"min\": 1,\n        \"max\": 15,\n        \"num_unique_values\": 9,\n        \"samples\": [\n          8,\n          2,\n          15\n        ],\n        \"semantic_type\": \"\",\n        \"description\": \"\"\n      }\n    },\n    {\n      \"column\": \"item_name\",\n      \"properties\": {\n        \"dtype\": \"category\",\n        \"num_unique_values\": 50,\n        \"samples\": [\n          \"Barbacoa Burrito\",\n          \"Crispy Tacos\",\n          \"Chips and Roasted Chili Corn Salsa\"\n        ],\n        \"semantic_type\": \"\",\n        \"description\": \"\"\n      }\n    },\n    {\n      \"column\": \"choice_description\",\n      \"properties\": {\n        \"dtype\": \"category\",\n        \"num_unique_values\": 1043,\n        \"samples\": [\n          \"[Roasted Chili Corn Salsa, [Black Beans, Sour Cream, Cheese, Guacamole]]\",\n          \"[Tomatillo Red Chili Salsa, [Guacamole, Cheese]]\",\n          \"[Fresh Tomato Salsa, [Rice, Cheese, Sour Cream, Guacamole, Lettuce]]\"\n        ],\n        \"semantic_type\": \"\",\n        \"description\": \"\"\n      }\n    },\n    {\n      \"column\": \"item_price\",\n      \"properties\": {\n        \"dtype\": \"category\",\n        \"num_unique_values\": 78,\n        \"samples\": [\n          \"$23.50 \",\n          \"$2.39 \",\n          \"$7.40 \"\n        ],\n        \"semantic_type\": \"\",\n        \"description\": \"\"\n      }\n    }\n  ]\n}"
            }
          },
          "metadata": {},
          "execution_count": 3
        }
      ],
      "source": [
        "import pandas as pd\n",
        "import plotly.express as px\n",
        "import seaborn as sns\n",
        "\n",
        "df = pd.read_csv('https://raw.githubusercontent.com/justmarkham/DAT8/master/data/chipotle.tsv', sep='\\t')\n",
        "df.head()\n"
      ]
    },
    {
      "cell_type": "markdown",
      "source": [
        "#Best selling menu"
      ],
      "metadata": {
        "id": "D4bAuNqAy8oQ"
      }
    },
    {
      "cell_type": "markdown",
      "source": [
        "###dataframe for best selling menu"
      ],
      "metadata": {
        "id": "Nw5ay-EhzA5-"
      }
    },
    {
      "cell_type": "code",
      "source": [
        "unique_item_count = df['item_name'].nunique()\n",
        "print(\"Number of unique item names:\")\n",
        "display(unique_item_count)"
      ],
      "metadata": {
        "colab": {
          "base_uri": "https://localhost:8080/",
          "height": 52
        },
        "id": "7QHvUReRqVvg",
        "outputId": "d576c885-b841-414a-97c9-72388a178e40"
      },
      "execution_count": 7,
      "outputs": [
        {
          "output_type": "stream",
          "name": "stdout",
          "text": [
            "Number of unique item names:\n"
          ]
        },
        {
          "output_type": "display_data",
          "data": {
            "text/plain": [
              "50"
            ]
          },
          "metadata": {}
        }
      ]
    },
    {
      "cell_type": "markdown",
      "source": [
        "##Top 15 Most Ordered Item"
      ],
      "metadata": {
        "id": "3SFruQM_zGlw"
      }
    },
    {
      "cell_type": "code",
      "source": [
        "item_quantities = df.groupby('item_name')['quantity'].sum()\n",
        "top_15_items = item_quantities.sort_values(ascending=False).head(15)\n",
        "\n",
        "fig = px.bar(top_15_items, x='quantity', y=top_15_items.index, orientation='h', title='Top 15 Quantity Ordered per Item')\n",
        "fig.update_layout(yaxis={'categoryorder':'total ascending'})\n",
        "fig.show()"
      ],
      "metadata": {
        "colab": {
          "base_uri": "https://localhost:8080/",
          "height": 542
        },
        "outputId": "f5265a4e-4494-422c-e44a-91044a004eef",
        "id": "71YQR2y1tgoY"
      },
      "execution_count": 10,
      "outputs": [
        {
          "output_type": "display_data",
          "data": {
            "text/html": [
              "<html>\n",
              "<head><meta charset=\"utf-8\" /></head>\n",
              "<body>\n",
              "    <div>            <script src=\"https://cdnjs.cloudflare.com/ajax/libs/mathjax/2.7.5/MathJax.js?config=TeX-AMS-MML_SVG\"></script><script type=\"text/javascript\">if (window.MathJax && window.MathJax.Hub && window.MathJax.Hub.Config) {window.MathJax.Hub.Config({SVG: {font: \"STIX-Web\"}});}</script>                <script type=\"text/javascript\">window.PlotlyConfig = {MathJaxConfig: 'local'};</script>\n",
              "        <script charset=\"utf-8\" src=\"https://cdn.plot.ly/plotly-2.35.2.min.js\"></script>                <div id=\"1aad5928-1509-4a18-b1a5-c1a7adfabfc8\" class=\"plotly-graph-div\" style=\"height:525px; width:100%;\"></div>            <script type=\"text/javascript\">                                    window.PLOTLYENV=window.PLOTLYENV || {};                                    if (document.getElementById(\"1aad5928-1509-4a18-b1a5-c1a7adfabfc8\")) {                    Plotly.newPlot(                        \"1aad5928-1509-4a18-b1a5-c1a7adfabfc8\",                        [{\"alignmentgroup\":\"True\",\"hovertemplate\":\"quantity=%{x}\\u003cbr\\u003eitem_name=%{y}\\u003cextra\\u003e\\u003c\\u002fextra\\u003e\",\"legendgroup\":\"\",\"marker\":{\"color\":\"#636efa\",\"pattern\":{\"shape\":\"\"}},\"name\":\"\",\"offsetgroup\":\"\",\"orientation\":\"h\",\"showlegend\":false,\"textposition\":\"auto\",\"x\":[761,591,506,386,351,230,221,211,130,126,123,120,110,97,91],\"xaxis\":\"x\",\"y\":[\"Chicken Bowl\",\"Chicken Burrito\",\"Chips and Guacamole\",\"Steak Burrito\",\"Canned Soft Drink\",\"Chips\",\"Steak Bowl\",\"Bottled Water\",\"Chips and Fresh Tomato Salsa\",\"Canned Soda\",\"Chicken Salad Bowl\",\"Chicken Soft Tacos\",\"Side of Chips\",\"Veggie Burrito\",\"Barbacoa Burrito\"],\"yaxis\":\"y\",\"type\":\"bar\"}],                        {\"template\":{\"data\":{\"histogram2dcontour\":[{\"type\":\"histogram2dcontour\",\"colorbar\":{\"outlinewidth\":0,\"ticks\":\"\"},\"colorscale\":[[0.0,\"#0d0887\"],[0.1111111111111111,\"#46039f\"],[0.2222222222222222,\"#7201a8\"],[0.3333333333333333,\"#9c179e\"],[0.4444444444444444,\"#bd3786\"],[0.5555555555555556,\"#d8576b\"],[0.6666666666666666,\"#ed7953\"],[0.7777777777777778,\"#fb9f3a\"],[0.8888888888888888,\"#fdca26\"],[1.0,\"#f0f921\"]]}],\"choropleth\":[{\"type\":\"choropleth\",\"colorbar\":{\"outlinewidth\":0,\"ticks\":\"\"}}],\"histogram2d\":[{\"type\":\"histogram2d\",\"colorbar\":{\"outlinewidth\":0,\"ticks\":\"\"},\"colorscale\":[[0.0,\"#0d0887\"],[0.1111111111111111,\"#46039f\"],[0.2222222222222222,\"#7201a8\"],[0.3333333333333333,\"#9c179e\"],[0.4444444444444444,\"#bd3786\"],[0.5555555555555556,\"#d8576b\"],[0.6666666666666666,\"#ed7953\"],[0.7777777777777778,\"#fb9f3a\"],[0.8888888888888888,\"#fdca26\"],[1.0,\"#f0f921\"]]}],\"heatmap\":[{\"type\":\"heatmap\",\"colorbar\":{\"outlinewidth\":0,\"ticks\":\"\"},\"colorscale\":[[0.0,\"#0d0887\"],[0.1111111111111111,\"#46039f\"],[0.2222222222222222,\"#7201a8\"],[0.3333333333333333,\"#9c179e\"],[0.4444444444444444,\"#bd3786\"],[0.5555555555555556,\"#d8576b\"],[0.6666666666666666,\"#ed7953\"],[0.7777777777777778,\"#fb9f3a\"],[0.8888888888888888,\"#fdca26\"],[1.0,\"#f0f921\"]]}],\"heatmapgl\":[{\"type\":\"heatmapgl\",\"colorbar\":{\"outlinewidth\":0,\"ticks\":\"\"},\"colorscale\":[[0.0,\"#0d0887\"],[0.1111111111111111,\"#46039f\"],[0.2222222222222222,\"#7201a8\"],[0.3333333333333333,\"#9c179e\"],[0.4444444444444444,\"#bd3786\"],[0.5555555555555556,\"#d8576b\"],[0.6666666666666666,\"#ed7953\"],[0.7777777777777778,\"#fb9f3a\"],[0.8888888888888888,\"#fdca26\"],[1.0,\"#f0f921\"]]}],\"contourcarpet\":[{\"type\":\"contourcarpet\",\"colorbar\":{\"outlinewidth\":0,\"ticks\":\"\"}}],\"contour\":[{\"type\":\"contour\",\"colorbar\":{\"outlinewidth\":0,\"ticks\":\"\"},\"colorscale\":[[0.0,\"#0d0887\"],[0.1111111111111111,\"#46039f\"],[0.2222222222222222,\"#7201a8\"],[0.3333333333333333,\"#9c179e\"],[0.4444444444444444,\"#bd3786\"],[0.5555555555555556,\"#d8576b\"],[0.6666666666666666,\"#ed7953\"],[0.7777777777777778,\"#fb9f3a\"],[0.8888888888888888,\"#fdca26\"],[1.0,\"#f0f921\"]]}],\"surface\":[{\"type\":\"surface\",\"colorbar\":{\"outlinewidth\":0,\"ticks\":\"\"},\"colorscale\":[[0.0,\"#0d0887\"],[0.1111111111111111,\"#46039f\"],[0.2222222222222222,\"#7201a8\"],[0.3333333333333333,\"#9c179e\"],[0.4444444444444444,\"#bd3786\"],[0.5555555555555556,\"#d8576b\"],[0.6666666666666666,\"#ed7953\"],[0.7777777777777778,\"#fb9f3a\"],[0.8888888888888888,\"#fdca26\"],[1.0,\"#f0f921\"]]}],\"mesh3d\":[{\"type\":\"mesh3d\",\"colorbar\":{\"outlinewidth\":0,\"ticks\":\"\"}}],\"scatter\":[{\"fillpattern\":{\"fillmode\":\"overlay\",\"size\":10,\"solidity\":0.2},\"type\":\"scatter\"}],\"parcoords\":[{\"type\":\"parcoords\",\"line\":{\"colorbar\":{\"outlinewidth\":0,\"ticks\":\"\"}}}],\"scatterpolargl\":[{\"type\":\"scatterpolargl\",\"marker\":{\"colorbar\":{\"outlinewidth\":0,\"ticks\":\"\"}}}],\"bar\":[{\"error_x\":{\"color\":\"#2a3f5f\"},\"error_y\":{\"color\":\"#2a3f5f\"},\"marker\":{\"line\":{\"color\":\"#E5ECF6\",\"width\":0.5},\"pattern\":{\"fillmode\":\"overlay\",\"size\":10,\"solidity\":0.2}},\"type\":\"bar\"}],\"scattergeo\":[{\"type\":\"scattergeo\",\"marker\":{\"colorbar\":{\"outlinewidth\":0,\"ticks\":\"\"}}}],\"scatterpolar\":[{\"type\":\"scatterpolar\",\"marker\":{\"colorbar\":{\"outlinewidth\":0,\"ticks\":\"\"}}}],\"histogram\":[{\"marker\":{\"pattern\":{\"fillmode\":\"overlay\",\"size\":10,\"solidity\":0.2}},\"type\":\"histogram\"}],\"scattergl\":[{\"type\":\"scattergl\",\"marker\":{\"colorbar\":{\"outlinewidth\":0,\"ticks\":\"\"}}}],\"scatter3d\":[{\"type\":\"scatter3d\",\"line\":{\"colorbar\":{\"outlinewidth\":0,\"ticks\":\"\"}},\"marker\":{\"colorbar\":{\"outlinewidth\":0,\"ticks\":\"\"}}}],\"scattermapbox\":[{\"type\":\"scattermapbox\",\"marker\":{\"colorbar\":{\"outlinewidth\":0,\"ticks\":\"\"}}}],\"scatterternary\":[{\"type\":\"scatterternary\",\"marker\":{\"colorbar\":{\"outlinewidth\":0,\"ticks\":\"\"}}}],\"scattercarpet\":[{\"type\":\"scattercarpet\",\"marker\":{\"colorbar\":{\"outlinewidth\":0,\"ticks\":\"\"}}}],\"carpet\":[{\"aaxis\":{\"endlinecolor\":\"#2a3f5f\",\"gridcolor\":\"white\",\"linecolor\":\"white\",\"minorgridcolor\":\"white\",\"startlinecolor\":\"#2a3f5f\"},\"baxis\":{\"endlinecolor\":\"#2a3f5f\",\"gridcolor\":\"white\",\"linecolor\":\"white\",\"minorgridcolor\":\"white\",\"startlinecolor\":\"#2a3f5f\"},\"type\":\"carpet\"}],\"table\":[{\"cells\":{\"fill\":{\"color\":\"#EBF0F8\"},\"line\":{\"color\":\"white\"}},\"header\":{\"fill\":{\"color\":\"#C8D4E3\"},\"line\":{\"color\":\"white\"}},\"type\":\"table\"}],\"barpolar\":[{\"marker\":{\"line\":{\"color\":\"#E5ECF6\",\"width\":0.5},\"pattern\":{\"fillmode\":\"overlay\",\"size\":10,\"solidity\":0.2}},\"type\":\"barpolar\"}],\"pie\":[{\"automargin\":true,\"type\":\"pie\"}]},\"layout\":{\"autotypenumbers\":\"strict\",\"colorway\":[\"#636efa\",\"#EF553B\",\"#00cc96\",\"#ab63fa\",\"#FFA15A\",\"#19d3f3\",\"#FF6692\",\"#B6E880\",\"#FF97FF\",\"#FECB52\"],\"font\":{\"color\":\"#2a3f5f\"},\"hovermode\":\"closest\",\"hoverlabel\":{\"align\":\"left\"},\"paper_bgcolor\":\"white\",\"plot_bgcolor\":\"#E5ECF6\",\"polar\":{\"bgcolor\":\"#E5ECF6\",\"angularaxis\":{\"gridcolor\":\"white\",\"linecolor\":\"white\",\"ticks\":\"\"},\"radialaxis\":{\"gridcolor\":\"white\",\"linecolor\":\"white\",\"ticks\":\"\"}},\"ternary\":{\"bgcolor\":\"#E5ECF6\",\"aaxis\":{\"gridcolor\":\"white\",\"linecolor\":\"white\",\"ticks\":\"\"},\"baxis\":{\"gridcolor\":\"white\",\"linecolor\":\"white\",\"ticks\":\"\"},\"caxis\":{\"gridcolor\":\"white\",\"linecolor\":\"white\",\"ticks\":\"\"}},\"coloraxis\":{\"colorbar\":{\"outlinewidth\":0,\"ticks\":\"\"}},\"colorscale\":{\"sequential\":[[0.0,\"#0d0887\"],[0.1111111111111111,\"#46039f\"],[0.2222222222222222,\"#7201a8\"],[0.3333333333333333,\"#9c179e\"],[0.4444444444444444,\"#bd3786\"],[0.5555555555555556,\"#d8576b\"],[0.6666666666666666,\"#ed7953\"],[0.7777777777777778,\"#fb9f3a\"],[0.8888888888888888,\"#fdca26\"],[1.0,\"#f0f921\"]],\"sequentialminus\":[[0.0,\"#0d0887\"],[0.1111111111111111,\"#46039f\"],[0.2222222222222222,\"#7201a8\"],[0.3333333333333333,\"#9c179e\"],[0.4444444444444444,\"#bd3786\"],[0.5555555555555556,\"#d8576b\"],[0.6666666666666666,\"#ed7953\"],[0.7777777777777778,\"#fb9f3a\"],[0.8888888888888888,\"#fdca26\"],[1.0,\"#f0f921\"]],\"diverging\":[[0,\"#8e0152\"],[0.1,\"#c51b7d\"],[0.2,\"#de77ae\"],[0.3,\"#f1b6da\"],[0.4,\"#fde0ef\"],[0.5,\"#f7f7f7\"],[0.6,\"#e6f5d0\"],[0.7,\"#b8e186\"],[0.8,\"#7fbc41\"],[0.9,\"#4d9221\"],[1,\"#276419\"]]},\"xaxis\":{\"gridcolor\":\"white\",\"linecolor\":\"white\",\"ticks\":\"\",\"title\":{\"standoff\":15},\"zerolinecolor\":\"white\",\"automargin\":true,\"zerolinewidth\":2},\"yaxis\":{\"gridcolor\":\"white\",\"linecolor\":\"white\",\"ticks\":\"\",\"title\":{\"standoff\":15},\"zerolinecolor\":\"white\",\"automargin\":true,\"zerolinewidth\":2},\"scene\":{\"xaxis\":{\"backgroundcolor\":\"#E5ECF6\",\"gridcolor\":\"white\",\"linecolor\":\"white\",\"showbackground\":true,\"ticks\":\"\",\"zerolinecolor\":\"white\",\"gridwidth\":2},\"yaxis\":{\"backgroundcolor\":\"#E5ECF6\",\"gridcolor\":\"white\",\"linecolor\":\"white\",\"showbackground\":true,\"ticks\":\"\",\"zerolinecolor\":\"white\",\"gridwidth\":2},\"zaxis\":{\"backgroundcolor\":\"#E5ECF6\",\"gridcolor\":\"white\",\"linecolor\":\"white\",\"showbackground\":true,\"ticks\":\"\",\"zerolinecolor\":\"white\",\"gridwidth\":2}},\"shapedefaults\":{\"line\":{\"color\":\"#2a3f5f\"}},\"annotationdefaults\":{\"arrowcolor\":\"#2a3f5f\",\"arrowhead\":0,\"arrowwidth\":1},\"geo\":{\"bgcolor\":\"white\",\"landcolor\":\"#E5ECF6\",\"subunitcolor\":\"white\",\"showland\":true,\"showlakes\":true,\"lakecolor\":\"white\"},\"title\":{\"x\":0.05},\"mapbox\":{\"style\":\"light\"}}},\"xaxis\":{\"anchor\":\"y\",\"domain\":[0.0,1.0],\"title\":{\"text\":\"quantity\"}},\"yaxis\":{\"anchor\":\"x\",\"domain\":[0.0,1.0],\"title\":{\"text\":\"item_name\"},\"categoryorder\":\"total ascending\"},\"legend\":{\"tracegroupgap\":0},\"title\":{\"text\":\"Top 15 Quantity Ordered per Item\"},\"barmode\":\"relative\"},                        {\"responsive\": true}                    ).then(function(){\n",
              "                            \n",
              "var gd = document.getElementById('1aad5928-1509-4a18-b1a5-c1a7adfabfc8');\n",
              "var x = new MutationObserver(function (mutations, observer) {{\n",
              "        var display = window.getComputedStyle(gd).display;\n",
              "        if (!display || display === 'none') {{\n",
              "            console.log([gd, 'removed!']);\n",
              "            Plotly.purge(gd);\n",
              "            observer.disconnect();\n",
              "        }}\n",
              "}});\n",
              "\n",
              "// Listen for the removal of the full notebook cells\n",
              "var notebookContainer = gd.closest('#notebook-container');\n",
              "if (notebookContainer) {{\n",
              "    x.observe(notebookContainer, {childList: true});\n",
              "}}\n",
              "\n",
              "// Listen for the clearing of the current output cell\n",
              "var outputEl = gd.closest('.output');\n",
              "if (outputEl) {{\n",
              "    x.observe(outputEl, {childList: true});\n",
              "}}\n",
              "\n",
              "                        })                };                            </script>        </div>\n",
              "</body>\n",
              "</html>"
            ]
          },
          "metadata": {}
        }
      ]
    },
    {
      "cell_type": "markdown",
      "source": [
        "##Distribution of Item Prices for Top 5 Most Ordered Items"
      ],
      "metadata": {
        "id": "XfYMlc5UzLlD"
      }
    },
    {
      "cell_type": "code",
      "source": [
        "# Get the top 5 most ordered items\n",
        "item_quantities = df.groupby('item_name')['quantity'].sum()\n",
        "top_5_items = item_quantities.sort_values(ascending=False).head(5).index\n",
        "\n",
        "# Filter the dataframe to include only the top 5 items\n",
        "df_top5 = df[df['item_name'].isin(top_5_items)].copy() # Use .copy() to avoid SettingWithCopyWarning\n",
        "\n",
        "# Convert item_price to numeric\n",
        "df_top5.loc[:, 'item_price'] = df_top5['item_price'].str.replace('$', '').astype(float)\n",
        "\n",
        "# Divide item_price by quantity if quantity is greater than 1\n",
        "df_top5.loc[df_top5['quantity'] > 1, 'item_price'] = df_top5['item_price'] / df_top5['quantity']\n",
        "\n",
        "\n",
        "# Sort df_top5 by the total quantity of each item for plotting order\n",
        "# Create a temporary column for sorting\n",
        "item_total_quantities = df_top5.groupby('item_name')['quantity'].transform('sum')\n",
        "df_top5_sorted = df_top5.assign(total_quantity=item_total_quantities).sort_values('total_quantity', ascending=False)\n",
        "\n",
        "# Create a box plot of item prices for the top 5 items with quantity in hover data\n",
        "fig = px.box(df_top5_sorted, x='item_name', y='item_price',\n",
        "             title='Distribution of Item Prices per Item for Top 5 Most Ordered Items (Ordered by Quantity)',\n",
        "             hover_data=['quantity'],\n",
        "             category_orders={\"item_name\": top_5_items.tolist()}) # Explicitly set category order\n",
        "\n",
        "# fig.update_layout(yaxis={'categoryorder':'array', 'categoryarray': top_5_items[::-1]}) # Removed previous ordering attempt\n",
        "fig.show()"
      ],
      "metadata": {
        "colab": {
          "base_uri": "https://localhost:8080/",
          "height": 542
        },
        "outputId": "7187619c-8682-49e1-faf6-d729928f94aa",
        "id": "_incSvausMKa"
      },
      "execution_count": 21,
      "outputs": [
        {
          "output_type": "display_data",
          "data": {
            "text/html": [
              "<html>\n",
              "<head><meta charset=\"utf-8\" /></head>\n",
              "<body>\n",
              "    <div>            <script src=\"https://cdnjs.cloudflare.com/ajax/libs/mathjax/2.7.5/MathJax.js?config=TeX-AMS-MML_SVG\"></script><script type=\"text/javascript\">if (window.MathJax && window.MathJax.Hub && window.MathJax.Hub.Config) {window.MathJax.Hub.Config({SVG: {font: \"STIX-Web\"}});}</script>                <script type=\"text/javascript\">window.PlotlyConfig = {MathJaxConfig: 'local'};</script>\n",
              "        <script charset=\"utf-8\" src=\"https://cdn.plot.ly/plotly-2.35.2.min.js\"></script>                <div id=\"943eb2d4-9c83-4439-bf9f-e33ca31bc128\" class=\"plotly-graph-div\" style=\"height:525px; width:100%;\"></div>            <script type=\"text/javascript\">                                    window.PLOTLYENV=window.PLOTLYENV || {};                                    if (document.getElementById(\"943eb2d4-9c83-4439-bf9f-e33ca31bc128\")) {                    Plotly.newPlot(                        \"943eb2d4-9c83-4439-bf9f-e33ca31bc128\",                        [{\"alignmentgroup\":\"True\",\"customdata\":[[1],[2],[1],[1],[1],[1],[1],[1],[1],[1],[1],[1],[1],[1],[1],[1],[1],[1],[1],[1],[1],[1],[1],[1],[1],[1],[1],[1],[2],[1],[2],[1],[1],[1],[1],[1],[1],[1],[1],[1],[1],[1],[1],[1],[1],[1],[1],[1],[1],[1],[1],[1],[1],[1],[2],[1],[1],[1],[1],[1],[1],[1],[1],[1],[1],[1],[1],[1],[1],[1],[1],[1],[1],[1],[1],[1],[1],[1],[1],[1],[1],[1],[1],[1],[1],[1],[1],[1],[1],[1],[1],[1],[1],[1],[1],[1],[1],[1],[1],[1],[1],[1],[1],[1],[1],[1],[1],[1],[1],[1],[1],[1],[1],[1],[1],[1],[1],[1],[1],[1],[1],[1],[1],[1],[1],[2],[1],[1],[2],[1],[1],[1],[1],[1],[1],[1],[1],[1],[1],[1],[1],[1],[1],[1],[1],[1],[1],[1],[1],[1],[1],[1],[1],[1],[1],[1],[1],[1],[2],[1],[1],[1],[1],[1],[1],[1],[1],[1],[1],[1],[1],[1],[1],[1],[1],[1],[1],[1],[1],[1],[1],[1],[2],[1],[3],[1],[1],[1],[1],[1],[1],[1],[1],[1],[2],[1],[1],[1],[1],[1],[1],[1],[1],[1],[1],[2],[2],[1],[1],[1],[1],[1],[1],[1],[1],[1],[1],[1],[1],[1],[1],[1],[1],[1],[1],[1],[1],[1],[2],[1],[1],[1],[1],[1],[1],[1],[1],[1],[1],[1],[1],[1],[1],[1],[1],[1],[1],[1],[1],[1],[1],[1],[1],[2],[1],[1],[1],[1],[1],[1],[1],[1],[1],[1],[1],[1],[1],[1],[1],[1],[1],[1],[1],[1],[1],[1],[1],[1],[1],[1],[1],[1],[1],[1],[1],[1],[1],[1],[1],[1],[1],[1],[1],[1],[1],[1],[1],[1],[2],[1],[1],[1],[1],[1],[1],[1],[1],[1],[1],[1],[2],[1],[1],[2],[1],[1],[1],[1],[1],[2],[1],[1],[1],[1],[1],[1],[1],[1],[1],[1],[1],[1],[1],[1],[1],[1],[1],[1],[1],[1],[1],[1],[1],[1],[1],[1],[1],[1],[1],[1],[1],[1],[1],[1],[1],[2],[1],[1],[1],[1],[1],[1],[1],[1],[1],[1],[1],[1],[1],[1],[1],[1],[1],[1],[1],[1],[1],[1],[1],[1],[1],[1],[1],[1],[1],[2],[1],[1],[1],[1],[1],[1],[1],[1],[1],[1],[1],[1],[1],[1],[1],[1],[1],[1],[1],[1],[1],[1],[1],[1],[1],[1],[1],[1],[1],[1],[1],[1],[1],[1],[1],[1],[1],[1],[1],[1],[1],[1],[2],[1],[1],[1],[1],[1],[1],[1],[1],[1],[2],[1],[1],[1],[1],[1],[1],[1],[1],[1],[2],[1],[1],[1],[1],[1],[1],[1],[1],[1],[1],[1],[1],[1],[1],[1],[1],[1],[1],[1],[1],[1],[1],[1],[1],[1],[1],[1],[1],[1],[2],[1],[1],[1],[1],[1],[1],[2],[1],[1],[1],[1],[1],[1],[1],[1],[1],[1],[1],[2],[1],[1],[1],[1],[1],[1],[1],[1],[1],[1],[1],[1],[1],[1],[1],[1],[1],[1],[1],[1],[1],[1],[1],[1],[1],[1],[1],[1],[1],[1],[1],[1],[1],[1],[1],[1],[1],[1],[2],[1],[1],[1],[1],[1],[1],[1],[1],[1],[1],[1],[1],[1],[1],[1],[1],[2],[1],[1],[2],[1],[1],[1],[1],[1],[1],[1],[1],[1],[1],[1],[1],[1],[1],[1],[1],[1],[1],[1],[1],[1],[1],[1],[1],[1],[1],[1],[1],[1],[1],[1],[1],[1],[1],[1],[1],[1],[1],[1],[1],[1],[1],[1],[1],[1],[1],[1],[1],[1],[1],[1],[1],[1],[1],[1],[1],[1],[1],[1],[1],[2],[1],[1],[1],[1],[1],[1],[1],[1],[1],[1],[1],[1],[1],[1],[1],[1],[1],[1],[1],[1],[1],[1],[1],[1],[1],[1],[1],[1],[1],[1],[1],[1],[1],[1],[1],[1],[1],[1],[1],[1],[1],[1],[1],[1],[1],[1],[1],[1],[1],[1],[1],[1],[1],[1],[2],[1],[1],[1],[1],[1],[1],[1],[1],[1],[1],[1],[1],[1],[1],[1],[1],[1],[1],[1],[1],[2],[1],[1],[1],[1],[1],[1],[1],[3],[1],[1],[1],[1],[1],[1],[1],[1],[1],[1],[1],[1],[1],[1],[1],[1],[1],[1],[1],[1],[1],[1],[1],[1],[1],[1],[1],[1],[1],[1],[1],[1],[1],[1],[1],[1],[1],[1],[1],[1],[1],[1],[1],[1],[1],[1],[1],[1],[1],[1],[1],[1],[1],[1],[1],[1],[1],[1],[1],[1],[1],[1],[1],[1],[1],[1],[1],[1],[1],[1],[1],[1],[1],[1],[1],[1],[1],[1],[1],[1],[1],[1],[1],[1],[1],[1],[1],[1],[2],[1],[1],[1],[1],[1],[1],[1],[1],[1],[1],[1],[1],[1],[1],[1],[1],[1],[1],[1],[1],[1],[1],[1],[1],[1],[1],[2],[1],[1],[1],[1],[1],[2],[1],[1],[1],[2],[1],[1],[1],[1],[1],[1],[1],[1],[1],[1],[1],[1],[2],[1],[1],[1],[1],[1],[1],[2],[1],[1],[1],[1],[1],[1],[1],[1],[1],[1],[1],[1],[2],[1],[1],[1],[1],[1],[1],[1],[1],[1],[1],[1],[1],[1],[1],[1],[1],[1],[1],[1],[1],[1],[1],[1],[2],[2],[1],[1],[3],[3],[1],[1],[1],[1],[1],[1],[1],[1],[1],[1],[1],[1],[1],[1],[4],[1],[1],[1],[1],[1],[2],[1],[1],[1],[1],[1],[1],[1],[1],[1],[1],[1],[2],[1],[1],[1],[1],[1],[1],[1],[1],[1],[1],[1],[1],[1],[1],[1],[1],[1],[2],[1],[1],[1],[1],[1],[4],[1],[1],[1],[1],[1],[1],[1],[1],[1],[1],[1],[1],[1],[1],[1],[1],[1],[1],[1],[1],[1],[1],[1],[1],[1],[1],[1],[1],[1],[1],[2],[1],[1],[1],[1],[1],[1],[1],[1],[1],[1],[1],[1],[1],[1],[1],[2],[1],[2],[1],[1],[1],[1],[1],[1],[1],[1],[1],[1],[1],[1],[1],[2],[1],[1],[2],[1],[1],[1],[1],[1],[1],[1],[2],[2],[1],[1],[1],[1],[1],[1],[1],[2],[1],[1],[1],[1],[1],[1],[1],[1],[1],[1],[1],[1],[1],[1],[1],[1],[1],[1],[1],[1],[1],[1],[1],[1],[1],[1],[1],[1],[1],[1],[1],[2],[1],[1],[1],[1],[1],[1],[1],[1],[1],[1],[1],[1],[1],[1],[1],[1],[1],[1],[1],[1],[1],[1],[1],[1],[1],[1],[1],[1],[1],[1],[1],[1],[1],[1],[1],[1],[1],[1],[1],[1],[1],[1],[1],[1],[1],[2],[2],[1],[1],[1],[1],[1],[1],[1],[1],[1],[1],[1],[1],[1],[1],[1],[1],[1],[1],[1],[1],[1],[1],[1],[1],[1],[1],[1],[1],[1],[1],[1],[1],[1],[1],[1],[1],[1],[1],[1],[1],[1],[1],[1],[1],[1],[1],[1],[1],[1],[1],[1],[1],[1],[1],[1],[1],[1],[1],[1],[1],[1],[1],[1],[1],[1],[1],[1],[1],[1],[1],[1],[1],[1],[1],[1],[1],[1],[1],[1],[1],[1],[1],[1],[1],[1],[1],[1],[1],[1],[1],[1],[1],[1],[1],[1],[1],[1],[1],[1],[1],[1],[1],[1],[1],[1],[1],[1],[1],[1],[1],[1],[1],[1],[1],[1],[1],[2],[1],[1],[2],[1],[1],[1],[1],[1],[1],[1],[1],[1],[1],[1],[1],[2],[1],[1],[1],[1],[1],[1],[1],[1],[1],[1],[1],[2],[1],[1],[1],[1],[1],[1],[1],[1],[1],[1],[1],[1],[1],[1],[2],[1],[1],[1],[1],[1],[1],[1],[1],[1],[1],[1],[1],[1],[1],[1],[1],[1],[1],[1],[1],[1],[1],[1],[1],[1],[1],[1],[1],[1],[1],[1],[1],[1],[1],[1],[1],[1],[1],[1],[1],[1],[1],[1],[1],[2],[1],[1],[2],[1],[1],[1],[1],[1],[1],[1],[1],[1],[1],[1],[1],[1],[1],[1],[2],[1],[1],[1],[1],[1],[1],[2],[1],[1],[1],[1],[1],[1],[1],[2],[1],[1],[1],[1],[1],[1],[1],[1],[1],[1],[1],[1],[1],[1],[2],[1],[1],[1],[1],[1],[1],[1],[1],[1],[1],[1],[1],[1],[1],[1],[1],[3],[1],[1],[1],[1],[1],[1],[1],[1],[1],[1],[1],[1],[1],[1],[1],[1],[1],[1],[1],[1],[1],[1],[1],[1],[1],[1],[1],[1],[1],[1],[1],[1],[1],[1],[1],[1],[1],[1],[1],[1],[1],[1],[1],[1],[1],[1],[1],[1],[1],[1],[1],[1],[1],[1],[1],[1],[1],[1],[1],[1],[1],[2],[2],[1],[1],[1],[2],[1],[1],[1],[1],[1],[1],[1],[1],[1],[1],[1],[1],[1],[1],[1],[1],[1],[1],[1],[1],[1],[1],[1],[1],[1],[1],[1],[1],[1],[1],[2],[1],[1],[1],[1],[1],[1],[1],[1],[1],[2],[1],[2],[1],[1],[1],[1],[1],[1],[1],[1],[1],[1],[1],[1],[1],[1],[1],[1],[1],[1],[1],[1],[1],[1],[1],[1],[1],[1],[1],[1],[1],[1],[1],[1],[1],[1],[1],[1],[1],[1],[1],[1],[1],[1],[1],[1],[1],[1],[1],[1],[1],[1],[1],[1],[1],[1],[1],[1],[1],[1],[1],[1],[1],[1],[1],[1],[1],[1],[1],[1],[1],[1],[1],[4],[1],[1],[1],[1],[1],[1],[1],[2],[1],[1],[2],[1],[1],[1],[1],[1],[1],[1],[1],[1],[1],[1],[1],[1],[1],[1],[1],[1],[1],[1],[1],[2],[1],[1],[1],[2],[1],[1],[1],[1],[1],[1],[1],[1],[1],[1],[2],[1],[1],[1],[1],[1],[1],[1],[1],[1],[1],[1],[1],[1],[1],[1],[1],[1],[1],[1],[1],[1],[2],[1],[1],[1],[1],[1],[1],[1],[1],[1],[1],[2],[1],[1],[1],[1],[1],[1],[1],[1],[1],[1],[1],[1],[1],[1],[1],[1],[1],[1],[1],[1],[1],[1],[1],[1],[1],[1],[1],[1],[1],[1],[1],[1],[1],[1],[1],[1],[1],[1],[1],[1],[1],[1],[1],[1],[1],[1],[1],[1],[1],[1],[1],[1],[1],[1],[1],[1],[1],[2],[1],[1],[1],[1],[1],[1],[1],[1],[1],[1],[1],[1],[1],[1],[1],[1],[1],[1],[2],[1],[2],[1],[1],[1],[1],[1],[1],[1],[1],[1],[1],[1],[1],[1],[1],[1],[1],[1],[1],[1],[1],[1],[1],[1],[1],[1],[1],[1],[1],[1],[1],[1],[1],[1],[1],[1],[1],[1],[1],[1],[1],[1],[1],[1],[1],[1],[1],[1],[1],[1],[1],[1],[1],[1],[1],[1],[1],[1],[1],[1],[1],[1],[1],[1],[1],[1],[1],[1],[1],[1],[1],[1],[1],[1],[1],[1],[1],[1],[1],[2],[1],[1],[1],[1],[1],[1],[1],[1],[1],[1],[1],[2],[1],[2],[1],[1],[1],[1],[1],[1],[1],[1],[1],[1],[1],[1],[1],[1],[1],[1],[1],[1],[1],[1],[3],[1],[1],[1],[1],[1],[2],[1],[1],[1],[1],[1],[1],[1],[1],[1],[1],[1],[1],[1],[1],[1],[1],[2],[1],[1],[1],[1],[1],[1],[1],[1],[1],[1],[1],[1],[1],[1],[1],[1],[1],[1],[1],[1],[1],[1],[1],[1],[1],[1],[1],[1],[1],[1],[3],[1],[1],[1],[1],[1],[1],[1],[1],[1],[1],[2],[1],[1],[1],[1],[1],[1],[1],[1],[1],[1],[1],[1],[1],[1],[1],[1],[1],[1],[1],[1],[1],[1],[1],[2],[1],[1],[1],[1],[1],[1],[1],[1],[1],[1],[1],[1],[1],[1],[1],[1],[1],[1],[1],[1],[1],[1],[1],[1],[1],[1],[1],[2],[1],[1],[1],[1],[1],[1],[1],[1],[1],[1],[1],[1],[1],[1],[1],[1],[1],[1],[1],[1],[1],[1],[1],[1],[1],[1],[1],[1],[1],[1],[1],[1],[1],[1],[1],[1],[1],[1],[1],[1],[1],[1],[1],[1],[1],[1],[1],[1],[1],[1],[1],[1],[1],[1],[1],[1],[1],[1],[1],[1],[1],[1],[1],[1],[1],[1],[1],[1],[1],[1],[1],[1],[1],[1],[1],[1],[1],[1],[1],[1],[1],[1],[1],[1],[1],[1],[1],[1],[1],[1],[1],[2],[1],[1],[2],[1],[2],[1],[1],[1],[1],[2],[1],[1],[1],[1],[1],[1],[1],[1],[1],[1],[1],[1],[1],[1],[2],[1],[1],[1],[1],[1],[1],[1],[1],[1],[1],[1],[1],[1],[1],[1],[1],[1],[1],[1],[1],[1],[1],[2],[1],[1],[1],[1],[1],[1],[1],[1],[1],[1],[1],[1],[1],[1],[1],[1],[1],[1],[1],[1],[1],[1],[1],[1],[1],[1],[1],[1],[1],[1],[1],[1],[1],[1],[2],[1],[1],[1],[1],[1],[1],[1],[1],[1],[1],[1],[1],[1],[1],[1],[1],[1],[1],[1],[1],[1],[1],[2],[1],[2],[1],[1],[1],[1],[1],[1],[1],[1],[1],[3],[1],[1],[1],[1],[1],[1],[1],[1],[1],[1],[1],[1],[2],[1],[1],[1],[1],[2],[2],[1],[1],[1],[1],[2],[1],[1],[1],[1],[1],[1],[1],[1],[1],[1],[2],[1],[1],[1],[1],[1],[1],[1],[1],[1],[1],[1],[1],[1],[1],[1],[1],[1],[1],[1],[1],[1],[1],[1],[1],[2],[3],[2],[1],[1],[1],[2],[1],[1],[1],[1],[1],[2],[1],[1],[1],[1],[1],[2],[1],[1],[1],[1],[1],[2],[1],[1],[1],[3],[3],[1],[1],[1],[1],[1],[1],[1],[1],[1],[1],[1],[1],[1],[1],[1],[1],[1],[1],[1],[1],[1],[1],[1],[3],[1],[1],[1],[2],[1],[1],[2],[1],[1],[3],[1],[1],[1],[1],[1],[1],[1],[1],[1],[1],[1],[1],[1],[1],[1],[1],[1],[1],[1],[1],[1],[1],[1],[1],[1],[1],[2],[1],[1],[1],[1],[1],[1],[1],[1],[1],[1],[1],[1],[1],[1],[1],[1],[1],[1],[1],[1],[1],[1],[1],[1],[1],[1],[1],[1],[1],[1],[1],[1],[1],[2],[1],[2],[2],[1],[1],[1],[1],[1],[1],[1],[1],[1],[1],[1],[1],[1],[1],[1],[1],[1],[1],[4],[4],[1],[1],[1],[1],[1],[1],[1],[1],[1],[1],[1],[1],[1],[1],[2],[1],[1],[1],[2],[1],[1],[1],[1],[1],[2],[1],[2],[1],[1],[1],[1],[1],[1],[1],[1],[1],[2],[1],[1],[1],[3],[1],[1],[1],[1],[1],[2],[1],[1],[1],[1],[1],[1],[1],[1],[4],[2],[1]],\"hovertemplate\":\"item_name=%{x}\\u003cbr\\u003eitem_price=%{y}\\u003cbr\\u003equantity=%{customdata[0]}\\u003cextra\\u003e\\u003c\\u002fextra\\u003e\",\"legendgroup\":\"\",\"marker\":{\"color\":\"#636efa\"},\"name\":\"\",\"notched\":false,\"offsetgroup\":\"\",\"orientation\":\"v\",\"showlegend\":false,\"x\":[\"Chicken Bowl\",\"Chicken Bowl\",\"Chicken Bowl\",\"Chicken Bowl\",\"Chicken Bowl\",\"Chicken Bowl\",\"Chicken Bowl\",\"Chicken Bowl\",\"Chicken Bowl\",\"Chicken Bowl\",\"Chicken Bowl\",\"Chicken Bowl\",\"Chicken Bowl\",\"Chicken Bowl\",\"Chicken Bowl\",\"Chicken Bowl\",\"Chicken Bowl\",\"Chicken Bowl\",\"Chicken Bowl\",\"Chicken Bowl\",\"Chicken Bowl\",\"Chicken Bowl\",\"Chicken Bowl\",\"Chicken Bowl\",\"Chicken Bowl\",\"Chicken Bowl\",\"Chicken Bowl\",\"Chicken Bowl\",\"Chicken Bowl\",\"Chicken Bowl\",\"Chicken Bowl\",\"Chicken Bowl\",\"Chicken Bowl\",\"Chicken Bowl\",\"Chicken Bowl\",\"Chicken Bowl\",\"Chicken Bowl\",\"Chicken Bowl\",\"Chicken Bowl\",\"Chicken Bowl\",\"Chicken Bowl\",\"Chicken Bowl\",\"Chicken Bowl\",\"Chicken Bowl\",\"Chicken Bowl\",\"Chicken Bowl\",\"Chicken Bowl\",\"Chicken Bowl\",\"Chicken Bowl\",\"Chicken Bowl\",\"Chicken Bowl\",\"Chicken Bowl\",\"Chicken Bowl\",\"Chicken Bowl\",\"Chicken Bowl\",\"Chicken Bowl\",\"Chicken Bowl\",\"Chicken Bowl\",\"Chicken Bowl\",\"Chicken Bowl\",\"Chicken Bowl\",\"Chicken Bowl\",\"Chicken Bowl\",\"Chicken Bowl\",\"Chicken Bowl\",\"Chicken Bowl\",\"Chicken Bowl\",\"Chicken Bowl\",\"Chicken Bowl\",\"Chicken Bowl\",\"Chicken Bowl\",\"Chicken Bowl\",\"Chicken Bowl\",\"Chicken Bowl\",\"Chicken Bowl\",\"Chicken Bowl\",\"Chicken Bowl\",\"Chicken Bowl\",\"Chicken Bowl\",\"Chicken Bowl\",\"Chicken Bowl\",\"Chicken Bowl\",\"Chicken Bowl\",\"Chicken Bowl\",\"Chicken Bowl\",\"Chicken Bowl\",\"Chicken Bowl\",\"Chicken Bowl\",\"Chicken Bowl\",\"Chicken Bowl\",\"Chicken Bowl\",\"Chicken Bowl\",\"Chicken Bowl\",\"Chicken Bowl\",\"Chicken Bowl\",\"Chicken Bowl\",\"Chicken Bowl\",\"Chicken Bowl\",\"Chicken Bowl\",\"Chicken Bowl\",\"Chicken Bowl\",\"Chicken Bowl\",\"Chicken Bowl\",\"Chicken Bowl\",\"Chicken Bowl\",\"Chicken Bowl\",\"Chicken Bowl\",\"Chicken Bowl\",\"Chicken Bowl\",\"Chicken Bowl\",\"Chicken Bowl\",\"Chicken Bowl\",\"Chicken Bowl\",\"Chicken Bowl\",\"Chicken Bowl\",\"Chicken Bowl\",\"Chicken Bowl\",\"Chicken Bowl\",\"Chicken Bowl\",\"Chicken Bowl\",\"Chicken Bowl\",\"Chicken Bowl\",\"Chicken Bowl\",\"Chicken Bowl\",\"Chicken Bowl\",\"Chicken Bowl\",\"Chicken Bowl\",\"Chicken Bowl\",\"Chicken Bowl\",\"Chicken Bowl\",\"Chicken Bowl\",\"Chicken Bowl\",\"Chicken Bowl\",\"Chicken Bowl\",\"Chicken Bowl\",\"Chicken Bowl\",\"Chicken Bowl\",\"Chicken Bowl\",\"Chicken Bowl\",\"Chicken Bowl\",\"Chicken Bowl\",\"Chicken Bowl\",\"Chicken Bowl\",\"Chicken Bowl\",\"Chicken Bowl\",\"Chicken Bowl\",\"Chicken Bowl\",\"Chicken Bowl\",\"Chicken Bowl\",\"Chicken Bowl\",\"Chicken Bowl\",\"Chicken Bowl\",\"Chicken Bowl\",\"Chicken Bowl\",\"Chicken Bowl\",\"Chicken Bowl\",\"Chicken Bowl\",\"Chicken Bowl\",\"Chicken Bowl\",\"Chicken Bowl\",\"Chicken Bowl\",\"Chicken Bowl\",\"Chicken Bowl\",\"Chicken Bowl\",\"Chicken Bowl\",\"Chicken Bowl\",\"Chicken Bowl\",\"Chicken Bowl\",\"Chicken Bowl\",\"Chicken Bowl\",\"Chicken Bowl\",\"Chicken Bowl\",\"Chicken Bowl\",\"Chicken Bowl\",\"Chicken Bowl\",\"Chicken Bowl\",\"Chicken Bowl\",\"Chicken Bowl\",\"Chicken Bowl\",\"Chicken Bowl\",\"Chicken Bowl\",\"Chicken Bowl\",\"Chicken Bowl\",\"Chicken Bowl\",\"Chicken Bowl\",\"Chicken Bowl\",\"Chicken Bowl\",\"Chicken Bowl\",\"Chicken Bowl\",\"Chicken Bowl\",\"Chicken Bowl\",\"Chicken Bowl\",\"Chicken Bowl\",\"Chicken Bowl\",\"Chicken Bowl\",\"Chicken Bowl\",\"Chicken Bowl\",\"Chicken Bowl\",\"Chicken Bowl\",\"Chicken Bowl\",\"Chicken Bowl\",\"Chicken Bowl\",\"Chicken Bowl\",\"Chicken Bowl\",\"Chicken Bowl\",\"Chicken Bowl\",\"Chicken Bowl\",\"Chicken Bowl\",\"Chicken Bowl\",\"Chicken Bowl\",\"Chicken Bowl\",\"Chicken Bowl\",\"Chicken Bowl\",\"Chicken Bowl\",\"Chicken Bowl\",\"Chicken Bowl\",\"Chicken Bowl\",\"Chicken Bowl\",\"Chicken Bowl\",\"Chicken Bowl\",\"Chicken Bowl\",\"Chicken Bowl\",\"Chicken Bowl\",\"Chicken Bowl\",\"Chicken Bowl\",\"Chicken Bowl\",\"Chicken Bowl\",\"Chicken Bowl\",\"Chicken Bowl\",\"Chicken Bowl\",\"Chicken Bowl\",\"Chicken Bowl\",\"Chicken Bowl\",\"Chicken Bowl\",\"Chicken Bowl\",\"Chicken Bowl\",\"Chicken Bowl\",\"Chicken Bowl\",\"Chicken Bowl\",\"Chicken Bowl\",\"Chicken Bowl\",\"Chicken Bowl\",\"Chicken Bowl\",\"Chicken Bowl\",\"Chicken Bowl\",\"Chicken Bowl\",\"Chicken Bowl\",\"Chicken Bowl\",\"Chicken Bowl\",\"Chicken Bowl\",\"Chicken Bowl\",\"Chicken Bowl\",\"Chicken Bowl\",\"Chicken Bowl\",\"Chicken Bowl\",\"Chicken Bowl\",\"Chicken Bowl\",\"Chicken Bowl\",\"Chicken Bowl\",\"Chicken Bowl\",\"Chicken Bowl\",\"Chicken Bowl\",\"Chicken Bowl\",\"Chicken Bowl\",\"Chicken Bowl\",\"Chicken Bowl\",\"Chicken Bowl\",\"Chicken Bowl\",\"Chicken Bowl\",\"Chicken Bowl\",\"Chicken Bowl\",\"Chicken Bowl\",\"Chicken Bowl\",\"Chicken Bowl\",\"Chicken Bowl\",\"Chicken Bowl\",\"Chicken Bowl\",\"Chicken Bowl\",\"Chicken Bowl\",\"Chicken Bowl\",\"Chicken Bowl\",\"Chicken Bowl\",\"Chicken Bowl\",\"Chicken Bowl\",\"Chicken Bowl\",\"Chicken Bowl\",\"Chicken Bowl\",\"Chicken Bowl\",\"Chicken Bowl\",\"Chicken Bowl\",\"Chicken Bowl\",\"Chicken Bowl\",\"Chicken Bowl\",\"Chicken Bowl\",\"Chicken Bowl\",\"Chicken Bowl\",\"Chicken Bowl\",\"Chicken Bowl\",\"Chicken Bowl\",\"Chicken Bowl\",\"Chicken Bowl\",\"Chicken Bowl\",\"Chicken Bowl\",\"Chicken Bowl\",\"Chicken Bowl\",\"Chicken Bowl\",\"Chicken Bowl\",\"Chicken Bowl\",\"Chicken Bowl\",\"Chicken Bowl\",\"Chicken Bowl\",\"Chicken Bowl\",\"Chicken Bowl\",\"Chicken Bowl\",\"Chicken Bowl\",\"Chicken Bowl\",\"Chicken Bowl\",\"Chicken Bowl\",\"Chicken Bowl\",\"Chicken Bowl\",\"Chicken Bowl\",\"Chicken Bowl\",\"Chicken Bowl\",\"Chicken Bowl\",\"Chicken Bowl\",\"Chicken Bowl\",\"Chicken Bowl\",\"Chicken Bowl\",\"Chicken Bowl\",\"Chicken Bowl\",\"Chicken Bowl\",\"Chicken Bowl\",\"Chicken Bowl\",\"Chicken Bowl\",\"Chicken Bowl\",\"Chicken Bowl\",\"Chicken Bowl\",\"Chicken Bowl\",\"Chicken Bowl\",\"Chicken Bowl\",\"Chicken Bowl\",\"Chicken Bowl\",\"Chicken Bowl\",\"Chicken Bowl\",\"Chicken Bowl\",\"Chicken Bowl\",\"Chicken Bowl\",\"Chicken Bowl\",\"Chicken Bowl\",\"Chicken Bowl\",\"Chicken Bowl\",\"Chicken Bowl\",\"Chicken Bowl\",\"Chicken Bowl\",\"Chicken Bowl\",\"Chicken Bowl\",\"Chicken Bowl\",\"Chicken Bowl\",\"Chicken Bowl\",\"Chicken Bowl\",\"Chicken Bowl\",\"Chicken Bowl\",\"Chicken Bowl\",\"Chicken Bowl\",\"Chicken Bowl\",\"Chicken Bowl\",\"Chicken Bowl\",\"Chicken Bowl\",\"Chicken Bowl\",\"Chicken Bowl\",\"Chicken Bowl\",\"Chicken Bowl\",\"Chicken Bowl\",\"Chicken Bowl\",\"Chicken Bowl\",\"Chicken Bowl\",\"Chicken Bowl\",\"Chicken Bowl\",\"Chicken Bowl\",\"Chicken Bowl\",\"Chicken Bowl\",\"Chicken Bowl\",\"Chicken Bowl\",\"Chicken Bowl\",\"Chicken Bowl\",\"Chicken Bowl\",\"Chicken Bowl\",\"Chicken Bowl\",\"Chicken Bowl\",\"Chicken Bowl\",\"Chicken Bowl\",\"Chicken Bowl\",\"Chicken Bowl\",\"Chicken Bowl\",\"Chicken Bowl\",\"Chicken Bowl\",\"Chicken Bowl\",\"Chicken Bowl\",\"Chicken Bowl\",\"Chicken Bowl\",\"Chicken Bowl\",\"Chicken Bowl\",\"Chicken Bowl\",\"Chicken Bowl\",\"Chicken Bowl\",\"Chicken Bowl\",\"Chicken Bowl\",\"Chicken Bowl\",\"Chicken Bowl\",\"Chicken Bowl\",\"Chicken Bowl\",\"Chicken Bowl\",\"Chicken Bowl\",\"Chicken Bowl\",\"Chicken Bowl\",\"Chicken Bowl\",\"Chicken Bowl\",\"Chicken Bowl\",\"Chicken Bowl\",\"Chicken Bowl\",\"Chicken Bowl\",\"Chicken Bowl\",\"Chicken Bowl\",\"Chicken Bowl\",\"Chicken Bowl\",\"Chicken Bowl\",\"Chicken Bowl\",\"Chicken Bowl\",\"Chicken Bowl\",\"Chicken Bowl\",\"Chicken Bowl\",\"Chicken Bowl\",\"Chicken Bowl\",\"Chicken Bowl\",\"Chicken Bowl\",\"Chicken Bowl\",\"Chicken Bowl\",\"Chicken Bowl\",\"Chicken Bowl\",\"Chicken Bowl\",\"Chicken Bowl\",\"Chicken Bowl\",\"Chicken Bowl\",\"Chicken Bowl\",\"Chicken Bowl\",\"Chicken Bowl\",\"Chicken Bowl\",\"Chicken Bowl\",\"Chicken Bowl\",\"Chicken Bowl\",\"Chicken Bowl\",\"Chicken Bowl\",\"Chicken Bowl\",\"Chicken Bowl\",\"Chicken Bowl\",\"Chicken Bowl\",\"Chicken Bowl\",\"Chicken Bowl\",\"Chicken Bowl\",\"Chicken Bowl\",\"Chicken Bowl\",\"Chicken Bowl\",\"Chicken Bowl\",\"Chicken Bowl\",\"Chicken Bowl\",\"Chicken Bowl\",\"Chicken Bowl\",\"Chicken Bowl\",\"Chicken Bowl\",\"Chicken Bowl\",\"Chicken Bowl\",\"Chicken Bowl\",\"Chicken Bowl\",\"Chicken Bowl\",\"Chicken Bowl\",\"Chicken Bowl\",\"Chicken Bowl\",\"Chicken Bowl\",\"Chicken Bowl\",\"Chicken Bowl\",\"Chicken Bowl\",\"Chicken Bowl\",\"Chicken Bowl\",\"Chicken Bowl\",\"Chicken Bowl\",\"Chicken Bowl\",\"Chicken Bowl\",\"Chicken Bowl\",\"Chicken Bowl\",\"Chicken Bowl\",\"Chicken Bowl\",\"Chicken Bowl\",\"Chicken Bowl\",\"Chicken Bowl\",\"Chicken Bowl\",\"Chicken Bowl\",\"Chicken Bowl\",\"Chicken Bowl\",\"Chicken Bowl\",\"Chicken Bowl\",\"Chicken Bowl\",\"Chicken Bowl\",\"Chicken Bowl\",\"Chicken Bowl\",\"Chicken Bowl\",\"Chicken Bowl\",\"Chicken Bowl\",\"Chicken Bowl\",\"Chicken Bowl\",\"Chicken Bowl\",\"Chicken Bowl\",\"Chicken Bowl\",\"Chicken Bowl\",\"Chicken Bowl\",\"Chicken Bowl\",\"Chicken Bowl\",\"Chicken Bowl\",\"Chicken Bowl\",\"Chicken Bowl\",\"Chicken Bowl\",\"Chicken Bowl\",\"Chicken Bowl\",\"Chicken Bowl\",\"Chicken Bowl\",\"Chicken Bowl\",\"Chicken Bowl\",\"Chicken Bowl\",\"Chicken Bowl\",\"Chicken Bowl\",\"Chicken Bowl\",\"Chicken Bowl\",\"Chicken Bowl\",\"Chicken Bowl\",\"Chicken Bowl\",\"Chicken Bowl\",\"Chicken Bowl\",\"Chicken Bowl\",\"Chicken Bowl\",\"Chicken Bowl\",\"Chicken Bowl\",\"Chicken Bowl\",\"Chicken Bowl\",\"Chicken Bowl\",\"Chicken Bowl\",\"Chicken Bowl\",\"Chicken Bowl\",\"Chicken Bowl\",\"Chicken Bowl\",\"Chicken Bowl\",\"Chicken Bowl\",\"Chicken Bowl\",\"Chicken Bowl\",\"Chicken Bowl\",\"Chicken Bowl\",\"Chicken Bowl\",\"Chicken Bowl\",\"Chicken Bowl\",\"Chicken Bowl\",\"Chicken Bowl\",\"Chicken Bowl\",\"Chicken Bowl\",\"Chicken Bowl\",\"Chicken Bowl\",\"Chicken Bowl\",\"Chicken Bowl\",\"Chicken Bowl\",\"Chicken Bowl\",\"Chicken Bowl\",\"Chicken Bowl\",\"Chicken Bowl\",\"Chicken Bowl\",\"Chicken Bowl\",\"Chicken Bowl\",\"Chicken Bowl\",\"Chicken Bowl\",\"Chicken Bowl\",\"Chicken Bowl\",\"Chicken Bowl\",\"Chicken Bowl\",\"Chicken Bowl\",\"Chicken Bowl\",\"Chicken Bowl\",\"Chicken Bowl\",\"Chicken Bowl\",\"Chicken Bowl\",\"Chicken Bowl\",\"Chicken Bowl\",\"Chicken Bowl\",\"Chicken Bowl\",\"Chicken Bowl\",\"Chicken Bowl\",\"Chicken Bowl\",\"Chicken Bowl\",\"Chicken Bowl\",\"Chicken Bowl\",\"Chicken Bowl\",\"Chicken Bowl\",\"Chicken Bowl\",\"Chicken Bowl\",\"Chicken Bowl\",\"Chicken Bowl\",\"Chicken Bowl\",\"Chicken Bowl\",\"Chicken Bowl\",\"Chicken Bowl\",\"Chicken Bowl\",\"Chicken Bowl\",\"Chicken Bowl\",\"Chicken Bowl\",\"Chicken Bowl\",\"Chicken Bowl\",\"Chicken Bowl\",\"Chicken Bowl\",\"Chicken Bowl\",\"Chicken Bowl\",\"Chicken Bowl\",\"Chicken Bowl\",\"Chicken Bowl\",\"Chicken Bowl\",\"Chicken Bowl\",\"Chicken Bowl\",\"Chicken Bowl\",\"Chicken Bowl\",\"Chicken Bowl\",\"Chicken Bowl\",\"Chicken Bowl\",\"Chicken Bowl\",\"Chicken Bowl\",\"Chicken Bowl\",\"Chicken Bowl\",\"Chicken Bowl\",\"Chicken Bowl\",\"Chicken Bowl\",\"Chicken Bowl\",\"Chicken Bowl\",\"Chicken Bowl\",\"Chicken Bowl\",\"Chicken Bowl\",\"Chicken Bowl\",\"Chicken Bowl\",\"Chicken Bowl\",\"Chicken Bowl\",\"Chicken Bowl\",\"Chicken Bowl\",\"Chicken Bowl\",\"Chicken Bowl\",\"Chicken Bowl\",\"Chicken Bowl\",\"Chicken Bowl\",\"Chicken Bowl\",\"Chicken Bowl\",\"Chicken Bowl\",\"Chicken Bowl\",\"Chicken Bowl\",\"Chicken Bowl\",\"Chicken Bowl\",\"Chicken Bowl\",\"Chicken Bowl\",\"Chicken Bowl\",\"Chicken Bowl\",\"Chicken Bowl\",\"Chicken Bowl\",\"Chicken Bowl\",\"Chicken Bowl\",\"Chicken Bowl\",\"Chicken Bowl\",\"Chicken Bowl\",\"Chicken Bowl\",\"Chicken Bowl\",\"Chicken Bowl\",\"Chicken Bowl\",\"Chicken Bowl\",\"Chicken Bowl\",\"Chicken Bowl\",\"Chicken Bowl\",\"Chicken Bowl\",\"Chicken Bowl\",\"Chicken Bowl\",\"Chicken Bowl\",\"Chicken Bowl\",\"Chicken Bowl\",\"Chicken Bowl\",\"Chicken Bowl\",\"Chicken Bowl\",\"Chicken Bowl\",\"Chicken Bowl\",\"Chicken Bowl\",\"Chicken Bowl\",\"Chicken Bowl\",\"Chicken Bowl\",\"Chicken Bowl\",\"Chicken Bowl\",\"Chicken Bowl\",\"Chicken Bowl\",\"Chicken Bowl\",\"Chicken Bowl\",\"Chicken Bowl\",\"Chicken Bowl\",\"Chicken Bowl\",\"Chicken Bowl\",\"Chicken Bowl\",\"Chicken Bowl\",\"Chicken Bowl\",\"Chicken Bowl\",\"Chicken Bowl\",\"Chicken Bowl\",\"Chicken Bowl\",\"Chicken Bowl\",\"Chicken Bowl\",\"Chicken Bowl\",\"Chicken Bowl\",\"Chicken Bowl\",\"Chicken Bowl\",\"Chicken Bowl\",\"Chicken Bowl\",\"Chicken Bowl\",\"Chicken Bowl\",\"Chicken Bowl\",\"Chicken Bowl\",\"Chicken Bowl\",\"Chicken Bowl\",\"Chicken Bowl\",\"Chicken Bowl\",\"Chicken Bowl\",\"Chicken Bowl\",\"Chicken Bowl\",\"Chicken Burrito\",\"Chicken Burrito\",\"Chicken Burrito\",\"Chicken Burrito\",\"Chicken Burrito\",\"Chicken Burrito\",\"Chicken Burrito\",\"Chicken Burrito\",\"Chicken Burrito\",\"Chicken Burrito\",\"Chicken Burrito\",\"Chicken Burrito\",\"Chicken Burrito\",\"Chicken Burrito\",\"Chicken Burrito\",\"Chicken Burrito\",\"Chicken Burrito\",\"Chicken Burrito\",\"Chicken Burrito\",\"Chicken Burrito\",\"Chicken Burrito\",\"Chicken Burrito\",\"Chicken Burrito\",\"Chicken Burrito\",\"Chicken Burrito\",\"Chicken Burrito\",\"Chicken Burrito\",\"Chicken Burrito\",\"Chicken Burrito\",\"Chicken Burrito\",\"Chicken Burrito\",\"Chicken Burrito\",\"Chicken Burrito\",\"Chicken Burrito\",\"Chicken Burrito\",\"Chicken Burrito\",\"Chicken Burrito\",\"Chicken Burrito\",\"Chicken Burrito\",\"Chicken Burrito\",\"Chicken Burrito\",\"Chicken Burrito\",\"Chicken Burrito\",\"Chicken Burrito\",\"Chicken Burrito\",\"Chicken Burrito\",\"Chicken Burrito\",\"Chicken Burrito\",\"Chicken Burrito\",\"Chicken Burrito\",\"Chicken Burrito\",\"Chicken Burrito\",\"Chicken Burrito\",\"Chicken Burrito\",\"Chicken Burrito\",\"Chicken Burrito\",\"Chicken Burrito\",\"Chicken Burrito\",\"Chicken Burrito\",\"Chicken Burrito\",\"Chicken Burrito\",\"Chicken Burrito\",\"Chicken Burrito\",\"Chicken Burrito\",\"Chicken Burrito\",\"Chicken Burrito\",\"Chicken Burrito\",\"Chicken Burrito\",\"Chicken Burrito\",\"Chicken Burrito\",\"Chicken Burrito\",\"Chicken Burrito\",\"Chicken Burrito\",\"Chicken Burrito\",\"Chicken Burrito\",\"Chicken Burrito\",\"Chicken Burrito\",\"Chicken Burrito\",\"Chicken Burrito\",\"Chicken Burrito\",\"Chicken Burrito\",\"Chicken Burrito\",\"Chicken Burrito\",\"Chicken Burrito\",\"Chicken Burrito\",\"Chicken Burrito\",\"Chicken Burrito\",\"Chicken Burrito\",\"Chicken Burrito\",\"Chicken Burrito\",\"Chicken Burrito\",\"Chicken Burrito\",\"Chicken Burrito\",\"Chicken Burrito\",\"Chicken Burrito\",\"Chicken Burrito\",\"Chicken Burrito\",\"Chicken Burrito\",\"Chicken Burrito\",\"Chicken Burrito\",\"Chicken Burrito\",\"Chicken Burrito\",\"Chicken Burrito\",\"Chicken Burrito\",\"Chicken Burrito\",\"Chicken Burrito\",\"Chicken Burrito\",\"Chicken Burrito\",\"Chicken Burrito\",\"Chicken Burrito\",\"Chicken Burrito\",\"Chicken Burrito\",\"Chicken Burrito\",\"Chicken Burrito\",\"Chicken Burrito\",\"Chicken Burrito\",\"Chicken Burrito\",\"Chicken Burrito\",\"Chicken Burrito\",\"Chicken Burrito\",\"Chicken Burrito\",\"Chicken Burrito\",\"Chicken Burrito\",\"Chicken Burrito\",\"Chicken Burrito\",\"Chicken Burrito\",\"Chicken Burrito\",\"Chicken Burrito\",\"Chicken Burrito\",\"Chicken Burrito\",\"Chicken Burrito\",\"Chicken Burrito\",\"Chicken Burrito\",\"Chicken Burrito\",\"Chicken Burrito\",\"Chicken Burrito\",\"Chicken Burrito\",\"Chicken Burrito\",\"Chicken Burrito\",\"Chicken Burrito\",\"Chicken Burrito\",\"Chicken Burrito\",\"Chicken Burrito\",\"Chicken Burrito\",\"Chicken Burrito\",\"Chicken Burrito\",\"Chicken Burrito\",\"Chicken Burrito\",\"Chicken Burrito\",\"Chicken Burrito\",\"Chicken Burrito\",\"Chicken Burrito\",\"Chicken Burrito\",\"Chicken Burrito\",\"Chicken Burrito\",\"Chicken Burrito\",\"Chicken Burrito\",\"Chicken Burrito\",\"Chicken Burrito\",\"Chicken Burrito\",\"Chicken Burrito\",\"Chicken Burrito\",\"Chicken Burrito\",\"Chicken Burrito\",\"Chicken Burrito\",\"Chicken Burrito\",\"Chicken Burrito\",\"Chicken Burrito\",\"Chicken Burrito\",\"Chicken Burrito\",\"Chicken Burrito\",\"Chicken Burrito\",\"Chicken Burrito\",\"Chicken Burrito\",\"Chicken Burrito\",\"Chicken Burrito\",\"Chicken Burrito\",\"Chicken Burrito\",\"Chicken Burrito\",\"Chicken Burrito\",\"Chicken Burrito\",\"Chicken Burrito\",\"Chicken Burrito\",\"Chicken Burrito\",\"Chicken Burrito\",\"Chicken Burrito\",\"Chicken Burrito\",\"Chicken Burrito\",\"Chicken Burrito\",\"Chicken Burrito\",\"Chicken Burrito\",\"Chicken Burrito\",\"Chicken Burrito\",\"Chicken Burrito\",\"Chicken Burrito\",\"Chicken Burrito\",\"Chicken Burrito\",\"Chicken Burrito\",\"Chicken Burrito\",\"Chicken Burrito\",\"Chicken Burrito\",\"Chicken Burrito\",\"Chicken Burrito\",\"Chicken Burrito\",\"Chicken Burrito\",\"Chicken Burrito\",\"Chicken Burrito\",\"Chicken Burrito\",\"Chicken Burrito\",\"Chicken Burrito\",\"Chicken Burrito\",\"Chicken Burrito\",\"Chicken Burrito\",\"Chicken Burrito\",\"Chicken Burrito\",\"Chicken Burrito\",\"Chicken Burrito\",\"Chicken Burrito\",\"Chicken Burrito\",\"Chicken Burrito\",\"Chicken Burrito\",\"Chicken Burrito\",\"Chicken Burrito\",\"Chicken Burrito\",\"Chicken Burrito\",\"Chicken Burrito\",\"Chicken Burrito\",\"Chicken Burrito\",\"Chicken Burrito\",\"Chicken Burrito\",\"Chicken Burrito\",\"Chicken Burrito\",\"Chicken Burrito\",\"Chicken Burrito\",\"Chicken Burrito\",\"Chicken Burrito\",\"Chicken Burrito\",\"Chicken Burrito\",\"Chicken Burrito\",\"Chicken Burrito\",\"Chicken Burrito\",\"Chicken Burrito\",\"Chicken Burrito\",\"Chicken Burrito\",\"Chicken Burrito\",\"Chicken Burrito\",\"Chicken Burrito\",\"Chicken Burrito\",\"Chicken Burrito\",\"Chicken Burrito\",\"Chicken Burrito\",\"Chicken Burrito\",\"Chicken Burrito\",\"Chicken Burrito\",\"Chicken Burrito\",\"Chicken Burrito\",\"Chicken Burrito\",\"Chicken Burrito\",\"Chicken Burrito\",\"Chicken Burrito\",\"Chicken Burrito\",\"Chicken Burrito\",\"Chicken Burrito\",\"Chicken Burrito\",\"Chicken Burrito\",\"Chicken Burrito\",\"Chicken Burrito\",\"Chicken Burrito\",\"Chicken Burrito\",\"Chicken Burrito\",\"Chicken Burrito\",\"Chicken Burrito\",\"Chicken Burrito\",\"Chicken Burrito\",\"Chicken Burrito\",\"Chicken Burrito\",\"Chicken Burrito\",\"Chicken Burrito\",\"Chicken Burrito\",\"Chicken Burrito\",\"Chicken Burrito\",\"Chicken Burrito\",\"Chicken Burrito\",\"Chicken Burrito\",\"Chicken Burrito\",\"Chicken Burrito\",\"Chicken Burrito\",\"Chicken Burrito\",\"Chicken Burrito\",\"Chicken Burrito\",\"Chicken Burrito\",\"Chicken Burrito\",\"Chicken Burrito\",\"Chicken Burrito\",\"Chicken Burrito\",\"Chicken Burrito\",\"Chicken Burrito\",\"Chicken Burrito\",\"Chicken Burrito\",\"Chicken Burrito\",\"Chicken Burrito\",\"Chicken Burrito\",\"Chicken Burrito\",\"Chicken Burrito\",\"Chicken Burrito\",\"Chicken Burrito\",\"Chicken Burrito\",\"Chicken Burrito\",\"Chicken Burrito\",\"Chicken Burrito\",\"Chicken Burrito\",\"Chicken Burrito\",\"Chicken Burrito\",\"Chicken Burrito\",\"Chicken Burrito\",\"Chicken Burrito\",\"Chicken Burrito\",\"Chicken Burrito\",\"Chicken Burrito\",\"Chicken Burrito\",\"Chicken Burrito\",\"Chicken Burrito\",\"Chicken Burrito\",\"Chicken Burrito\",\"Chicken Burrito\",\"Chicken Burrito\",\"Chicken Burrito\",\"Chicken Burrito\",\"Chicken Burrito\",\"Chicken Burrito\",\"Chicken Burrito\",\"Chicken Burrito\",\"Chicken Burrito\",\"Chicken Burrito\",\"Chicken Burrito\",\"Chicken Burrito\",\"Chicken Burrito\",\"Chicken Burrito\",\"Chicken Burrito\",\"Chicken Burrito\",\"Chicken Burrito\",\"Chicken Burrito\",\"Chicken Burrito\",\"Chicken Burrito\",\"Chicken Burrito\",\"Chicken Burrito\",\"Chicken Burrito\",\"Chicken Burrito\",\"Chicken Burrito\",\"Chicken Burrito\",\"Chicken Burrito\",\"Chicken Burrito\",\"Chicken Burrito\",\"Chicken Burrito\",\"Chicken Burrito\",\"Chicken Burrito\",\"Chicken Burrito\",\"Chicken Burrito\",\"Chicken Burrito\",\"Chicken Burrito\",\"Chicken Burrito\",\"Chicken Burrito\",\"Chicken Burrito\",\"Chicken Burrito\",\"Chicken Burrito\",\"Chicken Burrito\",\"Chicken Burrito\",\"Chicken Burrito\",\"Chicken Burrito\",\"Chicken Burrito\",\"Chicken Burrito\",\"Chicken Burrito\",\"Chicken Burrito\",\"Chicken Burrito\",\"Chicken Burrito\",\"Chicken Burrito\",\"Chicken Burrito\",\"Chicken Burrito\",\"Chicken Burrito\",\"Chicken Burrito\",\"Chicken Burrito\",\"Chicken Burrito\",\"Chicken Burrito\",\"Chicken Burrito\",\"Chicken Burrito\",\"Chicken Burrito\",\"Chicken Burrito\",\"Chicken Burrito\",\"Chicken Burrito\",\"Chicken Burrito\",\"Chicken Burrito\",\"Chicken Burrito\",\"Chicken Burrito\",\"Chicken Burrito\",\"Chicken Burrito\",\"Chicken Burrito\",\"Chicken Burrito\",\"Chicken Burrito\",\"Chicken Burrito\",\"Chicken Burrito\",\"Chicken Burrito\",\"Chicken Burrito\",\"Chicken Burrito\",\"Chicken Burrito\",\"Chicken Burrito\",\"Chicken Burrito\",\"Chicken Burrito\",\"Chicken Burrito\",\"Chicken Burrito\",\"Chicken Burrito\",\"Chicken Burrito\",\"Chicken Burrito\",\"Chicken Burrito\",\"Chicken Burrito\",\"Chicken Burrito\",\"Chicken Burrito\",\"Chicken Burrito\",\"Chicken Burrito\",\"Chicken Burrito\",\"Chicken Burrito\",\"Chicken Burrito\",\"Chicken Burrito\",\"Chicken Burrito\",\"Chicken Burrito\",\"Chicken Burrito\",\"Chicken Burrito\",\"Chicken Burrito\",\"Chicken Burrito\",\"Chicken Burrito\",\"Chicken Burrito\",\"Chicken Burrito\",\"Chicken Burrito\",\"Chicken Burrito\",\"Chicken Burrito\",\"Chicken Burrito\",\"Chicken Burrito\",\"Chicken Burrito\",\"Chicken Burrito\",\"Chicken Burrito\",\"Chicken Burrito\",\"Chicken Burrito\",\"Chicken Burrito\",\"Chicken Burrito\",\"Chicken Burrito\",\"Chicken Burrito\",\"Chicken Burrito\",\"Chicken Burrito\",\"Chicken Burrito\",\"Chicken Burrito\",\"Chicken Burrito\",\"Chicken Burrito\",\"Chicken Burrito\",\"Chicken Burrito\",\"Chicken Burrito\",\"Chicken Burrito\",\"Chicken Burrito\",\"Chicken Burrito\",\"Chicken Burrito\",\"Chicken Burrito\",\"Chicken Burrito\",\"Chicken Burrito\",\"Chicken Burrito\",\"Chicken Burrito\",\"Chicken Burrito\",\"Chicken Burrito\",\"Chicken Burrito\",\"Chicken Burrito\",\"Chicken Burrito\",\"Chicken Burrito\",\"Chicken Burrito\",\"Chicken Burrito\",\"Chicken Burrito\",\"Chicken Burrito\",\"Chicken Burrito\",\"Chicken Burrito\",\"Chicken Burrito\",\"Chicken Burrito\",\"Chicken Burrito\",\"Chicken Burrito\",\"Chicken Burrito\",\"Chicken Burrito\",\"Chicken Burrito\",\"Chicken Burrito\",\"Chicken Burrito\",\"Chicken Burrito\",\"Chicken Burrito\",\"Chicken Burrito\",\"Chicken Burrito\",\"Chicken Burrito\",\"Chicken Burrito\",\"Chicken Burrito\",\"Chicken Burrito\",\"Chicken Burrito\",\"Chicken Burrito\",\"Chicken Burrito\",\"Chicken Burrito\",\"Chicken Burrito\",\"Chicken Burrito\",\"Chicken Burrito\",\"Chicken Burrito\",\"Chicken Burrito\",\"Chicken Burrito\",\"Chicken Burrito\",\"Chicken Burrito\",\"Chicken Burrito\",\"Chicken Burrito\",\"Chicken Burrito\",\"Chicken Burrito\",\"Chicken Burrito\",\"Chicken Burrito\",\"Chicken Burrito\",\"Chicken Burrito\",\"Chicken Burrito\",\"Chicken Burrito\",\"Chicken Burrito\",\"Chicken Burrito\",\"Chicken Burrito\",\"Chicken Burrito\",\"Chicken Burrito\",\"Chicken Burrito\",\"Chicken Burrito\",\"Chicken Burrito\",\"Chicken Burrito\",\"Chicken Burrito\",\"Chicken Burrito\",\"Chicken Burrito\",\"Chicken Burrito\",\"Chicken Burrito\",\"Chicken Burrito\",\"Chicken Burrito\",\"Chicken Burrito\",\"Chicken Burrito\",\"Chicken Burrito\",\"Chicken Burrito\",\"Chicken Burrito\",\"Chicken Burrito\",\"Chicken Burrito\",\"Chicken Burrito\",\"Chicken Burrito\",\"Chicken Burrito\",\"Chicken Burrito\",\"Chicken Burrito\",\"Chicken Burrito\",\"Chicken Burrito\",\"Chicken Burrito\",\"Chicken Burrito\",\"Chicken Burrito\",\"Chicken Burrito\",\"Chicken Burrito\",\"Chicken Burrito\",\"Chicken Burrito\",\"Chicken Burrito\",\"Chicken Burrito\",\"Chips and Guacamole\",\"Chips and Guacamole\",\"Chips and Guacamole\",\"Chips and Guacamole\",\"Chips and Guacamole\",\"Chips and Guacamole\",\"Chips and Guacamole\",\"Chips and Guacamole\",\"Chips and Guacamole\",\"Chips and Guacamole\",\"Chips and Guacamole\",\"Chips and Guacamole\",\"Chips and Guacamole\",\"Chips and Guacamole\",\"Chips and Guacamole\",\"Chips and Guacamole\",\"Chips and Guacamole\",\"Chips and Guacamole\",\"Chips and Guacamole\",\"Chips and Guacamole\",\"Chips and Guacamole\",\"Chips and Guacamole\",\"Chips and Guacamole\",\"Chips and Guacamole\",\"Chips and Guacamole\",\"Chips and Guacamole\",\"Chips and Guacamole\",\"Chips and Guacamole\",\"Chips and Guacamole\",\"Chips and Guacamole\",\"Chips and Guacamole\",\"Chips and Guacamole\",\"Chips and Guacamole\",\"Chips and Guacamole\",\"Chips and Guacamole\",\"Chips and Guacamole\",\"Chips and Guacamole\",\"Chips and Guacamole\",\"Chips and Guacamole\",\"Chips and Guacamole\",\"Chips and Guacamole\",\"Chips and Guacamole\",\"Chips and Guacamole\",\"Chips and Guacamole\",\"Chips and Guacamole\",\"Chips and Guacamole\",\"Chips and Guacamole\",\"Chips and Guacamole\",\"Chips and Guacamole\",\"Chips and Guacamole\",\"Chips and Guacamole\",\"Chips and Guacamole\",\"Chips and Guacamole\",\"Chips and Guacamole\",\"Chips and Guacamole\",\"Chips and Guacamole\",\"Chips and Guacamole\",\"Chips and Guacamole\",\"Chips and Guacamole\",\"Chips and Guacamole\",\"Chips and Guacamole\",\"Chips and Guacamole\",\"Chips and Guacamole\",\"Chips and Guacamole\",\"Chips and Guacamole\",\"Chips and Guacamole\",\"Chips and Guacamole\",\"Chips and Guacamole\",\"Chips and Guacamole\",\"Chips and Guacamole\",\"Chips and Guacamole\",\"Chips and Guacamole\",\"Chips and Guacamole\",\"Chips and Guacamole\",\"Chips and Guacamole\",\"Chips and Guacamole\",\"Chips and Guacamole\",\"Chips and Guacamole\",\"Chips and Guacamole\",\"Chips and Guacamole\",\"Chips and Guacamole\",\"Chips and Guacamole\",\"Chips and Guacamole\",\"Chips and Guacamole\",\"Chips and Guacamole\",\"Chips and Guacamole\",\"Chips and Guacamole\",\"Chips and Guacamole\",\"Chips and Guacamole\",\"Chips and Guacamole\",\"Chips and Guacamole\",\"Chips and Guacamole\",\"Chips and Guacamole\",\"Chips and Guacamole\",\"Chips and Guacamole\",\"Chips and Guacamole\",\"Chips and Guacamole\",\"Chips and Guacamole\",\"Chips and Guacamole\",\"Chips and Guacamole\",\"Chips and Guacamole\",\"Chips and Guacamole\",\"Chips and Guacamole\",\"Chips and Guacamole\",\"Chips and Guacamole\",\"Chips and Guacamole\",\"Chips and Guacamole\",\"Chips and Guacamole\",\"Chips and Guacamole\",\"Chips and Guacamole\",\"Chips and Guacamole\",\"Chips and Guacamole\",\"Chips and Guacamole\",\"Chips and Guacamole\",\"Chips and Guacamole\",\"Chips and Guacamole\",\"Chips and Guacamole\",\"Chips and Guacamole\",\"Chips and Guacamole\",\"Chips and Guacamole\",\"Chips and Guacamole\",\"Chips and Guacamole\",\"Chips and Guacamole\",\"Chips and Guacamole\",\"Chips and Guacamole\",\"Chips and Guacamole\",\"Chips and Guacamole\",\"Chips and Guacamole\",\"Chips and Guacamole\",\"Chips and Guacamole\",\"Chips and Guacamole\",\"Chips and Guacamole\",\"Chips and Guacamole\",\"Chips and Guacamole\",\"Chips and Guacamole\",\"Chips and Guacamole\",\"Chips and Guacamole\",\"Chips and Guacamole\",\"Chips and Guacamole\",\"Chips and Guacamole\",\"Chips and Guacamole\",\"Chips and Guacamole\",\"Chips and Guacamole\",\"Chips and Guacamole\",\"Chips and Guacamole\",\"Chips and Guacamole\",\"Chips and Guacamole\",\"Chips and Guacamole\",\"Chips and Guacamole\",\"Chips and Guacamole\",\"Chips and Guacamole\",\"Chips and Guacamole\",\"Chips and Guacamole\",\"Chips and Guacamole\",\"Chips and Guacamole\",\"Chips and Guacamole\",\"Chips and Guacamole\",\"Chips and Guacamole\",\"Chips and Guacamole\",\"Chips and Guacamole\",\"Chips and Guacamole\",\"Chips and Guacamole\",\"Chips and Guacamole\",\"Chips and Guacamole\",\"Chips and Guacamole\",\"Chips and Guacamole\",\"Chips and Guacamole\",\"Chips and Guacamole\",\"Chips and Guacamole\",\"Chips and Guacamole\",\"Chips and Guacamole\",\"Chips and Guacamole\",\"Chips and Guacamole\",\"Chips and Guacamole\",\"Chips and Guacamole\",\"Chips and Guacamole\",\"Chips and Guacamole\",\"Chips and Guacamole\",\"Chips and Guacamole\",\"Chips and Guacamole\",\"Chips and Guacamole\",\"Chips and Guacamole\",\"Chips and Guacamole\",\"Chips and Guacamole\",\"Chips and Guacamole\",\"Chips and Guacamole\",\"Chips and Guacamole\",\"Chips and Guacamole\",\"Chips and Guacamole\",\"Chips and Guacamole\",\"Chips and Guacamole\",\"Chips and Guacamole\",\"Chips and Guacamole\",\"Chips and Guacamole\",\"Chips and Guacamole\",\"Chips and Guacamole\",\"Chips and Guacamole\",\"Chips and Guacamole\",\"Chips and Guacamole\",\"Chips and Guacamole\",\"Chips and Guacamole\",\"Chips and Guacamole\",\"Chips and Guacamole\",\"Chips and Guacamole\",\"Chips and Guacamole\",\"Chips and Guacamole\",\"Chips and Guacamole\",\"Chips and Guacamole\",\"Chips and Guacamole\",\"Chips and Guacamole\",\"Chips and Guacamole\",\"Chips and Guacamole\",\"Chips and Guacamole\",\"Chips and Guacamole\",\"Chips and Guacamole\",\"Chips and Guacamole\",\"Chips and Guacamole\",\"Chips and Guacamole\",\"Chips and Guacamole\",\"Chips and Guacamole\",\"Chips and Guacamole\",\"Chips and Guacamole\",\"Chips and Guacamole\",\"Chips and Guacamole\",\"Chips and Guacamole\",\"Chips and Guacamole\",\"Chips and Guacamole\",\"Chips and Guacamole\",\"Chips and Guacamole\",\"Chips and Guacamole\",\"Chips and Guacamole\",\"Chips and Guacamole\",\"Chips and Guacamole\",\"Chips and Guacamole\",\"Chips and Guacamole\",\"Chips and Guacamole\",\"Chips and Guacamole\",\"Chips and Guacamole\",\"Chips and Guacamole\",\"Chips and Guacamole\",\"Chips and Guacamole\",\"Chips and Guacamole\",\"Chips and Guacamole\",\"Chips and Guacamole\",\"Chips and Guacamole\",\"Chips and Guacamole\",\"Chips and Guacamole\",\"Chips and Guacamole\",\"Chips and Guacamole\",\"Chips and Guacamole\",\"Chips and Guacamole\",\"Chips and Guacamole\",\"Chips and Guacamole\",\"Chips and Guacamole\",\"Chips and Guacamole\",\"Chips and Guacamole\",\"Chips and Guacamole\",\"Chips and Guacamole\",\"Chips and Guacamole\",\"Chips and Guacamole\",\"Chips and Guacamole\",\"Chips and Guacamole\",\"Chips and Guacamole\",\"Chips and Guacamole\",\"Chips and Guacamole\",\"Chips and Guacamole\",\"Chips and Guacamole\",\"Chips and Guacamole\",\"Chips and Guacamole\",\"Chips and Guacamole\",\"Chips and Guacamole\",\"Chips and Guacamole\",\"Chips and Guacamole\",\"Chips and Guacamole\",\"Chips and Guacamole\",\"Chips and Guacamole\",\"Chips and Guacamole\",\"Chips and Guacamole\",\"Chips and Guacamole\",\"Chips and Guacamole\",\"Chips and Guacamole\",\"Chips and Guacamole\",\"Chips and Guacamole\",\"Chips and Guacamole\",\"Chips and Guacamole\",\"Chips and Guacamole\",\"Chips and Guacamole\",\"Chips and Guacamole\",\"Chips and Guacamole\",\"Chips and Guacamole\",\"Chips and Guacamole\",\"Chips and Guacamole\",\"Chips and Guacamole\",\"Chips and Guacamole\",\"Chips and Guacamole\",\"Chips and Guacamole\",\"Chips and Guacamole\",\"Chips and Guacamole\",\"Chips and Guacamole\",\"Chips and Guacamole\",\"Chips and Guacamole\",\"Chips and Guacamole\",\"Chips and Guacamole\",\"Chips and Guacamole\",\"Chips and Guacamole\",\"Chips and Guacamole\",\"Chips and Guacamole\",\"Chips and Guacamole\",\"Chips and Guacamole\",\"Chips and Guacamole\",\"Chips and Guacamole\",\"Chips and Guacamole\",\"Chips and Guacamole\",\"Chips and Guacamole\",\"Chips and Guacamole\",\"Chips and Guacamole\",\"Chips and Guacamole\",\"Chips and Guacamole\",\"Chips and Guacamole\",\"Chips and Guacamole\",\"Chips and Guacamole\",\"Chips and Guacamole\",\"Chips and Guacamole\",\"Chips and Guacamole\",\"Chips and Guacamole\",\"Chips and Guacamole\",\"Chips and Guacamole\",\"Chips and Guacamole\",\"Chips and Guacamole\",\"Chips and Guacamole\",\"Chips and Guacamole\",\"Chips and Guacamole\",\"Chips and Guacamole\",\"Chips and Guacamole\",\"Chips and Guacamole\",\"Chips and Guacamole\",\"Chips and Guacamole\",\"Chips and Guacamole\",\"Chips and Guacamole\",\"Chips and Guacamole\",\"Chips and Guacamole\",\"Chips and Guacamole\",\"Chips and Guacamole\",\"Chips and Guacamole\",\"Chips and Guacamole\",\"Chips and Guacamole\",\"Chips and Guacamole\",\"Chips and Guacamole\",\"Chips and Guacamole\",\"Chips and Guacamole\",\"Chips and Guacamole\",\"Chips and Guacamole\",\"Chips and Guacamole\",\"Chips and Guacamole\",\"Chips and Guacamole\",\"Chips and Guacamole\",\"Chips and Guacamole\",\"Chips and Guacamole\",\"Chips and Guacamole\",\"Chips and Guacamole\",\"Chips and Guacamole\",\"Chips and Guacamole\",\"Chips and Guacamole\",\"Chips and Guacamole\",\"Chips and Guacamole\",\"Chips and Guacamole\",\"Chips and Guacamole\",\"Chips and Guacamole\",\"Chips and Guacamole\",\"Chips and Guacamole\",\"Chips and Guacamole\",\"Chips and Guacamole\",\"Chips and Guacamole\",\"Chips and Guacamole\",\"Chips and Guacamole\",\"Chips and Guacamole\",\"Chips and Guacamole\",\"Chips and Guacamole\",\"Chips and Guacamole\",\"Chips and Guacamole\",\"Chips and Guacamole\",\"Chips and Guacamole\",\"Chips and Guacamole\",\"Chips and Guacamole\",\"Chips and Guacamole\",\"Chips and Guacamole\",\"Chips and Guacamole\",\"Chips and Guacamole\",\"Chips and Guacamole\",\"Chips and Guacamole\",\"Chips and Guacamole\",\"Chips and Guacamole\",\"Chips and Guacamole\",\"Chips and Guacamole\",\"Chips and Guacamole\",\"Chips and Guacamole\",\"Chips and Guacamole\",\"Chips and Guacamole\",\"Chips and Guacamole\",\"Chips and Guacamole\",\"Chips and Guacamole\",\"Chips and Guacamole\",\"Chips and Guacamole\",\"Chips and Guacamole\",\"Chips and Guacamole\",\"Chips and Guacamole\",\"Chips and Guacamole\",\"Chips and Guacamole\",\"Chips and Guacamole\",\"Chips and Guacamole\",\"Chips and Guacamole\",\"Chips and Guacamole\",\"Chips and Guacamole\",\"Chips and Guacamole\",\"Chips and Guacamole\",\"Chips and Guacamole\",\"Chips and Guacamole\",\"Chips and Guacamole\",\"Chips and Guacamole\",\"Chips and Guacamole\",\"Chips and Guacamole\",\"Chips and Guacamole\",\"Chips and Guacamole\",\"Chips and Guacamole\",\"Chips and Guacamole\",\"Chips and Guacamole\",\"Chips and Guacamole\",\"Chips and Guacamole\",\"Chips and Guacamole\",\"Chips and Guacamole\",\"Chips and Guacamole\",\"Chips and Guacamole\",\"Chips and Guacamole\",\"Chips and Guacamole\",\"Chips and Guacamole\",\"Chips and Guacamole\",\"Chips and Guacamole\",\"Chips and Guacamole\",\"Chips and Guacamole\",\"Chips and Guacamole\",\"Chips and Guacamole\",\"Chips and Guacamole\",\"Chips and Guacamole\",\"Chips and Guacamole\",\"Chips and Guacamole\",\"Chips and Guacamole\",\"Chips and Guacamole\",\"Chips and Guacamole\",\"Chips and Guacamole\",\"Chips and Guacamole\",\"Chips and Guacamole\",\"Chips and Guacamole\",\"Chips and Guacamole\",\"Chips and Guacamole\",\"Chips and Guacamole\",\"Chips and Guacamole\",\"Chips and Guacamole\",\"Chips and Guacamole\",\"Chips and Guacamole\",\"Chips and Guacamole\",\"Chips and Guacamole\",\"Chips and Guacamole\",\"Chips and Guacamole\",\"Chips and Guacamole\",\"Chips and Guacamole\",\"Chips and Guacamole\",\"Chips and Guacamole\",\"Chips and Guacamole\",\"Chips and Guacamole\",\"Chips and Guacamole\",\"Chips and Guacamole\",\"Chips and Guacamole\",\"Chips and Guacamole\",\"Chips and Guacamole\",\"Chips and Guacamole\",\"Chips and Guacamole\",\"Chips and Guacamole\",\"Chips and Guacamole\",\"Chips and Guacamole\",\"Steak Burrito\",\"Steak Burrito\",\"Steak Burrito\",\"Steak Burrito\",\"Steak Burrito\",\"Steak Burrito\",\"Steak Burrito\",\"Steak Burrito\",\"Steak Burrito\",\"Steak Burrito\",\"Steak Burrito\",\"Steak Burrito\",\"Steak Burrito\",\"Steak Burrito\",\"Steak Burrito\",\"Steak Burrito\",\"Steak Burrito\",\"Steak Burrito\",\"Steak Burrito\",\"Steak Burrito\",\"Steak Burrito\",\"Steak Burrito\",\"Steak Burrito\",\"Steak Burrito\",\"Steak Burrito\",\"Steak Burrito\",\"Steak Burrito\",\"Steak Burrito\",\"Steak Burrito\",\"Steak Burrito\",\"Steak Burrito\",\"Steak Burrito\",\"Steak Burrito\",\"Steak Burrito\",\"Steak Burrito\",\"Steak Burrito\",\"Steak Burrito\",\"Steak Burrito\",\"Steak Burrito\",\"Steak Burrito\",\"Steak Burrito\",\"Steak Burrito\",\"Steak Burrito\",\"Steak Burrito\",\"Steak Burrito\",\"Steak Burrito\",\"Steak Burrito\",\"Steak Burrito\",\"Steak Burrito\",\"Steak Burrito\",\"Steak Burrito\",\"Steak Burrito\",\"Steak Burrito\",\"Steak Burrito\",\"Steak Burrito\",\"Steak Burrito\",\"Steak Burrito\",\"Steak Burrito\",\"Steak Burrito\",\"Steak Burrito\",\"Steak Burrito\",\"Steak Burrito\",\"Steak Burrito\",\"Steak Burrito\",\"Steak Burrito\",\"Steak Burrito\",\"Steak Burrito\",\"Steak Burrito\",\"Steak Burrito\",\"Steak Burrito\",\"Steak Burrito\",\"Steak Burrito\",\"Steak Burrito\",\"Steak Burrito\",\"Steak Burrito\",\"Steak Burrito\",\"Steak Burrito\",\"Steak Burrito\",\"Steak Burrito\",\"Steak Burrito\",\"Steak Burrito\",\"Steak Burrito\",\"Steak Burrito\",\"Steak Burrito\",\"Steak Burrito\",\"Steak Burrito\",\"Steak Burrito\",\"Steak Burrito\",\"Steak Burrito\",\"Steak Burrito\",\"Steak Burrito\",\"Steak Burrito\",\"Steak Burrito\",\"Steak Burrito\",\"Steak Burrito\",\"Steak Burrito\",\"Steak Burrito\",\"Steak Burrito\",\"Steak Burrito\",\"Steak Burrito\",\"Steak Burrito\",\"Steak Burrito\",\"Steak Burrito\",\"Steak Burrito\",\"Steak Burrito\",\"Steak Burrito\",\"Steak Burrito\",\"Steak Burrito\",\"Steak Burrito\",\"Steak Burrito\",\"Steak Burrito\",\"Steak Burrito\",\"Steak Burrito\",\"Steak Burrito\",\"Steak Burrito\",\"Steak Burrito\",\"Steak Burrito\",\"Steak Burrito\",\"Steak Burrito\",\"Steak Burrito\",\"Steak Burrito\",\"Steak Burrito\",\"Steak Burrito\",\"Steak Burrito\",\"Steak Burrito\",\"Steak Burrito\",\"Steak Burrito\",\"Steak Burrito\",\"Steak Burrito\",\"Steak Burrito\",\"Steak Burrito\",\"Steak Burrito\",\"Steak Burrito\",\"Steak Burrito\",\"Steak Burrito\",\"Steak Burrito\",\"Steak Burrito\",\"Steak Burrito\",\"Steak Burrito\",\"Steak Burrito\",\"Steak Burrito\",\"Steak Burrito\",\"Steak Burrito\",\"Steak Burrito\",\"Steak Burrito\",\"Steak Burrito\",\"Steak Burrito\",\"Steak Burrito\",\"Steak Burrito\",\"Steak Burrito\",\"Steak Burrito\",\"Steak Burrito\",\"Steak Burrito\",\"Steak Burrito\",\"Steak Burrito\",\"Steak Burrito\",\"Steak Burrito\",\"Steak Burrito\",\"Steak Burrito\",\"Steak Burrito\",\"Steak Burrito\",\"Steak Burrito\",\"Steak Burrito\",\"Steak Burrito\",\"Steak Burrito\",\"Steak Burrito\",\"Steak Burrito\",\"Steak Burrito\",\"Steak Burrito\",\"Steak Burrito\",\"Steak Burrito\",\"Steak Burrito\",\"Steak Burrito\",\"Steak Burrito\",\"Steak Burrito\",\"Steak Burrito\",\"Steak Burrito\",\"Steak Burrito\",\"Steak Burrito\",\"Steak Burrito\",\"Steak Burrito\",\"Steak Burrito\",\"Steak Burrito\",\"Steak Burrito\",\"Steak Burrito\",\"Steak Burrito\",\"Steak Burrito\",\"Steak Burrito\",\"Steak Burrito\",\"Steak Burrito\",\"Steak Burrito\",\"Steak Burrito\",\"Steak Burrito\",\"Steak Burrito\",\"Steak Burrito\",\"Steak Burrito\",\"Steak Burrito\",\"Steak Burrito\",\"Steak Burrito\",\"Steak Burrito\",\"Steak Burrito\",\"Steak Burrito\",\"Steak Burrito\",\"Steak Burrito\",\"Steak Burrito\",\"Steak Burrito\",\"Steak Burrito\",\"Steak Burrito\",\"Steak Burrito\",\"Steak Burrito\",\"Steak Burrito\",\"Steak Burrito\",\"Steak Burrito\",\"Steak Burrito\",\"Steak Burrito\",\"Steak Burrito\",\"Steak Burrito\",\"Steak Burrito\",\"Steak Burrito\",\"Steak Burrito\",\"Steak Burrito\",\"Steak Burrito\",\"Steak Burrito\",\"Steak Burrito\",\"Steak Burrito\",\"Steak Burrito\",\"Steak Burrito\",\"Steak Burrito\",\"Steak Burrito\",\"Steak Burrito\",\"Steak Burrito\",\"Steak Burrito\",\"Steak Burrito\",\"Steak Burrito\",\"Steak Burrito\",\"Steak Burrito\",\"Steak Burrito\",\"Steak Burrito\",\"Steak Burrito\",\"Steak Burrito\",\"Steak Burrito\",\"Steak Burrito\",\"Steak Burrito\",\"Steak Burrito\",\"Steak Burrito\",\"Steak Burrito\",\"Steak Burrito\",\"Steak Burrito\",\"Steak Burrito\",\"Steak Burrito\",\"Steak Burrito\",\"Steak Burrito\",\"Steak Burrito\",\"Steak Burrito\",\"Steak Burrito\",\"Steak Burrito\",\"Steak Burrito\",\"Steak Burrito\",\"Steak Burrito\",\"Steak Burrito\",\"Steak Burrito\",\"Steak Burrito\",\"Steak Burrito\",\"Steak Burrito\",\"Steak Burrito\",\"Steak Burrito\",\"Steak Burrito\",\"Steak Burrito\",\"Steak Burrito\",\"Steak Burrito\",\"Steak Burrito\",\"Steak Burrito\",\"Steak Burrito\",\"Steak Burrito\",\"Steak Burrito\",\"Steak Burrito\",\"Steak Burrito\",\"Steak Burrito\",\"Steak Burrito\",\"Steak Burrito\",\"Steak Burrito\",\"Steak Burrito\",\"Steak Burrito\",\"Steak Burrito\",\"Steak Burrito\",\"Steak Burrito\",\"Steak Burrito\",\"Steak Burrito\",\"Steak Burrito\",\"Steak Burrito\",\"Steak Burrito\",\"Steak Burrito\",\"Steak Burrito\",\"Steak Burrito\",\"Steak Burrito\",\"Steak Burrito\",\"Steak Burrito\",\"Steak Burrito\",\"Steak Burrito\",\"Steak Burrito\",\"Steak Burrito\",\"Steak Burrito\",\"Steak Burrito\",\"Steak Burrito\",\"Steak Burrito\",\"Steak Burrito\",\"Steak Burrito\",\"Steak Burrito\",\"Steak Burrito\",\"Steak Burrito\",\"Steak Burrito\",\"Steak Burrito\",\"Steak Burrito\",\"Steak Burrito\",\"Steak Burrito\",\"Steak Burrito\",\"Steak Burrito\",\"Steak Burrito\",\"Steak Burrito\",\"Steak Burrito\",\"Steak Burrito\",\"Steak Burrito\",\"Steak Burrito\",\"Steak Burrito\",\"Steak Burrito\",\"Steak Burrito\",\"Steak Burrito\",\"Steak Burrito\",\"Steak Burrito\",\"Steak Burrito\",\"Steak Burrito\",\"Steak Burrito\",\"Steak Burrito\",\"Steak Burrito\",\"Steak Burrito\",\"Steak Burrito\",\"Steak Burrito\",\"Steak Burrito\",\"Steak Burrito\",\"Steak Burrito\",\"Steak Burrito\",\"Steak Burrito\",\"Steak Burrito\",\"Steak Burrito\",\"Steak Burrito\",\"Steak Burrito\",\"Steak Burrito\",\"Steak Burrito\",\"Steak Burrito\",\"Steak Burrito\",\"Steak Burrito\",\"Steak Burrito\",\"Steak Burrito\",\"Steak Burrito\",\"Steak Burrito\",\"Steak Burrito\",\"Steak Burrito\",\"Steak Burrito\",\"Steak Burrito\",\"Steak Burrito\",\"Steak Burrito\",\"Steak Burrito\",\"Steak Burrito\",\"Steak Burrito\",\"Steak Burrito\",\"Steak Burrito\",\"Steak Burrito\",\"Steak Burrito\",\"Canned Soft Drink\",\"Canned Soft Drink\",\"Canned Soft Drink\",\"Canned Soft Drink\",\"Canned Soft Drink\",\"Canned Soft Drink\",\"Canned Soft Drink\",\"Canned Soft Drink\",\"Canned Soft Drink\",\"Canned Soft Drink\",\"Canned Soft Drink\",\"Canned Soft Drink\",\"Canned Soft Drink\",\"Canned Soft Drink\",\"Canned Soft Drink\",\"Canned Soft Drink\",\"Canned Soft Drink\",\"Canned Soft Drink\",\"Canned Soft Drink\",\"Canned Soft Drink\",\"Canned Soft Drink\",\"Canned Soft Drink\",\"Canned Soft Drink\",\"Canned Soft Drink\",\"Canned Soft Drink\",\"Canned Soft Drink\",\"Canned Soft Drink\",\"Canned Soft Drink\",\"Canned Soft Drink\",\"Canned Soft Drink\",\"Canned Soft Drink\",\"Canned Soft Drink\",\"Canned Soft Drink\",\"Canned Soft Drink\",\"Canned Soft Drink\",\"Canned Soft Drink\",\"Canned Soft Drink\",\"Canned Soft Drink\",\"Canned Soft Drink\",\"Canned Soft Drink\",\"Canned Soft Drink\",\"Canned Soft Drink\",\"Canned Soft Drink\",\"Canned Soft Drink\",\"Canned Soft Drink\",\"Canned Soft Drink\",\"Canned Soft Drink\",\"Canned Soft Drink\",\"Canned Soft Drink\",\"Canned Soft Drink\",\"Canned Soft Drink\",\"Canned Soft Drink\",\"Canned Soft Drink\",\"Canned Soft Drink\",\"Canned Soft Drink\",\"Canned Soft Drink\",\"Canned Soft Drink\",\"Canned Soft Drink\",\"Canned Soft Drink\",\"Canned Soft Drink\",\"Canned Soft Drink\",\"Canned Soft Drink\",\"Canned Soft Drink\",\"Canned Soft Drink\",\"Canned Soft Drink\",\"Canned Soft Drink\",\"Canned Soft Drink\",\"Canned Soft Drink\",\"Canned Soft Drink\",\"Canned Soft Drink\",\"Canned Soft Drink\",\"Canned Soft Drink\",\"Canned Soft Drink\",\"Canned Soft Drink\",\"Canned Soft Drink\",\"Canned Soft Drink\",\"Canned Soft Drink\",\"Canned Soft Drink\",\"Canned Soft Drink\",\"Canned Soft Drink\",\"Canned Soft Drink\",\"Canned Soft Drink\",\"Canned Soft Drink\",\"Canned Soft Drink\",\"Canned Soft Drink\",\"Canned Soft Drink\",\"Canned Soft Drink\",\"Canned Soft Drink\",\"Canned Soft Drink\",\"Canned Soft Drink\",\"Canned Soft Drink\",\"Canned Soft Drink\",\"Canned Soft Drink\",\"Canned Soft Drink\",\"Canned Soft Drink\",\"Canned Soft Drink\",\"Canned Soft Drink\",\"Canned Soft Drink\",\"Canned Soft Drink\",\"Canned Soft Drink\",\"Canned Soft Drink\",\"Canned Soft Drink\",\"Canned Soft Drink\",\"Canned Soft Drink\",\"Canned Soft Drink\",\"Canned Soft Drink\",\"Canned Soft Drink\",\"Canned Soft Drink\",\"Canned Soft Drink\",\"Canned Soft Drink\",\"Canned Soft Drink\",\"Canned Soft Drink\",\"Canned Soft Drink\",\"Canned Soft Drink\",\"Canned Soft Drink\",\"Canned Soft Drink\",\"Canned Soft Drink\",\"Canned Soft Drink\",\"Canned Soft Drink\",\"Canned Soft Drink\",\"Canned Soft Drink\",\"Canned Soft Drink\",\"Canned Soft Drink\",\"Canned Soft Drink\",\"Canned Soft Drink\",\"Canned Soft Drink\",\"Canned Soft Drink\",\"Canned Soft Drink\",\"Canned Soft Drink\",\"Canned Soft Drink\",\"Canned Soft Drink\",\"Canned Soft Drink\",\"Canned Soft Drink\",\"Canned Soft Drink\",\"Canned Soft Drink\",\"Canned Soft Drink\",\"Canned Soft Drink\",\"Canned Soft Drink\",\"Canned Soft Drink\",\"Canned Soft Drink\",\"Canned Soft Drink\",\"Canned Soft Drink\",\"Canned Soft Drink\",\"Canned Soft Drink\",\"Canned Soft Drink\",\"Canned Soft Drink\",\"Canned Soft Drink\",\"Canned Soft Drink\",\"Canned Soft Drink\",\"Canned Soft Drink\",\"Canned Soft Drink\",\"Canned Soft Drink\",\"Canned Soft Drink\",\"Canned Soft Drink\",\"Canned Soft Drink\",\"Canned Soft Drink\",\"Canned Soft Drink\",\"Canned Soft Drink\",\"Canned Soft Drink\",\"Canned Soft Drink\",\"Canned Soft Drink\",\"Canned Soft Drink\",\"Canned Soft Drink\",\"Canned Soft Drink\",\"Canned Soft Drink\",\"Canned Soft Drink\",\"Canned Soft Drink\",\"Canned Soft Drink\",\"Canned Soft Drink\",\"Canned Soft Drink\",\"Canned Soft Drink\",\"Canned Soft Drink\",\"Canned Soft Drink\",\"Canned Soft Drink\",\"Canned Soft Drink\",\"Canned Soft Drink\",\"Canned Soft Drink\",\"Canned Soft Drink\",\"Canned Soft Drink\",\"Canned Soft Drink\",\"Canned Soft Drink\",\"Canned Soft Drink\",\"Canned Soft Drink\",\"Canned Soft Drink\",\"Canned Soft Drink\",\"Canned Soft Drink\",\"Canned Soft Drink\",\"Canned Soft Drink\",\"Canned Soft Drink\",\"Canned Soft Drink\",\"Canned Soft Drink\",\"Canned Soft Drink\",\"Canned Soft Drink\",\"Canned Soft Drink\",\"Canned Soft Drink\",\"Canned Soft Drink\",\"Canned Soft Drink\",\"Canned Soft Drink\",\"Canned Soft Drink\",\"Canned Soft Drink\",\"Canned Soft Drink\",\"Canned Soft Drink\",\"Canned Soft Drink\",\"Canned Soft Drink\",\"Canned Soft Drink\",\"Canned Soft Drink\",\"Canned Soft Drink\",\"Canned Soft Drink\",\"Canned Soft Drink\",\"Canned Soft Drink\",\"Canned Soft Drink\",\"Canned Soft Drink\",\"Canned Soft Drink\",\"Canned Soft Drink\",\"Canned Soft Drink\",\"Canned Soft Drink\",\"Canned Soft Drink\",\"Canned Soft Drink\",\"Canned Soft Drink\",\"Canned Soft Drink\",\"Canned Soft Drink\",\"Canned Soft Drink\",\"Canned Soft Drink\",\"Canned Soft Drink\",\"Canned Soft Drink\",\"Canned Soft Drink\",\"Canned Soft Drink\",\"Canned Soft Drink\",\"Canned Soft Drink\",\"Canned Soft Drink\",\"Canned Soft Drink\",\"Canned Soft Drink\",\"Canned Soft Drink\",\"Canned Soft Drink\",\"Canned Soft Drink\",\"Canned Soft Drink\",\"Canned Soft Drink\",\"Canned Soft Drink\",\"Canned Soft Drink\",\"Canned Soft Drink\",\"Canned Soft Drink\",\"Canned Soft Drink\",\"Canned Soft Drink\",\"Canned Soft Drink\",\"Canned Soft Drink\",\"Canned Soft Drink\",\"Canned Soft Drink\",\"Canned Soft Drink\",\"Canned Soft Drink\",\"Canned Soft Drink\",\"Canned Soft Drink\",\"Canned Soft Drink\",\"Canned Soft Drink\",\"Canned Soft Drink\",\"Canned Soft Drink\",\"Canned Soft Drink\",\"Canned Soft Drink\",\"Canned Soft Drink\",\"Canned Soft Drink\",\"Canned Soft Drink\",\"Canned Soft Drink\",\"Canned Soft Drink\",\"Canned Soft Drink\",\"Canned Soft Drink\",\"Canned Soft Drink\",\"Canned Soft Drink\",\"Canned Soft Drink\",\"Canned Soft Drink\",\"Canned Soft Drink\",\"Canned Soft Drink\",\"Canned Soft Drink\",\"Canned Soft Drink\",\"Canned Soft Drink\",\"Canned Soft Drink\",\"Canned Soft Drink\",\"Canned Soft Drink\",\"Canned Soft Drink\",\"Canned Soft Drink\",\"Canned Soft Drink\",\"Canned Soft Drink\",\"Canned Soft Drink\",\"Canned Soft Drink\",\"Canned Soft Drink\",\"Canned Soft Drink\",\"Canned Soft Drink\",\"Canned Soft Drink\",\"Canned Soft Drink\",\"Canned Soft Drink\",\"Canned Soft Drink\",\"Canned Soft Drink\",\"Canned Soft Drink\",\"Canned Soft Drink\",\"Canned Soft Drink\",\"Canned Soft Drink\",\"Canned Soft Drink\",\"Canned Soft Drink\",\"Canned Soft Drink\",\"Canned Soft Drink\",\"Canned Soft Drink\",\"Canned Soft Drink\",\"Canned Soft Drink\"],\"x0\":\" \",\"xaxis\":\"x\",\"y\":[8.75,8.49,10.98,11.25,8.75,11.25,8.75,11.25,11.25,8.75,8.75,8.75,11.25,11.25,11.25,8.75,11.25,11.25,11.25,8.75,8.75,8.75,8.75,8.75,8.75,8.75,8.75,8.75,8.75,11.25,11.25,8.75,11.25,8.75,11.25,8.75,11.25,11.25,11.25,11.25,8.75,8.75,8.75,11.25,11.25,11.25,11.25,8.75,11.25,8.75,11.25,11.25,11.25,8.49,8.75,11.25,11.25,8.75,8.75,8.75,11.25,11.25,8.75,8.75,8.5,8.5,8.75,8.75,8.75,8.75,10.98,8.75,8.75,8.75,8.75,8.75,11.25,11.25,11.25,8.75,8.75,11.25,11.25,11.25,8.75,8.75,8.75,11.25,11.25,8.75,10.98,11.25,8.75,8.75,8.75,11.25,11.25,11.25,8.75,8.75,8.75,8.75,8.75,8.75,8.49,10.98,8.49,8.49,11.25,8.75,11.25,8.75,8.75,11.25,11.25,8.75,8.49,8.49,11.25,11.25,11.25,8.49,11.25,11.25,8.75,8.75,8.75,11.25,8.49,8.75,8.75,8.75,8.49,8.75,8.75,8.75,8.75,11.25,11.25,8.75,8.75,8.75,8.75,11.25,8.75,10.98,11.25,11.25,8.75,8.75,8.75,8.49,11.25,11.25,8.75,8.75,8.49,8.75,10.98,11.25,11.25,8.75,8.49,8.49,11.25,11.25,11.25,8.75,11.25,8.75,11.25,10.98,10.98,8.75,8.49,8.75,11.25,8.49,11.25,8.75,8.75,8.75,8.75,11.25,10.979999999999999,11.25,8.75,8.49,10.98,11.25,11.25,10.98,10.98,8.19,8.49,11.25,11.25,11.25,11.25,11.25,11.25,8.49,8.75,11.25,8.75,8.49,8.49,10.98,11.25,10.98,8.75,8.49,8.75,11.25,8.75,8.75,11.25,8.75,8.75,8.75,8.75,8.75,8.75,11.25,11.25,8.75,8.49,10.98,10.98,10.98,8.49,8.75,8.75,11.25,8.75,8.49,11.25,8.75,11.25,11.25,11.25,8.75,8.75,11.25,10.98,11.25,8.75,8.75,11.25,11.25,11.25,8.75,8.49,8.75,8.75,8.49,10.98,11.25,8.75,8.49,11.25,11.25,8.75,8.49,8.49,8.75,8.75,8.75,8.75,8.75,11.25,8.75,8.75,8.75,11.25,11.25,8.75,8.75,8.75,8.49,8.75,8.75,11.25,11.25,8.75,8.49,8.49,8.75,11.25,11.25,11.25,8.49,11.25,8.49,11.25,11.25,8.75,8.75,8.75,8.49,8.75,11.25,8.75,8.75,8.49,8.49,8.49,8.75,11.25,8.75,10.98,11.25,8.49,8.49,8.75,8.49,8.19,11.25,8.49,8.49,8.49,11.25,11.25,11.25,11.25,11.25,11.25,11.25,11.25,8.49,8.49,8.75,11.25,8.75,8.49,8.49,8.75,11.25,11.25,8.49,11.25,8.75,8.75,11.25,11.25,11.25,8.75,8.49,8.49,8.49,11.25,11.25,8.75,8.49,8.49,10.98,8.75,8.75,8.75,8.49,8.49,11.25,11.25,10.58,8.19,11.25,11.25,8.75,8.75,8.75,11.25,8.75,8.75,8.75,10.98,8.75,8.75,10.98,8.49,11.25,8.75,8.75,8.75,11.25,8.75,8.49,10.98,11.25,8.75,8.75,11.25,8.75,8.75,10.98,8.75,11.25,11.25,11.25,8.75,8.75,8.75,8.75,10.98,11.25,8.75,11.25,11.25,8.75,11.25,11.25,8.75,11.25,8.75,8.49,11.25,10.98,11.25,11.25,11.25,8.75,8.75,8.75,10.98,8.49,8.75,11.25,8.75,10.98,8.49,11.25,8.75,11.25,11.25,11.25,8.49,8.49,8.75,8.75,10.98,8.49,8.49,8.75,8.75,8.75,8.75,11.25,11.25,8.49,11.25,11.25,8.75,11.25,8.75,8.75,8.49,8.75,8.75,8.49,10.98,11.25,8.75,11.25,8.75,8.75,8.75,8.75,8.49,11.25,11.25,8.49,8.75,8.75,8.75,11.25,11.25,8.75,8.75,8.75,8.75,11.25,11.25,8.75,8.49,8.75,11.25,8.75,8.75,8.75,8.49,8.49,10.98,8.49,8.75,10.98,8.75,11.25,8.75,8.49,8.75,11.25,11.25,8.75,8.75,8.75,8.75,8.75,8.75,8.75,8.75,8.75,8.75,8.75,8.75,8.75,8.75,8.75,8.75,11.25,8.49,8.75,8.49,8.75,8.75,8.75,8.75,8.75,11.25,8.75,11.25,8.75,8.75,8.75,8.75,11.25,8.75,8.75,8.75,11.25,8.75,8.75,11.25,8.75,8.75,8.75,10.98,8.75,11.25,8.49,10.98,11.25,8.75,8.75,11.25,8.75,8.75,8.75,10.98,8.75,11.25,8.49,8.75,10.98,10.98,8.75,11.25,11.25,11.25,8.75,11.25,8.49,8.75,8.75,8.75,8.75,11.25,11.25,11.25,11.25,11.25,10.98,8.75,10.98,10.98,11.25,11.25,8.75,11.25,11.25,8.75,8.49,8.75,8.49,11.25,8.75,10.98,8.49,8.75,8.75,8.75,11.25,11.25,10.98,10.98,8.75,8.49,8.75,8.75,11.25,8.75,11.25,8.49,8.49,8.75,8.75,8.75,8.75,8.49,10.98,8.75,8.75,8.49,11.25,8.49,8.75,8.49,11.25,8.75,10.98,8.75,8.49,8.75,8.49,8.49,8.49,8.75,8.49,8.75,8.75,10.98,11.25,11.25,8.49,8.49,11.25,8.49,8.49,8.75,11.25,8.75,10.98,11.25,8.49,8.75,11.25,11.25,8.75,8.49,8.49,8.49,8.49,8.75,8.75,8.75,11.25,8.49,8.49,8.75,11.25,8.75,8.75,11.25,11.25,8.75,8.75,8.75,8.75,10.98,8.75,8.75,11.25,8.75,8.75,8.75,11.25,11.25,8.75,8.75,8.49,8.49,8.49,11.25,11.25,8.49,11.25,11.25,8.75,8.75,8.49,11.25,8.75,8.75,8.75,8.75,8.75,8.75,11.25,8.75,11.25,8.75,10.98,8.49,11.25,8.75,8.75,8.75,8.75,11.25,11.25,11.25,11.25,8.75,8.75,11.25,8.49,8.75,11.25,10.98,8.49,8.49,11.25,8.75,8.19,8.75,8.75,8.75,8.75,8.75,11.25,10.98,8.49,8.49,10.98,10.98,8.75,8.19,8.49,8.49,8.49,8.49,8.75,8.75,8.75,8.75,8.75,8.75,8.75,8.75,8.19,8.75,8.75,11.25,8.75,11.25,8.75,8.75,8.75,8.75,10.98,8.75,11.25,8.49,11.25,11.25,10.98,8.75,11.25,8.49,8.49,11.25,11.25,8.75,10.98,11.25,8.49,11.25,8.49,8.19,8.49,8.49,8.75,8.75,8.75,8.75,8.49,8.75,8.49,11.25,11.25,8.49,10.98,11.25,8.49,8.75,8.75,8.49,11.25,11.25,11.25,11.25,8.75,8.49,11.25,8.75,8.75,8.75,11.25,8.75,8.19,8.19,8.75,8.75,8.49,8.75,8.75,8.75,10.98,8.49,8.75,11.25,8.75,11.25,11.25,8.49,8.75,11.25,8.49,10.98,8.75,8.75,8.75,8.75,8.49,11.25,11.25,8.75,8.75,11.25,8.75,8.49,10.98,11.25,8.75,8.75,8.75,8.75,11.25,8.75,8.49,8.75,11.25,10.98,8.49,11.25,8.75,8.75,11.25,11.25,10.98,11.25,8.75,11.25,8.75,8.75,8.75,8.49,8.75,8.75,8.75,8.75,8.49,8.19,10.98,11.25,11.25,8.75,8.49,11.25,8.49,8.75,8.75,11.25,8.75,8.75,8.49,8.75,8.75,8.49,8.75,8.75,11.25,11.25,11.25,8.49,8.49,8.75,8.75,8.75,11.25,8.75,8.75,8.49,11.25,10.58,11.25,8.75,8.75,8.75,8.49,10.98,8.19,11.25,8.75,8.75,8.49,8.75,8.75,8.49,10.98,8.75,8.75,8.75,8.19,10.58,8.75,11.25,11.25,8.75,8.49,8.75,11.25,8.75,8.75,8.49,10.98,8.75,11.25,8.75,8.75,8.75,8.75,8.75,8.75,8.75,8.75,8.75,8.49,8.49,8.75,10.98,11.25,8.75,8.75,8.75,8.75,8.75,8.75,11.25,11.25,8.75,8.75,11.25,8.75,11.25,8.75,11.25,11.25,8.49,8.75,8.49,8.49,11.25,11.25,8.75,11.25,8.75,11.25,8.75,8.75,10.98,11.25,8.49,11.25,8.49,8.49,8.49,10.98,8.49,8.75,8.75,8.75,8.75,8.75,8.75,10.98,8.75,8.75,8.49,10.58,8.19,8.75,8.75,8.75,8.75,8.49,8.75,8.75,11.25,8.49,8.49,10.98,8.75,8.75,8.49,11.25,11.25,8.75,8.49,8.49,8.75,8.75,11.25,11.25,11.25,8.75,8.75,10.98,8.75,8.75,8.75,8.75,8.75,8.75,8.75,8.75,8.75,8.49,10.98,11.25,8.75,8.75,8.75,11.25,8.49,8.19,8.75,8.49,11.25,8.75,8.75,8.75,8.75,8.75,8.49,8.49,8.49,8.49,8.75,8.75,8.75,10.98,11.25,11.25,11.25,10.98,11.25,11.25,8.75,8.49,8.75,8.49,8.49,11.25,8.49,8.75,8.75,8.75,11.25,8.75,8.75,8.75,11.25,11.25,8.75,8.75,11.25,8.75,11.25,8.75,8.49,11.25,8.75,8.49,8.49,10.98,10.98,10.98,8.75,8.75,8.75,11.25,8.75,11.25,11.25,11.25,8.75,11.25,8.49,8.75,10.58,8.75,8.49,8.75,11.25,10.98,11.25,11.25,8.75,11.25,8.75,8.49,10.98,8.49,8.75,10.98,8.75,8.75,10.98,8.75,8.75,11.25,8.75,8.75,8.75,8.75,8.75,8.75,8.75,8.49,10.98,8.75,11.25,10.98,8.75,8.75,11.25,10.98,8.49,8.75,11.25,11.25,8.49,8.49,11.25,8.75,8.75,10.98,8.75,10.98,8.49,8.49,8.75,8.75,8.75,8.75,8.75,8.75,8.49,8.49,11.25,8.75,8.75,8.75,8.49,8.75,8.75,8.75,8.75,8.49,8.49,11.25,8.75,11.25,8.75,11.25,8.49,8.75,8.75,8.75,8.75,11.25,8.49,8.49,8.75,8.75,8.75,8.49,8.49,8.75,11.25,11.25,8.75,8.75,11.25,11.25,11.25,8.75,8.49,11.25,8.75,8.49,8.49,11.25,10.98,8.49,8.49,8.75,8.75,11.25,8.75,10.98,11.25,8.75,11.25,11.25,11.25,11.25,8.49,10.98,10.98,8.75,8.75,8.75,11.25,11.25,11.25,8.75,11.25,8.49,8.75,8.75,8.75,10.98,8.75,8.75,11.25,11.25,11.25,8.75,11.25,8.49,10.98,11.25,8.49,8.75,11.25,8.75,8.49,8.49,8.75,11.25,8.75,8.75,8.75,10.98,8.75,11.25,8.75,11.25,8.49,4.45,4.45,4.45,4.45,4.45,3.99,4.45,4.45,4.45,3.99,4.45,4.45,4.45,3.99,4.45,3.99,4.45,4.45,4.45,4.45,3.99,4.45,4.45,3.89,4.45,4.45,3.99,4.45,4.45,4.45,4.45,4.45,4.45,4.45,4.45,3.99,4.45,4.45,4.45,4.45,4.45,4.45,3.99,4.45,4.45,4.45,4.45,4.45,4.45,4.45,4.45,4.45,4.0,4.45,4.45,4.45,4.45,4.45,4.45,3.99,4.45,4.45,4.45,4.45,4.45,4.45,4.45,4.45,4.45,4.45,4.45,4.45,4.45,3.99,3.99,4.45,3.99,3.99,4.45,4.45,4.45,4.45,4.45,4.45,4.45,4.45,4.45,4.45,4.45,4.45,4.45,4.45,3.99,4.45,4.45,4.45,4.45,3.99,4.45,4.45,4.45,4.45,4.45,4.45,4.45,3.99,4.45,3.99,4.45,3.99,3.89,4.45,4.45,4.45,3.99,4.45,4.45,3.99,4.45,4.45,4.45,4.45,4.45,3.99,4.45,4.45,4.45,4.45,4.45,4.45,4.45,4.45,4.45,4.45,4.45,4.45,3.89,4.45,4.45,4.45,4.45,3.99,4.45,4.45,3.99,3.99,4.45,3.99,4.45,4.45,3.99,4.45,4.45,3.99,4.45,4.45,3.99,3.99,4.45,4.45,3.99,4.45,4.45,4.45,4.45,4.45,4.45,4.45,4.45,4.45,4.45,4.45,4.45,4.45,4.45,4.45,4.45,3.99,3.99,4.45,4.45,4.45,3.99,4.45,4.45,4.45,4.45,3.89,3.99,4.45,4.45,4.45,4.45,4.45,4.45,4.45,4.45,4.45,4.45,4.45,4.45,4.45,4.45,3.99,4.45,4.45,3.99,3.99,4.45,4.45,4.45,4.45,4.45,4.45,4.45,3.99,4.45,4.45,4.45,4.45,4.45,4.45,4.45,4.45,4.45,4.45,3.99,4.45,3.99,4.45,4.45,4.45,4.45,3.89,3.99,3.99,4.45,4.45,3.99,4.45,4.45,3.99,3.99,4.45,4.45,4.45,4.45,4.45,4.45,4.45,4.45,4.45,4.45,4.45,4.45,4.45,4.45,3.99,4.45,4.45,3.99,4.45,3.99,4.45,4.45,4.45,4.45,4.45,4.45,4.45,4.45,4.45,4.45,4.45,4.45,3.99,4.45,3.99,4.45,3.99,4.45,4.45,4.45,4.45,4.45,3.99,3.99,4.45,4.45,3.99,4.45,4.45,4.45,3.99,3.99,3.99,3.99,3.99,4.45,4.45,3.99,3.99,4.45,4.45,4.45,4.45,4.45,3.99,3.99,3.89,4.45,4.45,4.45,4.45,4.45,4.45,4.45,4.45,4.25,4.45,4.45,4.45,4.45,4.45,4.45,4.45,3.99,4.45,4.45,4.45,3.99,3.99,4.45,4.45,4.45,3.99,4.45,4.45,4.45,4.45,4.45,4.45,3.99,4.45,4.45,4.45,4.45,4.45,4.45,4.45,4.45,4.45,3.99,4.45,4.45,3.99,3.99,4.45,3.99,4.0,3.99,4.45,4.45,4.45,4.45,4.45,4.45,4.45,4.45,4.45,4.45,4.45,3.99,3.99,3.99,4.45,4.45,3.99,4.45,3.99,4.45,4.45,4.45,3.99,4.45,4.45,3.99,4.45,3.99,4.45,4.45,3.99,4.45,3.99,4.45,4.45,4.45,4.45,4.45,4.45,3.99,4.45,4.45,4.45,4.45,4.45,4.45,4.45,4.45,4.45,4.45,4.45,3.99,4.45,4.45,4.45,4.45,4.45,4.45,4.45,4.45,3.99,4.45,4.45,4.45,4.45,4.45,4.45,4.45,4.45,3.99,4.45,4.45,3.99,4.45,4.45,3.99,3.99,4.45,4.45,3.99,4.45,3.99,4.45,4.45,4.45,4.45,4.45,3.99,4.45,4.45,4.45,4.45,4.45,4.45,4.45,4.45,4.45,4.45,4.45,4.45,3.99,3.99,3.99,4.45,3.99,4.45,4.45,4.45,3.99,3.99,4.45,4.45,4.45,4.45,4.45,4.45,4.45,4.45,11.75,9.25,8.99,8.99,8.99,8.99,11.75,11.75,11.75,11.75,8.69,8.99,9.25,9.25,8.99,11.75,9.25,11.75,8.99,8.99,11.48,11.75,8.99,8.99,8.99,11.75,11.48,11.75,8.99,11.75,8.99,11.75,8.99,11.75,11.48,11.48,9.25,9.25,11.48,9.25,11.75,9.25,9.25,11.75,11.75,8.99,8.99,9.25,9.25,8.99,11.75,8.99,11.08,9.25,8.99,11.08,9.25,9.25,9.25,8.99,11.75,11.75,9.25,8.99,11.48,11.75,8.99,8.99,9.25,8.99,11.48,9.25,11.75,8.99,9.25,9.25,9.25,11.75,8.99,8.99,8.69,9.25,9.25,11.08,11.75,9.25,9.25,9.25,11.75,8.99,8.99,11.75,11.75,8.99,11.75,11.75,9.25,8.69,11.75,8.99,11.48,8.99,8.99,8.99,9.25,9.25,9.25,8.99,8.99,8.69,9.25,9.25,9.25,11.48,8.99,9.25,11.75,8.99,11.48,9.25,9.25,8.99,9.25,9.25,9.25,9.25,9.25,8.69,8.99,11.75,9.25,11.75,8.99,8.99,11.75,8.69,11.75,8.99,8.99,9.25,9.25,8.99,9.25,8.99,8.99,9.25,11.48,9.25,11.75,8.99,8.99,11.75,9.25,11.75,8.99,9.25,8.99,8.99,11.75,9.25,9.25,11.75,8.69,11.48,8.99,11.48,9.25,11.75,11.75,8.99,11.75,11.75,11.75,9.25,11.75,8.99,11.48,11.48,11.75,11.75,8.99,9.25,8.99,11.75,11.75,11.75,11.75,9.25,11.75,8.99,9.25,8.99,8.99,11.75,11.75,8.99,11.75,11.48,8.99,9.25,8.99,8.99,8.99,11.75,11.75,9.25,9.25,9.25,9.25,11.75,9.25,11.75,11.48,8.99,9.25,8.99,11.75,9.25,8.99,9.25,9.25,8.99,8.99,8.99,9.25,8.99,11.75,9.25,11.75,9.25,8.99,8.99,8.99,8.99,8.99,8.99,11.48,9.25,11.75,8.99,11.75,9.25,9.25,11.75,8.99,11.75,11.48,8.99,9.25,8.99,9.25,9.25,8.99,8.99,8.99,11.75,9.25,8.99,11.75,11.75,9.25,9.25,11.75,8.99,8.99,9.25,9.25,9.25,8.99,9.25,9.25,11.75,9.25,11.48,8.99,11.75,9.25,9.25,8.99,11.75,9.25,11.48,11.75,11.75,9.25,9.25,11.75,8.99,8.99,11.75,8.99,9.25,9.25,8.99,11.75,11.08,8.99,8.99,11.75,11.75,9.25,11.75,11.75,9.25,11.08,8.99,9.25,11.75,9.25,11.75,9.25,9.25,9.25,9.25,8.99,8.99,8.99,8.99,8.99,9.25,11.75,9.25,9.25,8.99,9.25,8.99,9.25,8.99,8.99,11.75,11.75,8.99,9.25,9.25,9.25,8.99,8.99,11.75,9.25,8.99,8.99,8.99,11.75,8.99,9.25,8.99,11.75,11.75,8.99,9.25,11.75,9.25,9.25,11.75,11.75,9.25,11.75,9.25,8.69,11.75,9.25,9.25,11.75,11.75,11.75,11.75,11.75,8.99,1.25,1.25,1.25,1.25,1.25,1.25,1.25,1.25,1.25,1.25,1.25,1.25,1.25,1.25,1.25,1.25,1.25,1.25,1.25,1.25,1.25,1.25,1.25,1.25,1.25,1.25,1.25,1.25,1.25,1.25,1.25,1.25,1.25,1.25,1.25,1.25,1.25,1.25,1.25,1.25,1.25,1.25,1.25,1.25,1.25,1.25,1.25,1.25,1.25,1.25,1.25,1.25,1.25,1.25,1.25,1.25,1.25,1.25,1.25,1.25,1.25,1.25,1.25,1.25,1.25,1.25,1.25,1.25,1.25,1.25,1.25,1.25,1.25,1.25,1.25,1.25,1.25,1.25,1.25,1.25,1.25,1.25,1.25,1.25,1.25,1.25,1.25,1.25,1.25,1.25,1.25,1.25,1.25,1.25,1.25,1.25,1.25,1.25,1.25,1.25,1.25,1.25,1.25,1.25,1.25,1.25,1.25,1.25,1.25,1.25,1.25,1.25,1.25,1.25,1.25,1.25,1.25,1.25,1.25,1.25,1.25,1.25,1.25,1.25,1.25,1.25,1.25,1.25,1.25,1.25,1.25,1.25,1.25,1.25,1.25,1.25,1.25,1.25,1.25,1.25,1.25,1.25,1.25,1.25,1.25,1.25,1.25,1.25,1.25,1.25,1.25,1.25,1.25,1.25,1.25,1.25,1.25,1.25,1.25,1.25,1.25,1.25,1.25,1.25,1.25,1.25,1.25,1.25,1.25,1.25,1.25,1.25,1.25,1.25,1.25,1.25,1.25,1.25,1.25,1.25,1.25,1.25,1.25,1.25,1.25,1.25,1.25,1.25,1.25,1.25,1.25,1.25,1.25,1.25,1.25,1.25,1.25,1.25,1.25,1.25,1.25,1.25,1.25,1.25,1.25,1.25,1.25,1.25,1.25,1.25,1.25,1.25,1.25,1.25,1.25,1.25,1.25,1.25,1.25,1.25,1.25,1.25,1.25,1.25,1.25,1.25,1.25,1.25,1.25,1.25,1.25,1.25,1.25,1.25,1.25,1.25,1.25,1.25,1.25,1.25,1.25,1.25,1.25,1.25,1.25,1.25,1.25,1.25,1.25,1.25,1.25,1.25,1.25,1.25,1.25,1.25,1.25,1.25,1.25,1.25,1.25,1.25,1.25,1.25,1.25,1.25,1.25,1.25,1.25,1.25,1.25,1.25,1.25,1.25,1.25,1.25,1.25,1.25,1.25,1.25,1.25,1.25,1.25,1.25,1.25,1.25,1.25,1.25,1.25,1.25,1.25,1.25,1.25,1.25,1.25,1.25,1.25,1.25,1.25,1.25,1.25],\"y0\":\" \",\"yaxis\":\"y\",\"type\":\"box\"}],                        {\"template\":{\"data\":{\"histogram2dcontour\":[{\"type\":\"histogram2dcontour\",\"colorbar\":{\"outlinewidth\":0,\"ticks\":\"\"},\"colorscale\":[[0.0,\"#0d0887\"],[0.1111111111111111,\"#46039f\"],[0.2222222222222222,\"#7201a8\"],[0.3333333333333333,\"#9c179e\"],[0.4444444444444444,\"#bd3786\"],[0.5555555555555556,\"#d8576b\"],[0.6666666666666666,\"#ed7953\"],[0.7777777777777778,\"#fb9f3a\"],[0.8888888888888888,\"#fdca26\"],[1.0,\"#f0f921\"]]}],\"choropleth\":[{\"type\":\"choropleth\",\"colorbar\":{\"outlinewidth\":0,\"ticks\":\"\"}}],\"histogram2d\":[{\"type\":\"histogram2d\",\"colorbar\":{\"outlinewidth\":0,\"ticks\":\"\"},\"colorscale\":[[0.0,\"#0d0887\"],[0.1111111111111111,\"#46039f\"],[0.2222222222222222,\"#7201a8\"],[0.3333333333333333,\"#9c179e\"],[0.4444444444444444,\"#bd3786\"],[0.5555555555555556,\"#d8576b\"],[0.6666666666666666,\"#ed7953\"],[0.7777777777777778,\"#fb9f3a\"],[0.8888888888888888,\"#fdca26\"],[1.0,\"#f0f921\"]]}],\"heatmap\":[{\"type\":\"heatmap\",\"colorbar\":{\"outlinewidth\":0,\"ticks\":\"\"},\"colorscale\":[[0.0,\"#0d0887\"],[0.1111111111111111,\"#46039f\"],[0.2222222222222222,\"#7201a8\"],[0.3333333333333333,\"#9c179e\"],[0.4444444444444444,\"#bd3786\"],[0.5555555555555556,\"#d8576b\"],[0.6666666666666666,\"#ed7953\"],[0.7777777777777778,\"#fb9f3a\"],[0.8888888888888888,\"#fdca26\"],[1.0,\"#f0f921\"]]}],\"heatmapgl\":[{\"type\":\"heatmapgl\",\"colorbar\":{\"outlinewidth\":0,\"ticks\":\"\"},\"colorscale\":[[0.0,\"#0d0887\"],[0.1111111111111111,\"#46039f\"],[0.2222222222222222,\"#7201a8\"],[0.3333333333333333,\"#9c179e\"],[0.4444444444444444,\"#bd3786\"],[0.5555555555555556,\"#d8576b\"],[0.6666666666666666,\"#ed7953\"],[0.7777777777777778,\"#fb9f3a\"],[0.8888888888888888,\"#fdca26\"],[1.0,\"#f0f921\"]]}],\"contourcarpet\":[{\"type\":\"contourcarpet\",\"colorbar\":{\"outlinewidth\":0,\"ticks\":\"\"}}],\"contour\":[{\"type\":\"contour\",\"colorbar\":{\"outlinewidth\":0,\"ticks\":\"\"},\"colorscale\":[[0.0,\"#0d0887\"],[0.1111111111111111,\"#46039f\"],[0.2222222222222222,\"#7201a8\"],[0.3333333333333333,\"#9c179e\"],[0.4444444444444444,\"#bd3786\"],[0.5555555555555556,\"#d8576b\"],[0.6666666666666666,\"#ed7953\"],[0.7777777777777778,\"#fb9f3a\"],[0.8888888888888888,\"#fdca26\"],[1.0,\"#f0f921\"]]}],\"surface\":[{\"type\":\"surface\",\"colorbar\":{\"outlinewidth\":0,\"ticks\":\"\"},\"colorscale\":[[0.0,\"#0d0887\"],[0.1111111111111111,\"#46039f\"],[0.2222222222222222,\"#7201a8\"],[0.3333333333333333,\"#9c179e\"],[0.4444444444444444,\"#bd3786\"],[0.5555555555555556,\"#d8576b\"],[0.6666666666666666,\"#ed7953\"],[0.7777777777777778,\"#fb9f3a\"],[0.8888888888888888,\"#fdca26\"],[1.0,\"#f0f921\"]]}],\"mesh3d\":[{\"type\":\"mesh3d\",\"colorbar\":{\"outlinewidth\":0,\"ticks\":\"\"}}],\"scatter\":[{\"fillpattern\":{\"fillmode\":\"overlay\",\"size\":10,\"solidity\":0.2},\"type\":\"scatter\"}],\"parcoords\":[{\"type\":\"parcoords\",\"line\":{\"colorbar\":{\"outlinewidth\":0,\"ticks\":\"\"}}}],\"scatterpolargl\":[{\"type\":\"scatterpolargl\",\"marker\":{\"colorbar\":{\"outlinewidth\":0,\"ticks\":\"\"}}}],\"bar\":[{\"error_x\":{\"color\":\"#2a3f5f\"},\"error_y\":{\"color\":\"#2a3f5f\"},\"marker\":{\"line\":{\"color\":\"#E5ECF6\",\"width\":0.5},\"pattern\":{\"fillmode\":\"overlay\",\"size\":10,\"solidity\":0.2}},\"type\":\"bar\"}],\"scattergeo\":[{\"type\":\"scattergeo\",\"marker\":{\"colorbar\":{\"outlinewidth\":0,\"ticks\":\"\"}}}],\"scatterpolar\":[{\"type\":\"scatterpolar\",\"marker\":{\"colorbar\":{\"outlinewidth\":0,\"ticks\":\"\"}}}],\"histogram\":[{\"marker\":{\"pattern\":{\"fillmode\":\"overlay\",\"size\":10,\"solidity\":0.2}},\"type\":\"histogram\"}],\"scattergl\":[{\"type\":\"scattergl\",\"marker\":{\"colorbar\":{\"outlinewidth\":0,\"ticks\":\"\"}}}],\"scatter3d\":[{\"type\":\"scatter3d\",\"line\":{\"colorbar\":{\"outlinewidth\":0,\"ticks\":\"\"}},\"marker\":{\"colorbar\":{\"outlinewidth\":0,\"ticks\":\"\"}}}],\"scattermapbox\":[{\"type\":\"scattermapbox\",\"marker\":{\"colorbar\":{\"outlinewidth\":0,\"ticks\":\"\"}}}],\"scatterternary\":[{\"type\":\"scatterternary\",\"marker\":{\"colorbar\":{\"outlinewidth\":0,\"ticks\":\"\"}}}],\"scattercarpet\":[{\"type\":\"scattercarpet\",\"marker\":{\"colorbar\":{\"outlinewidth\":0,\"ticks\":\"\"}}}],\"carpet\":[{\"aaxis\":{\"endlinecolor\":\"#2a3f5f\",\"gridcolor\":\"white\",\"linecolor\":\"white\",\"minorgridcolor\":\"white\",\"startlinecolor\":\"#2a3f5f\"},\"baxis\":{\"endlinecolor\":\"#2a3f5f\",\"gridcolor\":\"white\",\"linecolor\":\"white\",\"minorgridcolor\":\"white\",\"startlinecolor\":\"#2a3f5f\"},\"type\":\"carpet\"}],\"table\":[{\"cells\":{\"fill\":{\"color\":\"#EBF0F8\"},\"line\":{\"color\":\"white\"}},\"header\":{\"fill\":{\"color\":\"#C8D4E3\"},\"line\":{\"color\":\"white\"}},\"type\":\"table\"}],\"barpolar\":[{\"marker\":{\"line\":{\"color\":\"#E5ECF6\",\"width\":0.5},\"pattern\":{\"fillmode\":\"overlay\",\"size\":10,\"solidity\":0.2}},\"type\":\"barpolar\"}],\"pie\":[{\"automargin\":true,\"type\":\"pie\"}]},\"layout\":{\"autotypenumbers\":\"strict\",\"colorway\":[\"#636efa\",\"#EF553B\",\"#00cc96\",\"#ab63fa\",\"#FFA15A\",\"#19d3f3\",\"#FF6692\",\"#B6E880\",\"#FF97FF\",\"#FECB52\"],\"font\":{\"color\":\"#2a3f5f\"},\"hovermode\":\"closest\",\"hoverlabel\":{\"align\":\"left\"},\"paper_bgcolor\":\"white\",\"plot_bgcolor\":\"#E5ECF6\",\"polar\":{\"bgcolor\":\"#E5ECF6\",\"angularaxis\":{\"gridcolor\":\"white\",\"linecolor\":\"white\",\"ticks\":\"\"},\"radialaxis\":{\"gridcolor\":\"white\",\"linecolor\":\"white\",\"ticks\":\"\"}},\"ternary\":{\"bgcolor\":\"#E5ECF6\",\"aaxis\":{\"gridcolor\":\"white\",\"linecolor\":\"white\",\"ticks\":\"\"},\"baxis\":{\"gridcolor\":\"white\",\"linecolor\":\"white\",\"ticks\":\"\"},\"caxis\":{\"gridcolor\":\"white\",\"linecolor\":\"white\",\"ticks\":\"\"}},\"coloraxis\":{\"colorbar\":{\"outlinewidth\":0,\"ticks\":\"\"}},\"colorscale\":{\"sequential\":[[0.0,\"#0d0887\"],[0.1111111111111111,\"#46039f\"],[0.2222222222222222,\"#7201a8\"],[0.3333333333333333,\"#9c179e\"],[0.4444444444444444,\"#bd3786\"],[0.5555555555555556,\"#d8576b\"],[0.6666666666666666,\"#ed7953\"],[0.7777777777777778,\"#fb9f3a\"],[0.8888888888888888,\"#fdca26\"],[1.0,\"#f0f921\"]],\"sequentialminus\":[[0.0,\"#0d0887\"],[0.1111111111111111,\"#46039f\"],[0.2222222222222222,\"#7201a8\"],[0.3333333333333333,\"#9c179e\"],[0.4444444444444444,\"#bd3786\"],[0.5555555555555556,\"#d8576b\"],[0.6666666666666666,\"#ed7953\"],[0.7777777777777778,\"#fb9f3a\"],[0.8888888888888888,\"#fdca26\"],[1.0,\"#f0f921\"]],\"diverging\":[[0,\"#8e0152\"],[0.1,\"#c51b7d\"],[0.2,\"#de77ae\"],[0.3,\"#f1b6da\"],[0.4,\"#fde0ef\"],[0.5,\"#f7f7f7\"],[0.6,\"#e6f5d0\"],[0.7,\"#b8e186\"],[0.8,\"#7fbc41\"],[0.9,\"#4d9221\"],[1,\"#276419\"]]},\"xaxis\":{\"gridcolor\":\"white\",\"linecolor\":\"white\",\"ticks\":\"\",\"title\":{\"standoff\":15},\"zerolinecolor\":\"white\",\"automargin\":true,\"zerolinewidth\":2},\"yaxis\":{\"gridcolor\":\"white\",\"linecolor\":\"white\",\"ticks\":\"\",\"title\":{\"standoff\":15},\"zerolinecolor\":\"white\",\"automargin\":true,\"zerolinewidth\":2},\"scene\":{\"xaxis\":{\"backgroundcolor\":\"#E5ECF6\",\"gridcolor\":\"white\",\"linecolor\":\"white\",\"showbackground\":true,\"ticks\":\"\",\"zerolinecolor\":\"white\",\"gridwidth\":2},\"yaxis\":{\"backgroundcolor\":\"#E5ECF6\",\"gridcolor\":\"white\",\"linecolor\":\"white\",\"showbackground\":true,\"ticks\":\"\",\"zerolinecolor\":\"white\",\"gridwidth\":2},\"zaxis\":{\"backgroundcolor\":\"#E5ECF6\",\"gridcolor\":\"white\",\"linecolor\":\"white\",\"showbackground\":true,\"ticks\":\"\",\"zerolinecolor\":\"white\",\"gridwidth\":2}},\"shapedefaults\":{\"line\":{\"color\":\"#2a3f5f\"}},\"annotationdefaults\":{\"arrowcolor\":\"#2a3f5f\",\"arrowhead\":0,\"arrowwidth\":1},\"geo\":{\"bgcolor\":\"white\",\"landcolor\":\"#E5ECF6\",\"subunitcolor\":\"white\",\"showland\":true,\"showlakes\":true,\"lakecolor\":\"white\"},\"title\":{\"x\":0.05},\"mapbox\":{\"style\":\"light\"}}},\"xaxis\":{\"anchor\":\"y\",\"domain\":[0.0,1.0],\"title\":{\"text\":\"item_name\"},\"categoryorder\":\"array\",\"categoryarray\":[\"Chicken Bowl\",\"Chicken Burrito\",\"Chips and Guacamole\",\"Steak Burrito\",\"Canned Soft Drink\"]},\"yaxis\":{\"anchor\":\"x\",\"domain\":[0.0,1.0],\"title\":{\"text\":\"item_price\"}},\"legend\":{\"tracegroupgap\":0},\"title\":{\"text\":\"Distribution of Item Prices per Item for Top 5 Most Ordered Items (Ordered by Quantity)\"},\"boxmode\":\"group\"},                        {\"responsive\": true}                    ).then(function(){\n",
              "                            \n",
              "var gd = document.getElementById('943eb2d4-9c83-4439-bf9f-e33ca31bc128');\n",
              "var x = new MutationObserver(function (mutations, observer) {{\n",
              "        var display = window.getComputedStyle(gd).display;\n",
              "        if (!display || display === 'none') {{\n",
              "            console.log([gd, 'removed!']);\n",
              "            Plotly.purge(gd);\n",
              "            observer.disconnect();\n",
              "        }}\n",
              "}});\n",
              "\n",
              "// Listen for the removal of the full notebook cells\n",
              "var notebookContainer = gd.closest('#notebook-container');\n",
              "if (notebookContainer) {{\n",
              "    x.observe(notebookContainer, {childList: true});\n",
              "}}\n",
              "\n",
              "// Listen for the clearing of the current output cell\n",
              "var outputEl = gd.closest('.output');\n",
              "if (outputEl) {{\n",
              "    x.observe(outputEl, {childList: true});\n",
              "}}\n",
              "\n",
              "                        })                };                            </script>        </div>\n",
              "</body>\n",
              "</html>"
            ]
          },
          "metadata": {}
        }
      ]
    },
    {
      "cell_type": "markdown",
      "source": [
        "# Salsa Type of Best selling Menu"
      ],
      "metadata": {
        "id": "kzfcoyriyZzp"
      }
    },
    {
      "cell_type": "markdown",
      "source": [
        "###data prep\n",
        "- extract salsa type\n",
        "- extract spice level of salsa type"
      ],
      "metadata": {
        "id": "edn2Mds4r1Vl"
      }
    },
    {
      "cell_type": "code",
      "source": [
        "# Function to extract spice level\n",
        "def extract_spice_level(choices_list):\n",
        "    spice_level = None\n",
        "    for choice in choices_list:\n",
        "        if 'Salsa' in choice:\n",
        "            if '(Mild)' in choice:\n",
        "                spice_level = 'Mild'\n",
        "                break\n",
        "            elif '(Hot)' in choice:\n",
        "                spice_level = 'Hot'\n",
        "                break\n",
        "            elif '(Medium)' in choice:\n",
        "                spice_level = 'Medium'\n",
        "                break\n",
        "    return spice_level\n",
        "\n",
        "# Create the 'SpiceLevel' column if it doesn't exist\n",
        "if 'SpiceLevel' not in df.columns:\n",
        "    df['SpiceLevel'] = df['choice_description_split'].apply(extract_spice_level)\n",
        "\n",
        "\n",
        "# Prepare data for sunburst chart, handling potential missing values\n",
        "df_sunburst = df.copy()\n",
        "df_sunburst['SalsaType'] = df_sunburst['SalsaType'].fillna('None')\n",
        "df_sunburst['SpiceLevel'] = df_sunburst['SpiceLevel'].fillna('None')\n",
        "\n",
        "# Filter to include only items that contain a salsa type\n",
        "df_sunburst_filtered = df_sunburst[df_sunburst['SalsaType'] != 'None'].copy()\n",
        "\n",
        "# Get the total quantity for each item in the filtered data\n",
        "item_quantities_filtered = df_sunburst_filtered.groupby('item_name')['quantity'].sum()\n",
        "\n",
        "# Get the top 5 most ordered items from the filtered data\n",
        "top_5_items_filtered = item_quantities_filtered.sort_values(ascending=False).head(5).index\n",
        "\n",
        "# Filter the sunburst data to include only the top 5 items\n",
        "df_sunburst_top5 = df_sunburst_filtered[df_sunburst_filtered['item_name'].isin(top_5_items_filtered)].copy()"
      ],
      "metadata": {
        "id": "a4d56zBHKxtZ"
      },
      "execution_count": 41,
      "outputs": []
    },
    {
      "cell_type": "code",
      "metadata": {
        "id": "5L-u_YPFjNY3"
      },
      "source": [
        "# Function to extract salsa type without spice level\n",
        "def extract_salsa_type_without_spice(choices_list):\n",
        "    salsa_type = None\n",
        "    for choice in choices_list:\n",
        "        if 'Salsa' in choice:\n",
        "            # Remove spice level indicators\n",
        "            salsa_type = choice.strip().replace('(Mild)', '').replace('(Hot)', '').replace('(Medium)', '').strip()\n",
        "            break # Assuming only one salsa type per item for this analysis\n",
        "    return salsa_type\n",
        "\n",
        "# Create the new 'SalsaType' column\n",
        "if 'SalsaType' not in df.columns:\n",
        "    df['SalsaType'] = df['choice_description_split'].apply(extract_salsa_type_without_spice)\n",
        "\n",
        "# Replace hyphens with spaces in specific salsa names in the 'SalsaType' column\n",
        "df['SalsaType'] = df['SalsaType'].str.replace('Tomatillo-Red Chili Salsa', 'Tomatillo Red Chili Salsa').str.replace('Tomatillo-Green Chili Salsa', 'Tomatillo Green Chili Salsa')\n",
        "\n",
        "# Filter data to include only items that contain a salsa type\n",
        "df_with_salsa = df[df['SalsaType'].notna() & (df['SalsaType'] != 'None')].copy()\n",
        "\n",
        "# Get the total quantity for each item in the filtered data\n",
        "item_quantities_with_salsa = df_with_salsa.groupby('item_name')['quantity'].sum()\n",
        "\n",
        "# Get the top 5 most ordered items from the filtered data\n",
        "top_5_items_with_salsa = item_quantities_with_salsa.sort_values(ascending=False).head(5).index\n",
        "\n",
        "# Filter the data for the top 5 items that contain salsa\n",
        "df_top5_with_salsa = df_with_salsa[df_with_salsa['item_name'].isin(top_5_items_with_salsa)].copy()\n",
        "\n",
        "\n",
        "# Calculate percentage of each SalsaType for each top 5 item\n",
        "salsa_percentages_by_item_top5 = {}\n",
        "for item in top_5_items_with_salsa:\n",
        "    item_df = df_top5_with_salsa[df_top5_with_salsa['item_name'] == item]\n",
        "    salsa_counts = item_df['SalsaType'].value_counts()\n",
        "    if salsa_counts.sum() > 0:\n",
        "        salsa_percentages = salsa_counts / salsa_counts.sum() * 100\n",
        "        salsa_percentages_by_item_top5[item] = salsa_percentages.sort_values(ascending=False) # Sort by percentage descending\n",
        "    else:\n",
        "        salsa_percentages_by_item_top5[item] = pd.Series(dtype=float)"
      ],
      "execution_count": 38,
      "outputs": []
    },
    {
      "cell_type": "markdown",
      "source": [
        "##Bar Chart of Salsa Type for Top 5 Most Ordered by Percentage"
      ],
      "metadata": {
        "id": "Y3TTC9Qds_TV"
      }
    },
    {
      "cell_type": "code",
      "source": [
        "# Prepare data for plotting\n",
        "plot_data_top5 = []\n",
        "for item, percentages in salsa_percentages_by_item_top5.items():\n",
        "    for salsa_type, percentage in percentages.items():\n",
        "        if salsa_type: # Exclude empty salsa types\n",
        "            plot_data_top5.append({'item_name': item, 'salsa_type': salsa_type, 'percentage': percentage})\n",
        "\n",
        "plot_df_top5 = pd.DataFrame(plot_data_top5)\n",
        "\n",
        "# Create a stacked bar chart with percentages shown for top 5 items with salsa - THIS BLOCK MUST COME AFTER DATA PREP\n",
        "fig = px.bar(plot_df_top5, x='percentage', y='item_name', color='salsa_type',\n",
        "             title='Percentage of Salsa Types per Item for Top 5 Most Ordered with Salsa (Percentage)',\n",
        "             orientation='h',\n",
        "             text='percentage') # Add text labels\n",
        "\n",
        "fig.update_layout(yaxis={'categoryorder':'array', 'categoryarray': top_5_items_with_salsa[::-1]}) # Maintain the order of items\n",
        "fig.update_traces(texttemplate='%{text:.1f}%', textposition='auto')\n",
        "fig.show()"
      ],
      "metadata": {
        "colab": {
          "base_uri": "https://localhost:8080/",
          "height": 542
        },
        "id": "Yj42UHwZJ8x4",
        "outputId": "0ae0b4be-43e9-4a3a-afdc-e73be4ac6783"
      },
      "execution_count": 42,
      "outputs": [
        {
          "output_type": "display_data",
          "data": {
            "text/html": [
              "<html>\n",
              "<head><meta charset=\"utf-8\" /></head>\n",
              "<body>\n",
              "    <div>            <script src=\"https://cdnjs.cloudflare.com/ajax/libs/mathjax/2.7.5/MathJax.js?config=TeX-AMS-MML_SVG\"></script><script type=\"text/javascript\">if (window.MathJax && window.MathJax.Hub && window.MathJax.Hub.Config) {window.MathJax.Hub.Config({SVG: {font: \"STIX-Web\"}});}</script>                <script type=\"text/javascript\">window.PlotlyConfig = {MathJaxConfig: 'local'};</script>\n",
              "        <script charset=\"utf-8\" src=\"https://cdn.plot.ly/plotly-2.35.2.min.js\"></script>                <div id=\"a45e70ea-1949-4f27-bbef-1f446de5d959\" class=\"plotly-graph-div\" style=\"height:525px; width:100%;\"></div>            <script type=\"text/javascript\">                                    window.PLOTLYENV=window.PLOTLYENV || {};                                    if (document.getElementById(\"a45e70ea-1949-4f27-bbef-1f446de5d959\")) {                    Plotly.newPlot(                        \"a45e70ea-1949-4f27-bbef-1f446de5d959\",                        [{\"alignmentgroup\":\"True\",\"hovertemplate\":\"salsa_type=Fresh Tomato Salsa\\u003cbr\\u003epercentage=%{text}\\u003cbr\\u003eitem_name=%{y}\\u003cextra\\u003e\\u003c\\u002fextra\\u003e\",\"legendgroup\":\"Fresh Tomato Salsa\",\"marker\":{\"color\":\"#636efa\",\"pattern\":{\"shape\":\"\"}},\"name\":\"Fresh Tomato Salsa\",\"offsetgroup\":\"Fresh Tomato Salsa\",\"orientation\":\"h\",\"showlegend\":true,\"text\":[54.72222222222223,48.88475836431227,41.80790960451977,44.1747572815534,64.54545454545455],\"textposition\":\"auto\",\"x\":[54.72222222222223,48.88475836431227,41.80790960451977,44.1747572815534,64.54545454545455],\"xaxis\":\"x\",\"y\":[\"Chicken Bowl\",\"Chicken Burrito\",\"Steak Burrito\",\"Steak Bowl\",\"Chicken Salad Bowl\"],\"yaxis\":\"y\",\"type\":\"bar\",\"texttemplate\":\"%{text:.1f}%\"},{\"alignmentgroup\":\"True\",\"hovertemplate\":\"salsa_type=Roasted Chili Corn Salsa\\u003cbr\\u003epercentage=%{text}\\u003cbr\\u003eitem_name=%{y}\\u003cextra\\u003e\\u003c\\u002fextra\\u003e\",\"legendgroup\":\"Roasted Chili Corn Salsa\",\"marker\":{\"color\":\"#EF553B\",\"pattern\":{\"shape\":\"\"}},\"name\":\"Roasted Chili Corn Salsa\",\"offsetgroup\":\"Roasted Chili Corn Salsa\",\"orientation\":\"h\",\"showlegend\":true,\"text\":[20.416666666666668,18.587360594795538,28.53107344632768,29.126213592233007,19.090909090909093],\"textposition\":\"auto\",\"x\":[20.416666666666668,18.587360594795538,28.53107344632768,29.126213592233007,19.090909090909093],\"xaxis\":\"x\",\"y\":[\"Chicken Bowl\",\"Chicken Burrito\",\"Steak Burrito\",\"Steak Bowl\",\"Chicken Salad Bowl\"],\"yaxis\":\"y\",\"type\":\"bar\",\"texttemplate\":\"%{text:.1f}%\"},{\"alignmentgroup\":\"True\",\"hovertemplate\":\"salsa_type=Tomatillo Red Chili Salsa\\u003cbr\\u003epercentage=%{text}\\u003cbr\\u003eitem_name=%{y}\\u003cextra\\u003e\\u003c\\u002fextra\\u003e\",\"legendgroup\":\"Tomatillo Red Chili Salsa\",\"marker\":{\"color\":\"#00cc96\",\"pattern\":{\"shape\":\"\"}},\"name\":\"Tomatillo Red Chili Salsa\",\"offsetgroup\":\"Tomatillo Red Chili Salsa\",\"orientation\":\"h\",\"showlegend\":true,\"text\":[14.027777777777779,19.702602230483272,16.38418079096045,16.50485436893204,5.454545454545454],\"textposition\":\"auto\",\"x\":[14.027777777777779,19.702602230483272,16.38418079096045,16.50485436893204,5.454545454545454],\"xaxis\":\"x\",\"y\":[\"Chicken Bowl\",\"Chicken Burrito\",\"Steak Burrito\",\"Steak Bowl\",\"Chicken Salad Bowl\"],\"yaxis\":\"y\",\"type\":\"bar\",\"texttemplate\":\"%{text:.1f}%\"},{\"alignmentgroup\":\"True\",\"hovertemplate\":\"salsa_type=Tomatillo Green Chili Salsa\\u003cbr\\u003epercentage=%{text}\\u003cbr\\u003eitem_name=%{y}\\u003cextra\\u003e\\u003c\\u002fextra\\u003e\",\"legendgroup\":\"Tomatillo Green Chili Salsa\",\"marker\":{\"color\":\"#ab63fa\",\"pattern\":{\"shape\":\"\"}},\"name\":\"Tomatillo Green Chili Salsa\",\"offsetgroup\":\"Tomatillo Green Chili Salsa\",\"orientation\":\"h\",\"showlegend\":true,\"text\":[10.833333333333334,12.825278810408921,13.27683615819209,10.194174757281553,10.909090909090908],\"textposition\":\"auto\",\"x\":[10.833333333333334,12.825278810408921,13.27683615819209,10.194174757281553,10.909090909090908],\"xaxis\":\"x\",\"y\":[\"Chicken Bowl\",\"Chicken Burrito\",\"Steak Burrito\",\"Steak Bowl\",\"Chicken Salad Bowl\"],\"yaxis\":\"y\",\"type\":\"bar\",\"texttemplate\":\"%{text:.1f}%\"}],                        {\"template\":{\"data\":{\"histogram2dcontour\":[{\"type\":\"histogram2dcontour\",\"colorbar\":{\"outlinewidth\":0,\"ticks\":\"\"},\"colorscale\":[[0.0,\"#0d0887\"],[0.1111111111111111,\"#46039f\"],[0.2222222222222222,\"#7201a8\"],[0.3333333333333333,\"#9c179e\"],[0.4444444444444444,\"#bd3786\"],[0.5555555555555556,\"#d8576b\"],[0.6666666666666666,\"#ed7953\"],[0.7777777777777778,\"#fb9f3a\"],[0.8888888888888888,\"#fdca26\"],[1.0,\"#f0f921\"]]}],\"choropleth\":[{\"type\":\"choropleth\",\"colorbar\":{\"outlinewidth\":0,\"ticks\":\"\"}}],\"histogram2d\":[{\"type\":\"histogram2d\",\"colorbar\":{\"outlinewidth\":0,\"ticks\":\"\"},\"colorscale\":[[0.0,\"#0d0887\"],[0.1111111111111111,\"#46039f\"],[0.2222222222222222,\"#7201a8\"],[0.3333333333333333,\"#9c179e\"],[0.4444444444444444,\"#bd3786\"],[0.5555555555555556,\"#d8576b\"],[0.6666666666666666,\"#ed7953\"],[0.7777777777777778,\"#fb9f3a\"],[0.8888888888888888,\"#fdca26\"],[1.0,\"#f0f921\"]]}],\"heatmap\":[{\"type\":\"heatmap\",\"colorbar\":{\"outlinewidth\":0,\"ticks\":\"\"},\"colorscale\":[[0.0,\"#0d0887\"],[0.1111111111111111,\"#46039f\"],[0.2222222222222222,\"#7201a8\"],[0.3333333333333333,\"#9c179e\"],[0.4444444444444444,\"#bd3786\"],[0.5555555555555556,\"#d8576b\"],[0.6666666666666666,\"#ed7953\"],[0.7777777777777778,\"#fb9f3a\"],[0.8888888888888888,\"#fdca26\"],[1.0,\"#f0f921\"]]}],\"heatmapgl\":[{\"type\":\"heatmapgl\",\"colorbar\":{\"outlinewidth\":0,\"ticks\":\"\"},\"colorscale\":[[0.0,\"#0d0887\"],[0.1111111111111111,\"#46039f\"],[0.2222222222222222,\"#7201a8\"],[0.3333333333333333,\"#9c179e\"],[0.4444444444444444,\"#bd3786\"],[0.5555555555555556,\"#d8576b\"],[0.6666666666666666,\"#ed7953\"],[0.7777777777777778,\"#fb9f3a\"],[0.8888888888888888,\"#fdca26\"],[1.0,\"#f0f921\"]]}],\"contourcarpet\":[{\"type\":\"contourcarpet\",\"colorbar\":{\"outlinewidth\":0,\"ticks\":\"\"}}],\"contour\":[{\"type\":\"contour\",\"colorbar\":{\"outlinewidth\":0,\"ticks\":\"\"},\"colorscale\":[[0.0,\"#0d0887\"],[0.1111111111111111,\"#46039f\"],[0.2222222222222222,\"#7201a8\"],[0.3333333333333333,\"#9c179e\"],[0.4444444444444444,\"#bd3786\"],[0.5555555555555556,\"#d8576b\"],[0.6666666666666666,\"#ed7953\"],[0.7777777777777778,\"#fb9f3a\"],[0.8888888888888888,\"#fdca26\"],[1.0,\"#f0f921\"]]}],\"surface\":[{\"type\":\"surface\",\"colorbar\":{\"outlinewidth\":0,\"ticks\":\"\"},\"colorscale\":[[0.0,\"#0d0887\"],[0.1111111111111111,\"#46039f\"],[0.2222222222222222,\"#7201a8\"],[0.3333333333333333,\"#9c179e\"],[0.4444444444444444,\"#bd3786\"],[0.5555555555555556,\"#d8576b\"],[0.6666666666666666,\"#ed7953\"],[0.7777777777777778,\"#fb9f3a\"],[0.8888888888888888,\"#fdca26\"],[1.0,\"#f0f921\"]]}],\"mesh3d\":[{\"type\":\"mesh3d\",\"colorbar\":{\"outlinewidth\":0,\"ticks\":\"\"}}],\"scatter\":[{\"fillpattern\":{\"fillmode\":\"overlay\",\"size\":10,\"solidity\":0.2},\"type\":\"scatter\"}],\"parcoords\":[{\"type\":\"parcoords\",\"line\":{\"colorbar\":{\"outlinewidth\":0,\"ticks\":\"\"}}}],\"scatterpolargl\":[{\"type\":\"scatterpolargl\",\"marker\":{\"colorbar\":{\"outlinewidth\":0,\"ticks\":\"\"}}}],\"bar\":[{\"error_x\":{\"color\":\"#2a3f5f\"},\"error_y\":{\"color\":\"#2a3f5f\"},\"marker\":{\"line\":{\"color\":\"#E5ECF6\",\"width\":0.5},\"pattern\":{\"fillmode\":\"overlay\",\"size\":10,\"solidity\":0.2}},\"type\":\"bar\"}],\"scattergeo\":[{\"type\":\"scattergeo\",\"marker\":{\"colorbar\":{\"outlinewidth\":0,\"ticks\":\"\"}}}],\"scatterpolar\":[{\"type\":\"scatterpolar\",\"marker\":{\"colorbar\":{\"outlinewidth\":0,\"ticks\":\"\"}}}],\"histogram\":[{\"marker\":{\"pattern\":{\"fillmode\":\"overlay\",\"size\":10,\"solidity\":0.2}},\"type\":\"histogram\"}],\"scattergl\":[{\"type\":\"scattergl\",\"marker\":{\"colorbar\":{\"outlinewidth\":0,\"ticks\":\"\"}}}],\"scatter3d\":[{\"type\":\"scatter3d\",\"line\":{\"colorbar\":{\"outlinewidth\":0,\"ticks\":\"\"}},\"marker\":{\"colorbar\":{\"outlinewidth\":0,\"ticks\":\"\"}}}],\"scattermapbox\":[{\"type\":\"scattermapbox\",\"marker\":{\"colorbar\":{\"outlinewidth\":0,\"ticks\":\"\"}}}],\"scatterternary\":[{\"type\":\"scatterternary\",\"marker\":{\"colorbar\":{\"outlinewidth\":0,\"ticks\":\"\"}}}],\"scattercarpet\":[{\"type\":\"scattercarpet\",\"marker\":{\"colorbar\":{\"outlinewidth\":0,\"ticks\":\"\"}}}],\"carpet\":[{\"aaxis\":{\"endlinecolor\":\"#2a3f5f\",\"gridcolor\":\"white\",\"linecolor\":\"white\",\"minorgridcolor\":\"white\",\"startlinecolor\":\"#2a3f5f\"},\"baxis\":{\"endlinecolor\":\"#2a3f5f\",\"gridcolor\":\"white\",\"linecolor\":\"white\",\"minorgridcolor\":\"white\",\"startlinecolor\":\"#2a3f5f\"},\"type\":\"carpet\"}],\"table\":[{\"cells\":{\"fill\":{\"color\":\"#EBF0F8\"},\"line\":{\"color\":\"white\"}},\"header\":{\"fill\":{\"color\":\"#C8D4E3\"},\"line\":{\"color\":\"white\"}},\"type\":\"table\"}],\"barpolar\":[{\"marker\":{\"line\":{\"color\":\"#E5ECF6\",\"width\":0.5},\"pattern\":{\"fillmode\":\"overlay\",\"size\":10,\"solidity\":0.2}},\"type\":\"barpolar\"}],\"pie\":[{\"automargin\":true,\"type\":\"pie\"}]},\"layout\":{\"autotypenumbers\":\"strict\",\"colorway\":[\"#636efa\",\"#EF553B\",\"#00cc96\",\"#ab63fa\",\"#FFA15A\",\"#19d3f3\",\"#FF6692\",\"#B6E880\",\"#FF97FF\",\"#FECB52\"],\"font\":{\"color\":\"#2a3f5f\"},\"hovermode\":\"closest\",\"hoverlabel\":{\"align\":\"left\"},\"paper_bgcolor\":\"white\",\"plot_bgcolor\":\"#E5ECF6\",\"polar\":{\"bgcolor\":\"#E5ECF6\",\"angularaxis\":{\"gridcolor\":\"white\",\"linecolor\":\"white\",\"ticks\":\"\"},\"radialaxis\":{\"gridcolor\":\"white\",\"linecolor\":\"white\",\"ticks\":\"\"}},\"ternary\":{\"bgcolor\":\"#E5ECF6\",\"aaxis\":{\"gridcolor\":\"white\",\"linecolor\":\"white\",\"ticks\":\"\"},\"baxis\":{\"gridcolor\":\"white\",\"linecolor\":\"white\",\"ticks\":\"\"},\"caxis\":{\"gridcolor\":\"white\",\"linecolor\":\"white\",\"ticks\":\"\"}},\"coloraxis\":{\"colorbar\":{\"outlinewidth\":0,\"ticks\":\"\"}},\"colorscale\":{\"sequential\":[[0.0,\"#0d0887\"],[0.1111111111111111,\"#46039f\"],[0.2222222222222222,\"#7201a8\"],[0.3333333333333333,\"#9c179e\"],[0.4444444444444444,\"#bd3786\"],[0.5555555555555556,\"#d8576b\"],[0.6666666666666666,\"#ed7953\"],[0.7777777777777778,\"#fb9f3a\"],[0.8888888888888888,\"#fdca26\"],[1.0,\"#f0f921\"]],\"sequentialminus\":[[0.0,\"#0d0887\"],[0.1111111111111111,\"#46039f\"],[0.2222222222222222,\"#7201a8\"],[0.3333333333333333,\"#9c179e\"],[0.4444444444444444,\"#bd3786\"],[0.5555555555555556,\"#d8576b\"],[0.6666666666666666,\"#ed7953\"],[0.7777777777777778,\"#fb9f3a\"],[0.8888888888888888,\"#fdca26\"],[1.0,\"#f0f921\"]],\"diverging\":[[0,\"#8e0152\"],[0.1,\"#c51b7d\"],[0.2,\"#de77ae\"],[0.3,\"#f1b6da\"],[0.4,\"#fde0ef\"],[0.5,\"#f7f7f7\"],[0.6,\"#e6f5d0\"],[0.7,\"#b8e186\"],[0.8,\"#7fbc41\"],[0.9,\"#4d9221\"],[1,\"#276419\"]]},\"xaxis\":{\"gridcolor\":\"white\",\"linecolor\":\"white\",\"ticks\":\"\",\"title\":{\"standoff\":15},\"zerolinecolor\":\"white\",\"automargin\":true,\"zerolinewidth\":2},\"yaxis\":{\"gridcolor\":\"white\",\"linecolor\":\"white\",\"ticks\":\"\",\"title\":{\"standoff\":15},\"zerolinecolor\":\"white\",\"automargin\":true,\"zerolinewidth\":2},\"scene\":{\"xaxis\":{\"backgroundcolor\":\"#E5ECF6\",\"gridcolor\":\"white\",\"linecolor\":\"white\",\"showbackground\":true,\"ticks\":\"\",\"zerolinecolor\":\"white\",\"gridwidth\":2},\"yaxis\":{\"backgroundcolor\":\"#E5ECF6\",\"gridcolor\":\"white\",\"linecolor\":\"white\",\"showbackground\":true,\"ticks\":\"\",\"zerolinecolor\":\"white\",\"gridwidth\":2},\"zaxis\":{\"backgroundcolor\":\"#E5ECF6\",\"gridcolor\":\"white\",\"linecolor\":\"white\",\"showbackground\":true,\"ticks\":\"\",\"zerolinecolor\":\"white\",\"gridwidth\":2}},\"shapedefaults\":{\"line\":{\"color\":\"#2a3f5f\"}},\"annotationdefaults\":{\"arrowcolor\":\"#2a3f5f\",\"arrowhead\":0,\"arrowwidth\":1},\"geo\":{\"bgcolor\":\"white\",\"landcolor\":\"#E5ECF6\",\"subunitcolor\":\"white\",\"showland\":true,\"showlakes\":true,\"lakecolor\":\"white\"},\"title\":{\"x\":0.05},\"mapbox\":{\"style\":\"light\"}}},\"xaxis\":{\"anchor\":\"y\",\"domain\":[0.0,1.0],\"title\":{\"text\":\"percentage\"}},\"yaxis\":{\"anchor\":\"x\",\"domain\":[0.0,1.0],\"title\":{\"text\":\"item_name\"},\"categoryorder\":\"array\",\"categoryarray\":[\"Chicken Salad Bowl\",\"Steak Bowl\",\"Steak Burrito\",\"Chicken Burrito\",\"Chicken Bowl\"]},\"legend\":{\"title\":{\"text\":\"salsa_type\"},\"tracegroupgap\":0},\"title\":{\"text\":\"Percentage of Salsa Types per Item for Top 5 Most Ordered with Salsa (Percentage)\"},\"barmode\":\"relative\"},                        {\"responsive\": true}                    ).then(function(){\n",
              "                            \n",
              "var gd = document.getElementById('a45e70ea-1949-4f27-bbef-1f446de5d959');\n",
              "var x = new MutationObserver(function (mutations, observer) {{\n",
              "        var display = window.getComputedStyle(gd).display;\n",
              "        if (!display || display === 'none') {{\n",
              "            console.log([gd, 'removed!']);\n",
              "            Plotly.purge(gd);\n",
              "            observer.disconnect();\n",
              "        }}\n",
              "}});\n",
              "\n",
              "// Listen for the removal of the full notebook cells\n",
              "var notebookContainer = gd.closest('#notebook-container');\n",
              "if (notebookContainer) {{\n",
              "    x.observe(notebookContainer, {childList: true});\n",
              "}}\n",
              "\n",
              "// Listen for the clearing of the current output cell\n",
              "var outputEl = gd.closest('.output');\n",
              "if (outputEl) {{\n",
              "    x.observe(outputEl, {childList: true});\n",
              "}}\n",
              "\n",
              "                        })                };                            </script>        </div>\n",
              "</body>\n",
              "</html>"
            ]
          },
          "metadata": {}
        }
      ]
    },
    {
      "cell_type": "markdown",
      "source": [
        "##Sunburst of Salsa Type for Top 5 Most Ordered\n"
      ],
      "metadata": {
        "id": "4PVkHyImAUBj"
      }
    },
    {
      "cell_type": "code",
      "metadata": {
        "colab": {
          "base_uri": "https://localhost:8080/",
          "height": 542
        },
        "id": "07208de6",
        "outputId": "f027caa4-76f9-47fc-a79c-0c26d4730b4a"
      },
      "source": [
        "# Create the sunburst chart with filtered data\n",
        "fig = px.sunburst(df_sunburst_top5, path=['item_name', 'SalsaType', 'SpiceLevel'], values='quantity',\n",
        "                  title='Sunburst Chart of Top 5 Most Ordered, Salsa Type, and Spice Level')\n",
        "fig.show()"
      ],
      "execution_count": 45,
      "outputs": [
        {
          "output_type": "display_data",
          "data": {
            "text/html": [
              "<html>\n",
              "<head><meta charset=\"utf-8\" /></head>\n",
              "<body>\n",
              "    <div>            <script src=\"https://cdnjs.cloudflare.com/ajax/libs/mathjax/2.7.5/MathJax.js?config=TeX-AMS-MML_SVG\"></script><script type=\"text/javascript\">if (window.MathJax && window.MathJax.Hub && window.MathJax.Hub.Config) {window.MathJax.Hub.Config({SVG: {font: \"STIX-Web\"}});}</script>                <script type=\"text/javascript\">window.PlotlyConfig = {MathJaxConfig: 'local'};</script>\n",
              "        <script charset=\"utf-8\" src=\"https://cdn.plot.ly/plotly-2.35.2.min.js\"></script>                <div id=\"d97d8750-7ac0-4cdf-994b-5f03522c846f\" class=\"plotly-graph-div\" style=\"height:525px; width:100%;\"></div>            <script type=\"text/javascript\">                                    window.PLOTLYENV=window.PLOTLYENV || {};                                    if (document.getElementById(\"d97d8750-7ac0-4cdf-994b-5f03522c846f\")) {                    Plotly.newPlot(                        \"d97d8750-7ac0-4cdf-994b-5f03522c846f\",                        [{\"branchvalues\":\"total\",\"domain\":{\"x\":[0.0,1.0],\"y\":[0.0,1.0]},\"hovertemplate\":\"labels=%{label}\\u003cbr\\u003equantity=%{value}\\u003cbr\\u003eparent=%{parent}\\u003cbr\\u003eid=%{id}\\u003cextra\\u003e\\u003c\\u002fextra\\u003e\",\"ids\":[\"Chicken Bowl\\u002fTomatillo Red Chili Salsa\\u002fHot\",\"Chicken Burrito\\u002fTomatillo Red Chili Salsa\\u002fHot\",\"Steak Bowl\\u002fTomatillo Red Chili Salsa\\u002fHot\",\"Steak Burrito\\u002fTomatillo Red Chili Salsa\\u002fHot\",\"Chicken Bowl\\u002fRoasted Chili Corn Salsa\\u002fMedium\",\"Chicken Burrito\\u002fRoasted Chili Corn Salsa\\u002fMedium\",\"Steak Bowl\\u002fRoasted Chili Corn Salsa\\u002fMedium\",\"Steak Burrito\\u002fRoasted Chili Corn Salsa\\u002fMedium\",\"Chicken Bowl\\u002fTomatillo Green Chili Salsa\\u002fMedium\",\"Chicken Burrito\\u002fTomatillo Green Chili Salsa\\u002fMedium\",\"Steak Bowl\\u002fTomatillo Green Chili Salsa\\u002fMedium\",\"Steak Burrito\\u002fTomatillo Green Chili Salsa\\u002fMedium\",\"Chicken Bowl\\u002fFresh Tomato Salsa\\u002fMild\",\"Chicken Burrito\\u002fFresh Tomato Salsa\\u002fMild\",\"Steak Bowl\\u002fFresh Tomato Salsa\\u002fMild\",\"Steak Burrito\\u002fFresh Tomato Salsa\\u002fMild\",\"Chicken Bowl\\u002fFresh Tomato Salsa\\u002fNone\",\"Chicken Burrito\\u002fFresh Tomato Salsa\\u002fNone\",\"Chicken Salad Bowl\\u002fFresh Tomato Salsa\\u002fNone\",\"Steak Bowl\\u002fFresh Tomato Salsa\\u002fNone\",\"Steak Burrito\\u002fFresh Tomato Salsa\\u002fNone\",\"Chicken Bowl\\u002fRoasted Chili Corn Salsa\\u002fNone\",\"Chicken Burrito\\u002fRoasted Chili Corn Salsa\\u002fNone\",\"Chicken Salad Bowl\\u002fRoasted Chili Corn Salsa\\u002fNone\",\"Steak Bowl\\u002fRoasted Chili Corn Salsa\\u002fNone\",\"Steak Burrito\\u002fRoasted Chili Corn Salsa\\u002fNone\",\"Chicken Bowl\\u002fTomatillo Green Chili Salsa\\u002fNone\",\"Chicken Burrito\\u002fTomatillo Green Chili Salsa\\u002fNone\",\"Chicken Salad Bowl\\u002fTomatillo Green Chili Salsa\\u002fNone\",\"Steak Bowl\\u002fTomatillo Green Chili Salsa\\u002fNone\",\"Steak Burrito\\u002fTomatillo Green Chili Salsa\\u002fNone\",\"Chicken Bowl\\u002fTomatillo Red Chili Salsa\\u002fNone\",\"Chicken Burrito\\u002fTomatillo Red Chili Salsa\\u002fNone\",\"Chicken Salad Bowl\\u002fTomatillo Red Chili Salsa\\u002fNone\",\"Steak Bowl\\u002fTomatillo Red Chili Salsa\\u002fNone\",\"Steak Burrito\\u002fTomatillo Red Chili Salsa\\u002fNone\",\"Chicken Bowl\\u002fFresh Tomato Salsa\",\"Chicken Burrito\\u002fFresh Tomato Salsa\",\"Chicken Salad Bowl\\u002fFresh Tomato Salsa\",\"Steak Bowl\\u002fFresh Tomato Salsa\",\"Steak Burrito\\u002fFresh Tomato Salsa\",\"Chicken Bowl\\u002fRoasted Chili Corn Salsa\",\"Chicken Burrito\\u002fRoasted Chili Corn Salsa\",\"Chicken Salad Bowl\\u002fRoasted Chili Corn Salsa\",\"Steak Bowl\\u002fRoasted Chili Corn Salsa\",\"Steak Burrito\\u002fRoasted Chili Corn Salsa\",\"Chicken Bowl\\u002fTomatillo Green Chili Salsa\",\"Chicken Burrito\\u002fTomatillo Green Chili Salsa\",\"Chicken Salad Bowl\\u002fTomatillo Green Chili Salsa\",\"Steak Bowl\\u002fTomatillo Green Chili Salsa\",\"Steak Burrito\\u002fTomatillo Green Chili Salsa\",\"Chicken Bowl\\u002fTomatillo Red Chili Salsa\",\"Chicken Burrito\\u002fTomatillo Red Chili Salsa\",\"Chicken Salad Bowl\\u002fTomatillo Red Chili Salsa\",\"Steak Bowl\\u002fTomatillo Red Chili Salsa\",\"Steak Burrito\\u002fTomatillo Red Chili Salsa\",\"Chicken Bowl\",\"Chicken Burrito\",\"Chicken Salad Bowl\",\"Steak Bowl\",\"Steak Burrito\"],\"labels\":[\"Hot\",\"Hot\",\"Hot\",\"Hot\",\"Medium\",\"Medium\",\"Medium\",\"Medium\",\"Medium\",\"Medium\",\"Medium\",\"Medium\",\"Mild\",\"Mild\",\"Mild\",\"Mild\",\"None\",\"None\",\"None\",\"None\",\"None\",\"None\",\"None\",\"None\",\"None\",\"None\",\"None\",\"None\",\"None\",\"None\",\"None\",\"None\",\"None\",\"None\",\"None\",\"None\",\"Fresh Tomato Salsa\",\"Fresh Tomato Salsa\",\"Fresh Tomato Salsa\",\"Fresh Tomato Salsa\",\"Fresh Tomato Salsa\",\"Roasted Chili Corn Salsa\",\"Roasted Chili Corn Salsa\",\"Roasted Chili Corn Salsa\",\"Roasted Chili Corn Salsa\",\"Roasted Chili Corn Salsa\",\"Tomatillo Green Chili Salsa\",\"Tomatillo Green Chili Salsa\",\"Tomatillo Green Chili Salsa\",\"Tomatillo Green Chili Salsa\",\"Tomatillo Green Chili Salsa\",\"Tomatillo Red Chili Salsa\",\"Tomatillo Red Chili Salsa\",\"Tomatillo Red Chili Salsa\",\"Tomatillo Red Chili Salsa\",\"Tomatillo Red Chili Salsa\",\"Chicken Bowl\",\"Chicken Burrito\",\"Chicken Salad Bowl\",\"Steak Bowl\",\"Steak Burrito\"],\"name\":\"\",\"parents\":[\"Chicken Bowl\\u002fTomatillo Red Chili Salsa\",\"Chicken Burrito\\u002fTomatillo Red Chili Salsa\",\"Steak Bowl\\u002fTomatillo Red Chili Salsa\",\"Steak Burrito\\u002fTomatillo Red Chili Salsa\",\"Chicken Bowl\\u002fRoasted Chili Corn Salsa\",\"Chicken Burrito\\u002fRoasted Chili Corn Salsa\",\"Steak Bowl\\u002fRoasted Chili Corn Salsa\",\"Steak Burrito\\u002fRoasted Chili Corn Salsa\",\"Chicken Bowl\\u002fTomatillo Green Chili Salsa\",\"Chicken Burrito\\u002fTomatillo Green Chili Salsa\",\"Steak Bowl\\u002fTomatillo Green Chili Salsa\",\"Steak Burrito\\u002fTomatillo Green Chili Salsa\",\"Chicken Bowl\\u002fFresh Tomato Salsa\",\"Chicken Burrito\\u002fFresh Tomato Salsa\",\"Steak Bowl\\u002fFresh Tomato Salsa\",\"Steak Burrito\\u002fFresh Tomato Salsa\",\"Chicken Bowl\\u002fFresh Tomato Salsa\",\"Chicken Burrito\\u002fFresh Tomato Salsa\",\"Chicken Salad Bowl\\u002fFresh Tomato Salsa\",\"Steak Bowl\\u002fFresh Tomato Salsa\",\"Steak Burrito\\u002fFresh Tomato Salsa\",\"Chicken Bowl\\u002fRoasted Chili Corn Salsa\",\"Chicken Burrito\\u002fRoasted Chili Corn Salsa\",\"Chicken Salad Bowl\\u002fRoasted Chili Corn Salsa\",\"Steak Bowl\\u002fRoasted Chili Corn Salsa\",\"Steak Burrito\\u002fRoasted Chili Corn Salsa\",\"Chicken Bowl\\u002fTomatillo Green Chili Salsa\",\"Chicken Burrito\\u002fTomatillo Green Chili Salsa\",\"Chicken Salad Bowl\\u002fTomatillo Green Chili Salsa\",\"Steak Bowl\\u002fTomatillo Green Chili Salsa\",\"Steak Burrito\\u002fTomatillo Green Chili Salsa\",\"Chicken Bowl\\u002fTomatillo Red Chili Salsa\",\"Chicken Burrito\\u002fTomatillo Red Chili Salsa\",\"Chicken Salad Bowl\\u002fTomatillo Red Chili Salsa\",\"Steak Bowl\\u002fTomatillo Red Chili Salsa\",\"Steak Burrito\\u002fTomatillo Red Chili Salsa\",\"Chicken Bowl\",\"Chicken Burrito\",\"Chicken Salad Bowl\",\"Steak Bowl\",\"Steak Burrito\",\"Chicken Bowl\",\"Chicken Burrito\",\"Chicken Salad Bowl\",\"Steak Bowl\",\"Steak Burrito\",\"Chicken Bowl\",\"Chicken Burrito\",\"Chicken Salad Bowl\",\"Steak Bowl\",\"Steak Burrito\",\"Chicken Bowl\",\"Chicken Burrito\",\"Chicken Salad Bowl\",\"Steak Bowl\",\"Steak Burrito\",\"\",\"\",\"\",\"\",\"\"],\"values\":[48,35,12,23,46,35,20,48,14,30,3,15,75,56,22,56,338,234,77,75,102,107,67,21,41,53,65,40,19,18,35,62,78,6,23,38,413,290,77,97,158,153,102,21,61,101,79,70,19,21,50,110,113,6,35,61,755,575,123,214,370],\"type\":\"sunburst\"}],                        {\"template\":{\"data\":{\"histogram2dcontour\":[{\"type\":\"histogram2dcontour\",\"colorbar\":{\"outlinewidth\":0,\"ticks\":\"\"},\"colorscale\":[[0.0,\"#0d0887\"],[0.1111111111111111,\"#46039f\"],[0.2222222222222222,\"#7201a8\"],[0.3333333333333333,\"#9c179e\"],[0.4444444444444444,\"#bd3786\"],[0.5555555555555556,\"#d8576b\"],[0.6666666666666666,\"#ed7953\"],[0.7777777777777778,\"#fb9f3a\"],[0.8888888888888888,\"#fdca26\"],[1.0,\"#f0f921\"]]}],\"choropleth\":[{\"type\":\"choropleth\",\"colorbar\":{\"outlinewidth\":0,\"ticks\":\"\"}}],\"histogram2d\":[{\"type\":\"histogram2d\",\"colorbar\":{\"outlinewidth\":0,\"ticks\":\"\"},\"colorscale\":[[0.0,\"#0d0887\"],[0.1111111111111111,\"#46039f\"],[0.2222222222222222,\"#7201a8\"],[0.3333333333333333,\"#9c179e\"],[0.4444444444444444,\"#bd3786\"],[0.5555555555555556,\"#d8576b\"],[0.6666666666666666,\"#ed7953\"],[0.7777777777777778,\"#fb9f3a\"],[0.8888888888888888,\"#fdca26\"],[1.0,\"#f0f921\"]]}],\"heatmap\":[{\"type\":\"heatmap\",\"colorbar\":{\"outlinewidth\":0,\"ticks\":\"\"},\"colorscale\":[[0.0,\"#0d0887\"],[0.1111111111111111,\"#46039f\"],[0.2222222222222222,\"#7201a8\"],[0.3333333333333333,\"#9c179e\"],[0.4444444444444444,\"#bd3786\"],[0.5555555555555556,\"#d8576b\"],[0.6666666666666666,\"#ed7953\"],[0.7777777777777778,\"#fb9f3a\"],[0.8888888888888888,\"#fdca26\"],[1.0,\"#f0f921\"]]}],\"heatmapgl\":[{\"type\":\"heatmapgl\",\"colorbar\":{\"outlinewidth\":0,\"ticks\":\"\"},\"colorscale\":[[0.0,\"#0d0887\"],[0.1111111111111111,\"#46039f\"],[0.2222222222222222,\"#7201a8\"],[0.3333333333333333,\"#9c179e\"],[0.4444444444444444,\"#bd3786\"],[0.5555555555555556,\"#d8576b\"],[0.6666666666666666,\"#ed7953\"],[0.7777777777777778,\"#fb9f3a\"],[0.8888888888888888,\"#fdca26\"],[1.0,\"#f0f921\"]]}],\"contourcarpet\":[{\"type\":\"contourcarpet\",\"colorbar\":{\"outlinewidth\":0,\"ticks\":\"\"}}],\"contour\":[{\"type\":\"contour\",\"colorbar\":{\"outlinewidth\":0,\"ticks\":\"\"},\"colorscale\":[[0.0,\"#0d0887\"],[0.1111111111111111,\"#46039f\"],[0.2222222222222222,\"#7201a8\"],[0.3333333333333333,\"#9c179e\"],[0.4444444444444444,\"#bd3786\"],[0.5555555555555556,\"#d8576b\"],[0.6666666666666666,\"#ed7953\"],[0.7777777777777778,\"#fb9f3a\"],[0.8888888888888888,\"#fdca26\"],[1.0,\"#f0f921\"]]}],\"surface\":[{\"type\":\"surface\",\"colorbar\":{\"outlinewidth\":0,\"ticks\":\"\"},\"colorscale\":[[0.0,\"#0d0887\"],[0.1111111111111111,\"#46039f\"],[0.2222222222222222,\"#7201a8\"],[0.3333333333333333,\"#9c179e\"],[0.4444444444444444,\"#bd3786\"],[0.5555555555555556,\"#d8576b\"],[0.6666666666666666,\"#ed7953\"],[0.7777777777777778,\"#fb9f3a\"],[0.8888888888888888,\"#fdca26\"],[1.0,\"#f0f921\"]]}],\"mesh3d\":[{\"type\":\"mesh3d\",\"colorbar\":{\"outlinewidth\":0,\"ticks\":\"\"}}],\"scatter\":[{\"fillpattern\":{\"fillmode\":\"overlay\",\"size\":10,\"solidity\":0.2},\"type\":\"scatter\"}],\"parcoords\":[{\"type\":\"parcoords\",\"line\":{\"colorbar\":{\"outlinewidth\":0,\"ticks\":\"\"}}}],\"scatterpolargl\":[{\"type\":\"scatterpolargl\",\"marker\":{\"colorbar\":{\"outlinewidth\":0,\"ticks\":\"\"}}}],\"bar\":[{\"error_x\":{\"color\":\"#2a3f5f\"},\"error_y\":{\"color\":\"#2a3f5f\"},\"marker\":{\"line\":{\"color\":\"#E5ECF6\",\"width\":0.5},\"pattern\":{\"fillmode\":\"overlay\",\"size\":10,\"solidity\":0.2}},\"type\":\"bar\"}],\"scattergeo\":[{\"type\":\"scattergeo\",\"marker\":{\"colorbar\":{\"outlinewidth\":0,\"ticks\":\"\"}}}],\"scatterpolar\":[{\"type\":\"scatterpolar\",\"marker\":{\"colorbar\":{\"outlinewidth\":0,\"ticks\":\"\"}}}],\"histogram\":[{\"marker\":{\"pattern\":{\"fillmode\":\"overlay\",\"size\":10,\"solidity\":0.2}},\"type\":\"histogram\"}],\"scattergl\":[{\"type\":\"scattergl\",\"marker\":{\"colorbar\":{\"outlinewidth\":0,\"ticks\":\"\"}}}],\"scatter3d\":[{\"type\":\"scatter3d\",\"line\":{\"colorbar\":{\"outlinewidth\":0,\"ticks\":\"\"}},\"marker\":{\"colorbar\":{\"outlinewidth\":0,\"ticks\":\"\"}}}],\"scattermapbox\":[{\"type\":\"scattermapbox\",\"marker\":{\"colorbar\":{\"outlinewidth\":0,\"ticks\":\"\"}}}],\"scatterternary\":[{\"type\":\"scatterternary\",\"marker\":{\"colorbar\":{\"outlinewidth\":0,\"ticks\":\"\"}}}],\"scattercarpet\":[{\"type\":\"scattercarpet\",\"marker\":{\"colorbar\":{\"outlinewidth\":0,\"ticks\":\"\"}}}],\"carpet\":[{\"aaxis\":{\"endlinecolor\":\"#2a3f5f\",\"gridcolor\":\"white\",\"linecolor\":\"white\",\"minorgridcolor\":\"white\",\"startlinecolor\":\"#2a3f5f\"},\"baxis\":{\"endlinecolor\":\"#2a3f5f\",\"gridcolor\":\"white\",\"linecolor\":\"white\",\"minorgridcolor\":\"white\",\"startlinecolor\":\"#2a3f5f\"},\"type\":\"carpet\"}],\"table\":[{\"cells\":{\"fill\":{\"color\":\"#EBF0F8\"},\"line\":{\"color\":\"white\"}},\"header\":{\"fill\":{\"color\":\"#C8D4E3\"},\"line\":{\"color\":\"white\"}},\"type\":\"table\"}],\"barpolar\":[{\"marker\":{\"line\":{\"color\":\"#E5ECF6\",\"width\":0.5},\"pattern\":{\"fillmode\":\"overlay\",\"size\":10,\"solidity\":0.2}},\"type\":\"barpolar\"}],\"pie\":[{\"automargin\":true,\"type\":\"pie\"}]},\"layout\":{\"autotypenumbers\":\"strict\",\"colorway\":[\"#636efa\",\"#EF553B\",\"#00cc96\",\"#ab63fa\",\"#FFA15A\",\"#19d3f3\",\"#FF6692\",\"#B6E880\",\"#FF97FF\",\"#FECB52\"],\"font\":{\"color\":\"#2a3f5f\"},\"hovermode\":\"closest\",\"hoverlabel\":{\"align\":\"left\"},\"paper_bgcolor\":\"white\",\"plot_bgcolor\":\"#E5ECF6\",\"polar\":{\"bgcolor\":\"#E5ECF6\",\"angularaxis\":{\"gridcolor\":\"white\",\"linecolor\":\"white\",\"ticks\":\"\"},\"radialaxis\":{\"gridcolor\":\"white\",\"linecolor\":\"white\",\"ticks\":\"\"}},\"ternary\":{\"bgcolor\":\"#E5ECF6\",\"aaxis\":{\"gridcolor\":\"white\",\"linecolor\":\"white\",\"ticks\":\"\"},\"baxis\":{\"gridcolor\":\"white\",\"linecolor\":\"white\",\"ticks\":\"\"},\"caxis\":{\"gridcolor\":\"white\",\"linecolor\":\"white\",\"ticks\":\"\"}},\"coloraxis\":{\"colorbar\":{\"outlinewidth\":0,\"ticks\":\"\"}},\"colorscale\":{\"sequential\":[[0.0,\"#0d0887\"],[0.1111111111111111,\"#46039f\"],[0.2222222222222222,\"#7201a8\"],[0.3333333333333333,\"#9c179e\"],[0.4444444444444444,\"#bd3786\"],[0.5555555555555556,\"#d8576b\"],[0.6666666666666666,\"#ed7953\"],[0.7777777777777778,\"#fb9f3a\"],[0.8888888888888888,\"#fdca26\"],[1.0,\"#f0f921\"]],\"sequentialminus\":[[0.0,\"#0d0887\"],[0.1111111111111111,\"#46039f\"],[0.2222222222222222,\"#7201a8\"],[0.3333333333333333,\"#9c179e\"],[0.4444444444444444,\"#bd3786\"],[0.5555555555555556,\"#d8576b\"],[0.6666666666666666,\"#ed7953\"],[0.7777777777777778,\"#fb9f3a\"],[0.8888888888888888,\"#fdca26\"],[1.0,\"#f0f921\"]],\"diverging\":[[0,\"#8e0152\"],[0.1,\"#c51b7d\"],[0.2,\"#de77ae\"],[0.3,\"#f1b6da\"],[0.4,\"#fde0ef\"],[0.5,\"#f7f7f7\"],[0.6,\"#e6f5d0\"],[0.7,\"#b8e186\"],[0.8,\"#7fbc41\"],[0.9,\"#4d9221\"],[1,\"#276419\"]]},\"xaxis\":{\"gridcolor\":\"white\",\"linecolor\":\"white\",\"ticks\":\"\",\"title\":{\"standoff\":15},\"zerolinecolor\":\"white\",\"automargin\":true,\"zerolinewidth\":2},\"yaxis\":{\"gridcolor\":\"white\",\"linecolor\":\"white\",\"ticks\":\"\",\"title\":{\"standoff\":15},\"zerolinecolor\":\"white\",\"automargin\":true,\"zerolinewidth\":2},\"scene\":{\"xaxis\":{\"backgroundcolor\":\"#E5ECF6\",\"gridcolor\":\"white\",\"linecolor\":\"white\",\"showbackground\":true,\"ticks\":\"\",\"zerolinecolor\":\"white\",\"gridwidth\":2},\"yaxis\":{\"backgroundcolor\":\"#E5ECF6\",\"gridcolor\":\"white\",\"linecolor\":\"white\",\"showbackground\":true,\"ticks\":\"\",\"zerolinecolor\":\"white\",\"gridwidth\":2},\"zaxis\":{\"backgroundcolor\":\"#E5ECF6\",\"gridcolor\":\"white\",\"linecolor\":\"white\",\"showbackground\":true,\"ticks\":\"\",\"zerolinecolor\":\"white\",\"gridwidth\":2}},\"shapedefaults\":{\"line\":{\"color\":\"#2a3f5f\"}},\"annotationdefaults\":{\"arrowcolor\":\"#2a3f5f\",\"arrowhead\":0,\"arrowwidth\":1},\"geo\":{\"bgcolor\":\"white\",\"landcolor\":\"#E5ECF6\",\"subunitcolor\":\"white\",\"showland\":true,\"showlakes\":true,\"lakecolor\":\"white\"},\"title\":{\"x\":0.05},\"mapbox\":{\"style\":\"light\"}}},\"legend\":{\"tracegroupgap\":0},\"title\":{\"text\":\"Sunburst Chart of Top 5 Most Ordered, Salsa Type, and Spice Level\"}},                        {\"responsive\": true}                    ).then(function(){\n",
              "                            \n",
              "var gd = document.getElementById('d97d8750-7ac0-4cdf-994b-5f03522c846f');\n",
              "var x = new MutationObserver(function (mutations, observer) {{\n",
              "        var display = window.getComputedStyle(gd).display;\n",
              "        if (!display || display === 'none') {{\n",
              "            console.log([gd, 'removed!']);\n",
              "            Plotly.purge(gd);\n",
              "            observer.disconnect();\n",
              "        }}\n",
              "}});\n",
              "\n",
              "// Listen for the removal of the full notebook cells\n",
              "var notebookContainer = gd.closest('#notebook-container');\n",
              "if (notebookContainer) {{\n",
              "    x.observe(notebookContainer, {childList: true});\n",
              "}}\n",
              "\n",
              "// Listen for the clearing of the current output cell\n",
              "var outputEl = gd.closest('.output');\n",
              "if (outputEl) {{\n",
              "    x.observe(outputEl, {childList: true});\n",
              "}}\n",
              "\n",
              "                        })                };                            </script>        </div>\n",
              "</body>\n",
              "</html>"
            ]
          },
          "metadata": {}
        }
      ]
    }
  ]
}